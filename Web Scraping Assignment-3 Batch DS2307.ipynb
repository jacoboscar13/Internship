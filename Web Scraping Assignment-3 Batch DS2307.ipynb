{
 "cells": [
  {
   "cell_type": "markdown",
   "id": "680ce245",
   "metadata": {},
   "source": [
    "# 1.Write a python program which searches all the product under a particular product from www.amazon.in. Theproduct to be searched will be taken as input from user. For e.g. If user input is ‘guitar’. Then search for guitars. "
   ]
  },
  {
   "cell_type": "code",
   "execution_count": 1,
   "id": "d10eaf50",
   "metadata": {},
   "outputs": [],
   "source": [
    "import selenium\n",
    "from selenium import webdriver\n",
    "import pandas as pd\n",
    "from selenium.webdriver.common.by import By\n",
    "import warnings\n",
    "warnings.filterwarnings('ignore')\n",
    "import time\n",
    "from selenium.common.exceptions import StaleElementReferenceException, NoSuchElementException, TimeoutException\n",
    "from selenium.webdriver.support import expected_conditions as EC\n",
    "from selenium.webdriver.chrome.options import Options\n",
    "import pandas as pd\n",
    "from selenium.webdriver.support.ui import WebDriverWait\n",
    "from bs4 import BeautifulSoup\n",
    "import requests"
   ]
  },
  {
   "cell_type": "code",
   "execution_count": 35,
   "id": "f75e297d",
   "metadata": {},
   "outputs": [
    {
     "name": "stdout",
     "output_type": "stream",
     "text": [
      "Enter product name guitar\n"
     ]
    }
   ],
   "source": [
    "Product = input('Enter product name ')\n",
    "driver = webdriver.Chrome()\n",
    "driver.get('http://www.amazon.in/')\n",
    "designation = driver.find_element(By.XPATH,\"/html/body/div[1]/header/div/div[1]/div[2]/div/form/div[2]/div[1]/input\")\n",
    "designation.send_keys(Product)\n",
    "search = driver.find_element(By.XPATH,\"/html/body/div[1]/header/div/div[1]/div[2]/div/form/div[3]/div/span/input\")\n",
    "search.click()"
   ]
  },
  {
   "cell_type": "markdown",
   "id": "ca6b94d2",
   "metadata": {},
   "source": [
    "# 2.In the above question, now scrape the following details of each product listed in first 3 pages of your searchresults and save it in a data frame and csv. In case if any product has less than 3 pages in search results thenscrape all the products available under that product name. Details to be scraped are: \"BrandName\", \"Name of the Product\", \"Price\", \"Return/Exchange\", \"Expected Delivery\", \"Availability\" and“Product URL”. In case, if any of the details are missing for any of the product then replace it by “-“. "
   ]
  },
  {
   "cell_type": "code",
   "execution_count": 94,
   "id": "c51925f7",
   "metadata": {},
   "outputs": [
    {
     "ename": "ValueError",
     "evalue": "Length of values (183) does not match length of index (198)",
     "output_type": "error",
     "traceback": [
      "\u001b[1;31m---------------------------------------------------------------------------\u001b[0m",
      "\u001b[1;31mValueError\u001b[0m                                Traceback (most recent call last)",
      "\u001b[1;32m~\\AppData\\Local\\Temp\\ipykernel_13908\\3160431018.py\u001b[0m in \u001b[0;36m<module>\u001b[1;34m\u001b[0m\n\u001b[0;32m     54\u001b[0m \u001b[1;33m\u001b[0m\u001b[0m\n\u001b[0;32m     55\u001b[0m \u001b[1;33m\u001b[0m\u001b[0m\n\u001b[1;32m---> 56\u001b[1;33m \u001b[0mdf\u001b[0m \u001b[1;33m=\u001b[0m \u001b[0mpd\u001b[0m\u001b[1;33m.\u001b[0m\u001b[0mDataFrame\u001b[0m\u001b[1;33m(\u001b[0m\u001b[1;33m{\u001b[0m\u001b[1;34m'Brand Name'\u001b[0m\u001b[1;33m:\u001b[0m \u001b[0mBN\u001b[0m\u001b[1;33m,\u001b[0m\u001b[1;34m'Name of the Product'\u001b[0m\u001b[1;33m:\u001b[0m \u001b[0mNOP\u001b[0m\u001b[1;33m,\u001b[0m\u001b[1;34m'Price'\u001b[0m\u001b[1;33m:\u001b[0m \u001b[0mPrice\u001b[0m\u001b[1;33m,\u001b[0m\u001b[1;34m'Return/Exchange'\u001b[0m\u001b[1;33m:\u001b[0m \u001b[0mRE\u001b[0m\u001b[1;33m,\u001b[0m\u001b[1;34m'Expected Delivery'\u001b[0m\u001b[1;33m:\u001b[0m \u001b[0mED\u001b[0m\u001b[1;33m,\u001b[0m\u001b[1;34m'Availability'\u001b[0m\u001b[1;33m:\u001b[0m \u001b[0mAVB\u001b[0m\u001b[1;33m,\u001b[0m\u001b[1;34m'Product URL'\u001b[0m\u001b[1;33m:\u001b[0m \u001b[0murl\u001b[0m\u001b[1;33m}\u001b[0m\u001b[1;33m,\u001b[0m\u001b[0mindex\u001b[0m\u001b[1;33m=\u001b[0m \u001b[0mrange\u001b[0m\u001b[1;33m(\u001b[0m\u001b[1;36m1\u001b[0m\u001b[1;33m,\u001b[0m\u001b[1;36m199\u001b[0m\u001b[1;33m)\u001b[0m\u001b[1;33m)\u001b[0m\u001b[1;33m\u001b[0m\u001b[1;33m\u001b[0m\u001b[0m\n\u001b[0m",
      "\u001b[1;32mC:\\ProgramData\\Anaconda3\\lib\\site-packages\\pandas\\core\\frame.py\u001b[0m in \u001b[0;36m__init__\u001b[1;34m(self, data, index, columns, dtype, copy)\u001b[0m\n\u001b[0;32m    634\u001b[0m         \u001b[1;32melif\u001b[0m \u001b[0misinstance\u001b[0m\u001b[1;33m(\u001b[0m\u001b[0mdata\u001b[0m\u001b[1;33m,\u001b[0m \u001b[0mdict\u001b[0m\u001b[1;33m)\u001b[0m\u001b[1;33m:\u001b[0m\u001b[1;33m\u001b[0m\u001b[1;33m\u001b[0m\u001b[0m\n\u001b[0;32m    635\u001b[0m             \u001b[1;31m# GH#38939 de facto copy defaults to False only in non-dict cases\u001b[0m\u001b[1;33m\u001b[0m\u001b[1;33m\u001b[0m\u001b[0m\n\u001b[1;32m--> 636\u001b[1;33m             \u001b[0mmgr\u001b[0m \u001b[1;33m=\u001b[0m \u001b[0mdict_to_mgr\u001b[0m\u001b[1;33m(\u001b[0m\u001b[0mdata\u001b[0m\u001b[1;33m,\u001b[0m \u001b[0mindex\u001b[0m\u001b[1;33m,\u001b[0m \u001b[0mcolumns\u001b[0m\u001b[1;33m,\u001b[0m \u001b[0mdtype\u001b[0m\u001b[1;33m=\u001b[0m\u001b[0mdtype\u001b[0m\u001b[1;33m,\u001b[0m \u001b[0mcopy\u001b[0m\u001b[1;33m=\u001b[0m\u001b[0mcopy\u001b[0m\u001b[1;33m,\u001b[0m \u001b[0mtyp\u001b[0m\u001b[1;33m=\u001b[0m\u001b[0mmanager\u001b[0m\u001b[1;33m)\u001b[0m\u001b[1;33m\u001b[0m\u001b[1;33m\u001b[0m\u001b[0m\n\u001b[0m\u001b[0;32m    637\u001b[0m         \u001b[1;32melif\u001b[0m \u001b[0misinstance\u001b[0m\u001b[1;33m(\u001b[0m\u001b[0mdata\u001b[0m\u001b[1;33m,\u001b[0m \u001b[0mma\u001b[0m\u001b[1;33m.\u001b[0m\u001b[0mMaskedArray\u001b[0m\u001b[1;33m)\u001b[0m\u001b[1;33m:\u001b[0m\u001b[1;33m\u001b[0m\u001b[1;33m\u001b[0m\u001b[0m\n\u001b[0;32m    638\u001b[0m             \u001b[1;32mimport\u001b[0m \u001b[0mnumpy\u001b[0m\u001b[1;33m.\u001b[0m\u001b[0mma\u001b[0m\u001b[1;33m.\u001b[0m\u001b[0mmrecords\u001b[0m \u001b[1;32mas\u001b[0m \u001b[0mmrecords\u001b[0m\u001b[1;33m\u001b[0m\u001b[1;33m\u001b[0m\u001b[0m\n",
      "\u001b[1;32mC:\\ProgramData\\Anaconda3\\lib\\site-packages\\pandas\\core\\internals\\construction.py\u001b[0m in \u001b[0;36mdict_to_mgr\u001b[1;34m(data, index, columns, dtype, typ, copy)\u001b[0m\n\u001b[0;32m    500\u001b[0m         \u001b[1;31m# TODO: can we get rid of the dt64tz special case above?\u001b[0m\u001b[1;33m\u001b[0m\u001b[1;33m\u001b[0m\u001b[0m\n\u001b[0;32m    501\u001b[0m \u001b[1;33m\u001b[0m\u001b[0m\n\u001b[1;32m--> 502\u001b[1;33m     \u001b[1;32mreturn\u001b[0m \u001b[0marrays_to_mgr\u001b[0m\u001b[1;33m(\u001b[0m\u001b[0marrays\u001b[0m\u001b[1;33m,\u001b[0m \u001b[0mcolumns\u001b[0m\u001b[1;33m,\u001b[0m \u001b[0mindex\u001b[0m\u001b[1;33m,\u001b[0m \u001b[0mdtype\u001b[0m\u001b[1;33m=\u001b[0m\u001b[0mdtype\u001b[0m\u001b[1;33m,\u001b[0m \u001b[0mtyp\u001b[0m\u001b[1;33m=\u001b[0m\u001b[0mtyp\u001b[0m\u001b[1;33m,\u001b[0m \u001b[0mconsolidate\u001b[0m\u001b[1;33m=\u001b[0m\u001b[0mcopy\u001b[0m\u001b[1;33m)\u001b[0m\u001b[1;33m\u001b[0m\u001b[1;33m\u001b[0m\u001b[0m\n\u001b[0m\u001b[0;32m    503\u001b[0m \u001b[1;33m\u001b[0m\u001b[0m\n\u001b[0;32m    504\u001b[0m \u001b[1;33m\u001b[0m\u001b[0m\n",
      "\u001b[1;32mC:\\ProgramData\\Anaconda3\\lib\\site-packages\\pandas\\core\\internals\\construction.py\u001b[0m in \u001b[0;36marrays_to_mgr\u001b[1;34m(arrays, columns, index, dtype, verify_integrity, typ, consolidate)\u001b[0m\n\u001b[0;32m    123\u001b[0m \u001b[1;33m\u001b[0m\u001b[0m\n\u001b[0;32m    124\u001b[0m         \u001b[1;31m# don't force copy because getting jammed in an ndarray anyway\u001b[0m\u001b[1;33m\u001b[0m\u001b[1;33m\u001b[0m\u001b[0m\n\u001b[1;32m--> 125\u001b[1;33m         \u001b[0marrays\u001b[0m \u001b[1;33m=\u001b[0m \u001b[0m_homogenize\u001b[0m\u001b[1;33m(\u001b[0m\u001b[0marrays\u001b[0m\u001b[1;33m,\u001b[0m \u001b[0mindex\u001b[0m\u001b[1;33m,\u001b[0m \u001b[0mdtype\u001b[0m\u001b[1;33m)\u001b[0m\u001b[1;33m\u001b[0m\u001b[1;33m\u001b[0m\u001b[0m\n\u001b[0m\u001b[0;32m    126\u001b[0m         \u001b[1;31m# _homogenize ensures\u001b[0m\u001b[1;33m\u001b[0m\u001b[1;33m\u001b[0m\u001b[0m\n\u001b[0;32m    127\u001b[0m         \u001b[1;31m#  - all(len(x) == len(index) for x in arrays)\u001b[0m\u001b[1;33m\u001b[0m\u001b[1;33m\u001b[0m\u001b[0m\n",
      "\u001b[1;32mC:\\ProgramData\\Anaconda3\\lib\\site-packages\\pandas\\core\\internals\\construction.py\u001b[0m in \u001b[0;36m_homogenize\u001b[1;34m(data, index, dtype)\u001b[0m\n\u001b[0;32m    626\u001b[0m                 \u001b[0mval\u001b[0m\u001b[1;33m,\u001b[0m \u001b[0mindex\u001b[0m\u001b[1;33m,\u001b[0m \u001b[0mdtype\u001b[0m\u001b[1;33m=\u001b[0m\u001b[0mdtype\u001b[0m\u001b[1;33m,\u001b[0m \u001b[0mcopy\u001b[0m\u001b[1;33m=\u001b[0m\u001b[1;32mFalse\u001b[0m\u001b[1;33m,\u001b[0m \u001b[0mraise_cast_failure\u001b[0m\u001b[1;33m=\u001b[0m\u001b[1;32mFalse\u001b[0m\u001b[1;33m\u001b[0m\u001b[1;33m\u001b[0m\u001b[0m\n\u001b[0;32m    627\u001b[0m             )\n\u001b[1;32m--> 628\u001b[1;33m             \u001b[0mcom\u001b[0m\u001b[1;33m.\u001b[0m\u001b[0mrequire_length_match\u001b[0m\u001b[1;33m(\u001b[0m\u001b[0mval\u001b[0m\u001b[1;33m,\u001b[0m \u001b[0mindex\u001b[0m\u001b[1;33m)\u001b[0m\u001b[1;33m\u001b[0m\u001b[1;33m\u001b[0m\u001b[0m\n\u001b[0m\u001b[0;32m    629\u001b[0m \u001b[1;33m\u001b[0m\u001b[0m\n\u001b[0;32m    630\u001b[0m         \u001b[0mhomogenized\u001b[0m\u001b[1;33m.\u001b[0m\u001b[0mappend\u001b[0m\u001b[1;33m(\u001b[0m\u001b[0mval\u001b[0m\u001b[1;33m)\u001b[0m\u001b[1;33m\u001b[0m\u001b[1;33m\u001b[0m\u001b[0m\n",
      "\u001b[1;32mC:\\ProgramData\\Anaconda3\\lib\\site-packages\\pandas\\core\\common.py\u001b[0m in \u001b[0;36mrequire_length_match\u001b[1;34m(data, index)\u001b[0m\n\u001b[0;32m    555\u001b[0m     \"\"\"\n\u001b[0;32m    556\u001b[0m     \u001b[1;32mif\u001b[0m \u001b[0mlen\u001b[0m\u001b[1;33m(\u001b[0m\u001b[0mdata\u001b[0m\u001b[1;33m)\u001b[0m \u001b[1;33m!=\u001b[0m \u001b[0mlen\u001b[0m\u001b[1;33m(\u001b[0m\u001b[0mindex\u001b[0m\u001b[1;33m)\u001b[0m\u001b[1;33m:\u001b[0m\u001b[1;33m\u001b[0m\u001b[1;33m\u001b[0m\u001b[0m\n\u001b[1;32m--> 557\u001b[1;33m         raise ValueError(\n\u001b[0m\u001b[0;32m    558\u001b[0m             \u001b[1;34m\"Length of values \"\u001b[0m\u001b[1;33m\u001b[0m\u001b[1;33m\u001b[0m\u001b[0m\n\u001b[0;32m    559\u001b[0m             \u001b[1;34mf\"({len(data)}) \"\u001b[0m\u001b[1;33m\u001b[0m\u001b[1;33m\u001b[0m\u001b[0m\n",
      "\u001b[1;31mValueError\u001b[0m: Length of values (183) does not match length of index (198)"
     ]
    }
   ],
   "source": [
    "url = []\n",
    "BN = []\n",
    "NOP = []\n",
    "Price = []\n",
    "RE = []\n",
    "ED = []\n",
    "AVB = []\n",
    "for page in range(0,3):\n",
    "    link = driver.find_elements(By.XPATH,'//a[@class=\"a-link-normal s-underline-text s-underline-link-text s-link-style a-text-normal\"]')\n",
    "    for i in link:\n",
    "        url.append(i.get_attribute('href'))\n",
    "        next_button =driver.find_elements(By.XPATH,'/html/body/div[1]/div[2]/div[1]/div[1]/div/span[1]/div[1]/div[67]/div/div/span/a[3]')\n",
    "    \n",
    "for x in url:\n",
    "    driver.get(x)\n",
    "    time.sleep(5)\n",
    "    try:\n",
    "        brand_name = driver.find_element(By.XPATH,'/html/body/div[2]/div[2]/div[5]/div[3]/div[4]/div[46]/div/table/tbody/tr[1]/td[2]/span')\n",
    "        BN.append(brand_name.text)\n",
    "    except NoSuchElementException:\n",
    "        BN.append('-') \n",
    "    try:\n",
    "        name_of_product = driver.find_element(By.XPATH,'/html/body/div[2]/div[2]/div[5]/div[3]/div[4]/div[1]/div/h1')\n",
    "        NOP.append(name_of_product.text)\n",
    "    except NoSuchElementException:\n",
    "        NOP.append('-')\n",
    "    try:\n",
    "        price = driver.find_element(By.XPATH,'/html/body/div[2]/div[2]/div[5]/div[3]/div[4]/div[12]/div[4]/div[1]/span[2]/span[2]/span[2]')\n",
    "        Price.append(price.text)\n",
    "    except NoSuchElementException:\n",
    "        Price.append('-')\n",
    "    try:\n",
    "        return_exchange = driver.find_element(By.XPATH,'/html/body/div[2]/div[2]/div[5]/div[3]/div[4]/div[23]/div[2]/div/div/div/div[2]/div/ol/li[3]/div/span/div[2]/span')\n",
    "        RE.append(return_exchange.text)\n",
    "    except NoSuchElementException:\n",
    "        RE.append('-')\n",
    "    try:\n",
    "        expected = driver.find_element(By.XPATH,'/html/body/div[2]/div[2]/div[5]/div[3]/div[1]/div[3]/div/div[1]/div/div/div/form/div/div/div/div/div[3]/div/div[2]/div[9]/div[1]/div/div/div/span/span[1]')\n",
    "        ED.append(expected.text)\n",
    "    except NoSuchElementException:\n",
    "        ED.append('-')\n",
    "    try:\n",
    "        availability = driver.find_element(By.XPATH,'/html/body/div[2]/div[2]/div[5]/div[3]/div[1]/div[3]/div/div[1]/div/div/div/form/div/div/div/div/div[3]/div/div[4]/div/div[1]/span')\n",
    "        AVB.append(availability .text)\n",
    "    except NoSuchElementException:\n",
    "        AVB.append('-')\n",
    "    if page<2:\n",
    "        try:\n",
    "            next_button =driver.find_elements(By.XPATH,'/html/body/div[1]/div[2]/div[1]/div[1]/div/span[1]/div[1]/div[67]/div/div/span/a[3]')\n",
    "            next_button.click()\n",
    "        except:\n",
    "            break"
   ]
  },
  {
   "cell_type": "code",
   "execution_count": 99,
   "id": "072e241f",
   "metadata": {},
   "outputs": [
    {
     "data": {
      "text/html": [
       "<div>\n",
       "<style scoped>\n",
       "    .dataframe tbody tr th:only-of-type {\n",
       "        vertical-align: middle;\n",
       "    }\n",
       "\n",
       "    .dataframe tbody tr th {\n",
       "        vertical-align: top;\n",
       "    }\n",
       "\n",
       "    .dataframe thead th {\n",
       "        text-align: right;\n",
       "    }\n",
       "</style>\n",
       "<table border=\"1\" class=\"dataframe\">\n",
       "  <thead>\n",
       "    <tr style=\"text-align: right;\">\n",
       "      <th></th>\n",
       "      <th>Brand Name</th>\n",
       "      <th>Name of the Product</th>\n",
       "      <th>Price</th>\n",
       "      <th>Return/Exchange</th>\n",
       "      <th>Expected Delivery</th>\n",
       "      <th>Availability</th>\n",
       "      <th>Product URL</th>\n",
       "    </tr>\n",
       "  </thead>\n",
       "  <tbody>\n",
       "    <tr>\n",
       "      <th>1</th>\n",
       "      <td>Kadence</td>\n",
       "      <td>Kadence rosewood Guitar Frontier Series, Elect...</td>\n",
       "      <td>4,999</td>\n",
       "      <td>7 days Replacement</td>\n",
       "      <td>Thursday, 7 September</td>\n",
       "      <td>In stock</td>\n",
       "      <td>https://www.amazon.in/sspa/click?ie=UTF8&amp;spc=M...</td>\n",
       "    </tr>\n",
       "    <tr>\n",
       "      <th>2</th>\n",
       "      <td>Kadence</td>\n",
       "      <td>Kadence Slowhand Premium Jumbo Semi Acoustic G...</td>\n",
       "      <td>11,999</td>\n",
       "      <td>7 days Replacement</td>\n",
       "      <td>Saturday, 9 September</td>\n",
       "      <td>In stock</td>\n",
       "      <td>https://www.amazon.in/sspa/click?ie=UTF8&amp;spc=M...</td>\n",
       "    </tr>\n",
       "    <tr>\n",
       "      <th>3</th>\n",
       "      <td>Medellin</td>\n",
       "      <td>Medellin Acoustic Guitar (with guitar learning...</td>\n",
       "      <td>2,499</td>\n",
       "      <td>7 days Replacement</td>\n",
       "      <td>Saturday, 9 September</td>\n",
       "      <td>In stock</td>\n",
       "      <td>https://www.amazon.in/sspa/click?ie=UTF8&amp;spc=M...</td>\n",
       "    </tr>\n",
       "    <tr>\n",
       "      <th>4</th>\n",
       "      <td>allmusicmart</td>\n",
       "      <td>“ALL WOODEN” 38” INCH Guitar Combo Pack For Be...</td>\n",
       "      <td>2,850</td>\n",
       "      <td>-</td>\n",
       "      <td>8 - 11 September</td>\n",
       "      <td>In stock</td>\n",
       "      <td>https://www.amazon.in/sspa/click?ie=UTF8&amp;spc=M...</td>\n",
       "    </tr>\n",
       "    <tr>\n",
       "      <th>5</th>\n",
       "      <td>JUAREZ</td>\n",
       "      <td>Juârez Acoustic Guitar, 38 Inch Cutaway, 038C ...</td>\n",
       "      <td>1,999</td>\n",
       "      <td>7 days Replacement</td>\n",
       "      <td>Wednesday, 6 September</td>\n",
       "      <td>In stock</td>\n",
       "      <td>https://www.amazon.in/Juarez-Acoustic-Cutaway-...</td>\n",
       "    </tr>\n",
       "    <tr>\n",
       "      <th>...</th>\n",
       "      <td>...</td>\n",
       "      <td>...</td>\n",
       "      <td>...</td>\n",
       "      <td>...</td>\n",
       "      <td>...</td>\n",
       "      <td>...</td>\n",
       "      <td>...</td>\n",
       "    </tr>\n",
       "    <tr>\n",
       "      <th>179</th>\n",
       "      <td>-</td>\n",
       "      <td>-</td>\n",
       "      <td>-</td>\n",
       "      <td>-</td>\n",
       "      <td>-</td>\n",
       "      <td>-</td>\n",
       "      <td>https://www.amazon.in/FX280-acoustic-Dreadnoug...</td>\n",
       "    </tr>\n",
       "    <tr>\n",
       "      <th>180</th>\n",
       "      <td>musicalworks.in</td>\n",
       "      <td>Musical Works Guitar, Acoustic Guitar, 40 Inch...</td>\n",
       "      <td>5,782</td>\n",
       "      <td>-</td>\n",
       "      <td>Saturday, 9 September</td>\n",
       "      <td>In stock</td>\n",
       "      <td>https://www.amazon.in/sspa/click?ie=UTF8&amp;spc=M...</td>\n",
       "    </tr>\n",
       "    <tr>\n",
       "      <th>181</th>\n",
       "      <td>HOVNER</td>\n",
       "      <td>Hovner Carlton Special Quality Rosewood Fretbo...</td>\n",
       "      <td>4,880</td>\n",
       "      <td>7 days Replacement</td>\n",
       "      <td>Monday, 11 September</td>\n",
       "      <td>In stock</td>\n",
       "      <td>https://www.amazon.in/sspa/click?ie=UTF8&amp;spc=M...</td>\n",
       "    </tr>\n",
       "    <tr>\n",
       "      <th>182</th>\n",
       "      <td>-</td>\n",
       "      <td>-</td>\n",
       "      <td>-</td>\n",
       "      <td>-</td>\n",
       "      <td>-</td>\n",
       "      <td>-</td>\n",
       "      <td>https://www.amazon.in/sspa/click?ie=UTF8&amp;spc=M...</td>\n",
       "    </tr>\n",
       "    <tr>\n",
       "      <th>183</th>\n",
       "      <td>blueberry</td>\n",
       "      <td>Blueberry B-38, 38\" Acoustic Guitar Kit Inbuil...</td>\n",
       "      <td>2,655</td>\n",
       "      <td>7 days Replacement</td>\n",
       "      <td>Thursday, 7 September</td>\n",
       "      <td>In stock</td>\n",
       "      <td>https://www.amazon.in/sspa/click?ie=UTF8&amp;spc=M...</td>\n",
       "    </tr>\n",
       "  </tbody>\n",
       "</table>\n",
       "<p>183 rows × 7 columns</p>\n",
       "</div>"
      ],
      "text/plain": [
       "          Brand Name                                Name of the Product  \\\n",
       "1            Kadence  Kadence rosewood Guitar Frontier Series, Elect...   \n",
       "2            Kadence  Kadence Slowhand Premium Jumbo Semi Acoustic G...   \n",
       "3           Medellin  Medellin Acoustic Guitar (with guitar learning...   \n",
       "4       allmusicmart  “ALL WOODEN” 38” INCH Guitar Combo Pack For Be...   \n",
       "5             JUAREZ  Juârez Acoustic Guitar, 38 Inch Cutaway, 038C ...   \n",
       "..               ...                                                ...   \n",
       "179                -                                                  -   \n",
       "180  musicalworks.in  Musical Works Guitar, Acoustic Guitar, 40 Inch...   \n",
       "181           HOVNER  Hovner Carlton Special Quality Rosewood Fretbo...   \n",
       "182                -                                                  -   \n",
       "183        blueberry  Blueberry B-38, 38\" Acoustic Guitar Kit Inbuil...   \n",
       "\n",
       "      Price     Return/Exchange       Expected Delivery Availability  \\\n",
       "1     4,999  7 days Replacement   Thursday, 7 September     In stock   \n",
       "2    11,999  7 days Replacement   Saturday, 9 September     In stock   \n",
       "3     2,499  7 days Replacement   Saturday, 9 September     In stock   \n",
       "4     2,850                   -        8 - 11 September     In stock   \n",
       "5     1,999  7 days Replacement  Wednesday, 6 September     In stock   \n",
       "..      ...                 ...                     ...          ...   \n",
       "179       -                   -                       -            -   \n",
       "180   5,782                   -   Saturday, 9 September     In stock   \n",
       "181   4,880  7 days Replacement    Monday, 11 September     In stock   \n",
       "182       -                   -                       -            -   \n",
       "183   2,655  7 days Replacement   Thursday, 7 September     In stock   \n",
       "\n",
       "                                           Product URL  \n",
       "1    https://www.amazon.in/sspa/click?ie=UTF8&spc=M...  \n",
       "2    https://www.amazon.in/sspa/click?ie=UTF8&spc=M...  \n",
       "3    https://www.amazon.in/sspa/click?ie=UTF8&spc=M...  \n",
       "4    https://www.amazon.in/sspa/click?ie=UTF8&spc=M...  \n",
       "5    https://www.amazon.in/Juarez-Acoustic-Cutaway-...  \n",
       "..                                                 ...  \n",
       "179  https://www.amazon.in/FX280-acoustic-Dreadnoug...  \n",
       "180  https://www.amazon.in/sspa/click?ie=UTF8&spc=M...  \n",
       "181  https://www.amazon.in/sspa/click?ie=UTF8&spc=M...  \n",
       "182  https://www.amazon.in/sspa/click?ie=UTF8&spc=M...  \n",
       "183  https://www.amazon.in/sspa/click?ie=UTF8&spc=M...  \n",
       "\n",
       "[183 rows x 7 columns]"
      ]
     },
     "execution_count": 99,
     "metadata": {},
     "output_type": "execute_result"
    }
   ],
   "source": [
    "df = pd.DataFrame({'Brand Name': BN,'Name of the Product': NOP,'Price': Price,'Return/Exchange': RE,'Expected Delivery': ED,'Availability': AVB,'Product URL': url},index= range(1,184))\n",
    "df"
   ]
  },
  {
   "cell_type": "code",
   "execution_count": 100,
   "id": "6f81b152",
   "metadata": {},
   "outputs": [],
   "source": [
    "df.to_csv('amazon_product.csv',index = False)"
   ]
  },
  {
   "cell_type": "markdown",
   "id": "575eef0a",
   "metadata": {},
   "source": [
    "# 3. Write a python program to access the search bar and search button on images.google.com and scrape 10 images each for keywords ‘fruits’, ‘cars’ and ‘Machine Learning’, ‘Guitar’, ‘Cakes’. "
   ]
  },
  {
   "cell_type": "code",
   "execution_count": 61,
   "id": "39ae5db5",
   "metadata": {},
   "outputs": [],
   "source": [
    "driver = webdriver.Chrome()\n",
    "driver.get('https://images.google.com/')"
   ]
  },
  {
   "cell_type": "code",
   "execution_count": 3,
   "id": "f542f208",
   "metadata": {},
   "outputs": [],
   "source": [
    "designation = driver.find_element(By.XPATH,\"/html/body/div[1]/div[3]/form/div[1]/div[1]/div[1]/div/div[2]/textarea\")\n",
    "designation.send_keys(\"fruits\")\n",
    "search = driver.find_element(By.XPATH,\"/html/body/div[1]/div[3]/form/div[1]/div[1]/div[1]/button/div\")\n",
    "search.click()"
   ]
  },
  {
   "cell_type": "markdown",
   "id": "5eabc7ba",
   "metadata": {},
   "source": [
    "# Fruits"
   ]
  },
  {
   "cell_type": "code",
   "execution_count": null,
   "id": "db99099b",
   "metadata": {},
   "outputs": [],
   "source": [
    "fruits= []\n",
    "x = driver.find_elements(By.XPATH,' //img[@class=\"rg_i Q4LuWd\"]')[0:10]\n",
    "for y in x:\n",
    "    src = y.get_attribute('src')\n",
    "    fruits.append(src)\n"
   ]
  },
  {
   "cell_type": "code",
   "execution_count": 37,
   "id": "c6819ad8",
   "metadata": {},
   "outputs": [
    {
     "data": {
      "text/plain": [
       "10"
      ]
     },
     "execution_count": 37,
     "metadata": {},
     "output_type": "execute_result"
    }
   ],
   "source": [
    "len(fruits)"
   ]
  },
  {
   "cell_type": "code",
   "execution_count": 65,
   "id": "1420fb0d",
   "metadata": {},
   "outputs": [],
   "source": [
    "driver.close()"
   ]
  },
  {
   "cell_type": "code",
   "execution_count": 43,
   "id": "88a92bb7",
   "metadata": {},
   "outputs": [],
   "source": [
    "designation = driver.find_element(By.XPATH,\"/html/body/div[1]/div[3]/form/div[1]/div[1]/div[1]/div/div[2]/textarea\")\n",
    "designation.send_keys(\"cars\")\n",
    "search = driver.find_element(By.XPATH,\"/html/body/div[1]/div[3]/form/div[1]/div[1]/div[1]/button/div\")\n",
    "search.click()"
   ]
  },
  {
   "cell_type": "markdown",
   "id": "e26b8252",
   "metadata": {},
   "source": [
    "# Cars"
   ]
  },
  {
   "cell_type": "code",
   "execution_count": 45,
   "id": "47183673",
   "metadata": {},
   "outputs": [],
   "source": [
    "cars= []\n",
    "z = driver.find_elements(By.XPATH,' //img[@class=\"rg_i Q4LuWd\"]')[0:10]\n",
    "for y in z:\n",
    "    src = y.get_attribute('src')\n",
    "    cars.append(src)\n"
   ]
  },
  {
   "cell_type": "code",
   "execution_count": 47,
   "id": "ad61d434",
   "metadata": {},
   "outputs": [
    {
     "data": {
      "text/plain": [
       "['data:image/jpeg;base64,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',\n",
       " 'data:image/jpeg;base64,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',\n",
       " 'data:image/jpeg;base64,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',\n",
       " 'data:image/jpeg;base64,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',\n",
       " 'data:image/jpeg;base64,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',\n",
       " 'data:image/jpeg;base64,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',\n",
       " 'data:image/jpeg;base64,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',\n",
       " 'data:image/jpeg;base64,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',\n",
       " 'data:image/jpeg;base64,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',\n",
       " 'data:image/jpeg;base64,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']"
      ]
     },
     "execution_count": 47,
     "metadata": {},
     "output_type": "execute_result"
    }
   ],
   "source": [
    "cars"
   ]
  },
  {
   "cell_type": "markdown",
   "id": "8e323968",
   "metadata": {},
   "source": [
    "# Machine Learning"
   ]
  },
  {
   "cell_type": "code",
   "execution_count": 51,
   "id": "7bdb1e14",
   "metadata": {},
   "outputs": [],
   "source": [
    "designation = driver.find_element(By.XPATH,\"/html/body/div[1]/div[3]/form/div[1]/div[1]/div[1]/div/div[2]/textarea\")\n",
    "designation.send_keys(\"Machine Learning\")\n",
    "search = driver.find_element(By.XPATH,\"/html/body/div[1]/div[3]/form/div[1]/div[1]/div[1]/button/div\")\n",
    "search.click()"
   ]
  },
  {
   "cell_type": "code",
   "execution_count": 52,
   "id": "39e9905e",
   "metadata": {},
   "outputs": [],
   "source": [
    "ML= []\n",
    "z = driver.find_elements(By.XPATH,' //img[@class=\"rg_i Q4LuWd\"]')[0:10]\n",
    "for y in z:\n",
    "    src = y.get_attribute('src')\n",
    "    ML.append(src)\n"
   ]
  },
  {
   "cell_type": "code",
   "execution_count": 54,
   "id": "987328cf",
   "metadata": {},
   "outputs": [
    {
     "data": {
      "text/plain": [
       "['data:image/jpeg;base64,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',\n",
       " 'data:image/png;base64,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',\n",
       " 'data:image/jpeg;base64,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',\n",
       " 'data:image/jpeg;base64,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',\n",
       " 'data:image/jpeg;base64,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',\n",
       " 'data:image/jpeg;base64,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',\n",
       " 'data:image/jpeg;base64,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',\n",
       " 'data:image/png;base64,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',\n",
       " 'data:image/jpeg;base64,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',\n",
       " 'data:image/jpeg;base64,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']"
      ]
     },
     "execution_count": 54,
     "metadata": {},
     "output_type": "execute_result"
    }
   ],
   "source": [
    "ML"
   ]
  },
  {
   "cell_type": "markdown",
   "id": "fbeb049c",
   "metadata": {},
   "source": [
    "# Guitar"
   ]
  },
  {
   "cell_type": "code",
   "execution_count": 57,
   "id": "895f724b",
   "metadata": {},
   "outputs": [],
   "source": [
    "designation = driver.find_element(By.XPATH,\"/html/body/div[1]/div[3]/form/div[1]/div[1]/div[1]/div/div[2]/textarea\")\n",
    "designation.send_keys(\"guitar\")\n",
    "search = driver.find_element(By.XPATH,\"/html/body/div[1]/div[3]/form/div[1]/div[1]/div[1]/button/div\")\n",
    "search.click()"
   ]
  },
  {
   "cell_type": "code",
   "execution_count": 58,
   "id": "b9dd84ea",
   "metadata": {},
   "outputs": [],
   "source": [
    "guitar= []\n",
    "z = driver.find_elements(By.XPATH,' //img[@class=\"rg_i Q4LuWd\"]')[0:10]\n",
    "for y in z:\n",
    "    src = y.get_attribute('src')\n",
    "    guitar.append(src)"
   ]
  },
  {
   "cell_type": "code",
   "execution_count": 59,
   "id": "c81d6cb0",
   "metadata": {},
   "outputs": [
    {
     "data": {
      "text/plain": [
       "['data:image/jpeg;base64,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',\n",
       " 'data:image/jpeg;base64,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',\n",
       " 'data:image/jpeg;base64,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',\n",
       " 'data:image/jpeg;base64,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',\n",
       " 'data:image/jpeg;base64,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',\n",
       " 'data:image/jpeg;base64,/9j/4AAQSkZJRgABAQAAAQABAAD/2wCEAAkGBxMHBhUTEhIWFRUWGBkXFxIYFxcYFRgWGhUXHxcXFhcaHSgiGBolGxcXITYhJS0rLjouFyszODMsNygtLi0BCgoKDg0OGxAQGy0iICUtLS04ListLS0tLSswLSswKzArLS8tLS0tLS0tLS8tLS0tMC0tLy8tLS0tLS0tLS0vLf/AABEIAQIAwwMBEQACEQEDEQH/xAAcAAEAAgMBAQEAAAAAAAAAAAAABgcDBAUCAQj/xABAEAACAQIDBQYDBAcHBQAAAAAAAQIDEQQFIQYSMUFRBxMiYXGBMlKRQmKx8BQjU4KhssEVFjNyc5LCJDVDVKL/xAAaAQEAAgMBAAAAAAAAAAAAAAAAAwUBAgQG/8QAMhEBAAEDAQUFBwQDAQAAAAAAAAECAxEEEiExQVEFcYGx8CIyYZGhwdETM0LhFFLxI//aAAwDAQACEQMRAD8AvEAAAAAAAAAAAAAAAAAAAAAAAAAAAAAAAAAAAAAAAAAAAAAAAAAAAAAAAAAAAAAAAAAAAAAAAAAAAAAAAAAAAAAAAAAAAAAAAAAAABir4qGGtvzjG7st6SV30V+IHt1FGF21brfT6gfU7oD6AAAAAAAAAAAAAAAAAAAAAAAAAKK7W8WtqFBxi6boV5YeUqiainaOrdtNZXsr6JdSKv347p+zot+5PwmJ80NxcKGKxjwsMHSpVL2jWWJrSpRfxNpTTTUlpw5q3UzMxO4pnEbUyvvsuzGOO2OpQje+HSw83Z7rlThHWDfxRs1qbxwQ1cZSwy1AAAAAAAAAAAAAAAAAAAAAAAACpe1vMP7Yy3E4fuZQeFnTn3r+BxlGet+SbSt6Miuxw709ifej4fiVbVMuoYeNGG+p4ipOko1FJ9yqS302lZeLwU4tSvxdrMYgiqd/RdXY/mMcRsnHDqzlhm6c5xu6cm5za3JNK+lvr5klPBHcnNUynJloAAAAAAAAAAAAAAAAAAAAAAAAEB7R8dPGYfEYL9Hm4Sod6q6XgvGcbptvRW0tq9SO9HsfLzTaf9yPHyUdVwqoYHByjVhP9ZZuL0i5OMnGT5OP4O/rrhtE5yuzscx0I5RUwcfE8POTdSKfdtVJykoptfEtVbyJY4Iq5zOVhmWgAAAAAAAAAAAAAAAAAAAAAAAAYsVh44vDSpzW9GacZR6pqzWhiYiYxLMTMTmFB57sNPKcVVoQnSUP0jvKKqVacJbj7t8JNa2jJadCKI5JpqjOVsdmuXRy3ZKnFbu9KU51JRlGalNzavvRbTslFafKSwhqnMpSZYAAAAAAAAAAAAAAAAAAAAAAAAABU/anFPaKn4kvDHjfpPomRc5bxwTLs5VtkqWqfiq6q/7afUkhrKTGWAAAAAAAAAAAAAAAAAAAAAAAAAAVJ2qOP94Y3v8ADHhbpUIv5S3jgmnZvb+6dO17b9Xj/qzJIayk5lgAAAAAAAAAAAAAAAAAAAAAAAAAFQ9qkt3aCPhT0jx3vlqdGiL+Ut44Jp2ZT39koOyXjq6K/wC1l1bJIaylRlgAAAAAAAAAAAAAAAAAAAAAAAAAFRdp02too2qbui0vJfZn8qIv5S35Jl2YtvZKF5bz36ni1+d9dSSGspWZYAAAAAAAAAAAAAAAAAAAAAAAAABUHaVHe2kXgcuGvi6T6EX8pb8kz7MdNlYrd3bTnpr83mSQ1lLDLAAAAAAAAAAAAAAAAAAAAAAAAAAKb7St17Tq7a16J/Zl1aIv5S35Jn2UtPZRWba7yfFW6ebJIaSmJkAAAAAAAAAAAAAAAAAAAAAAAAABT3aLV3Npn45R1Wi/02+qIuct+SYdlU+82UXicv1ktXx4RfV9SSGspiZYAAAAAAAAAAAAAAAAAAAAAAAADVzLMKWV4KVWtNQhG15O74uySS1bu+CMTMRGZbU0zVOIU/tljVjs47ynObjKV4tJ6x7uVnxT8+BFE5zLaYxulOuy5t7NO7k33j+K9/gh1b0JYaSmBlgAAAAAAAAAAAAAAAAAAAAAAje1G2NHIJ7lu8q2v3adlFPg5y5emrIq7sU7k9qxVc38kdpbXY3Hq8VTpxeqtFuTXVbz19XZPkc13W0WozXOPP5Jv8aM4jfLRz+VfPMCqderJxUlNJKELtJpXtF8pPmytu9t2+EUz9I/Ka3paqZzu+s/hG83w/czhG7tGMV/iRX/AIL8GvzxLTTXP1LcV9Ycl6MVzEpDsZmlXAZVGNKSUeLg92ab4X3lZ8EtDk1/aU6WuKYpzmM8cfaUljTfq0zOcJTQ2sqRfjpRkue42n7KV0/qiC329bmfbomO7f8AhvVoKo92cpJl2YU8yw+/Td+TT0lF9JLky6tXaLtMV0TmJcVVM0ziW0SNQAAAAAAAAAAAAAAAAAAambYxZdldWs9e7hKduu7Fu38DWurZpmW1FO1VFPVR+VQea5o51Xvttzm39pt2V/JycV6Mqq68Zqq5Rlc1+xRinuhNFCy/F9fM83crqu1TVVxb0UxTGIYayvTZzzCRHM+X/Wx4cIce7/8AXXzfn2PZ6H9ijuU2o/cq72/sz/29f0cXyT+yrcym7d/eo7vu7ND7k97qRdiidzpbOYh4bO4W4VLwkvZuL9U1b95l52Ffmm9NrlMZ8Y/pw66iJoirnCdnqlUAAAAAAAAAAAAAAAAAADm7S4V43Z7EU4/FKlNR/wA267fxsaXIzTMN7dWzXE/FSmyFdLHtfNHT2qQk/wD5i37FTqKc26sdJW1yeHfCbydjzUzhO1sTPdpNmtNFVydmkmYpjMo3nGJhLGRfeRV9xWu73VCzTSg2vhfHoew0k7NqmnpGPU8FTejNUy38gxMYYOK31JPXeUt5fDHS9lbhe3uVfa1E3ZiunlHj6+nLOcQ6dLOxE0y63I86sHT2epd9ntL7u9N+ii4/jOJddh25q1E1dI8/UuLXVYt46ynZ6xUgAAAAAAAAAAAAAAAAAAAfnTP8HLZrb6pGG93casqltLOnNJumvLdla5yXMYnq7rVNVURHLE/P1vWDGW9Ba35X5O2l15PieR1Nv9K5NHSfpy+jvt1bVMSjm2OYvA5bKUdHoovpJtWfDkm5esCw7LsxV7XrG/P47p+Dn1Ncxu9evwgmCqb1Gk27tzbve7b3K123z4HoYjo4Oro7M4l08fTinpNRg15tLdfqpNP69Tk1MRsbXTy5x4w6Le+cevgsPBVO8w6Z5XU29i7VT0lY26tqmJS3YvD3jVq9Wqa9Iq7+rlb909J2JZ2NPt86p+kblZra83MdEnLlxgAAAAAAAAAAAAAAAAAAAfn/ALQcwjmG2FecNYxapp9dyKTf+5M47k5mZWunp2aIylWWRcMvpp8VCmvRqlBNPzTTR5jtLH6890eSezwnvnzcPbnAzxuVTjT1lpKK6uLXhXm479vNpczt7KuxEYn1HrHhmeTn1NOZ9euv0V7llXewlJt/af8AJiD0GMOGZh2tkqHfYqE1rGm1Ju2m/wB1TdOPrez9Ezj1VURTszz8t2Z9cZxHNPb6x6lYmEj3dBI8nfu/qXaqusrOinZpiE12LrqWBnD7UZtv0lqn+K/dPWdk3Iq0tMRyzHrwVGrpmLs/FISycwAAAAAAAAAAAAAAAAAAIn2i7R/2Fk27B2rVrxh1ireKfsnZebRDer2Yw6NPa26t/CFQ7P5Z+nY68leELOX3m/hh72d/uxkcF27TbomurhHrHisa5mN0cZ9Z8E9ennzv1fNnlbtc11TXPGU1FMUxiGHE01VjZi3dqt1bVPr163FVMVRiXKxWQUcQ1OVOMpXb3vEm3apq92UbvxPjd68S6s9o+zHGO6e/rFXT4R8I4OSrTb/X5j7tnDYGOGilGKSitIxSUV4Y8EvQ4tZrKq4xTuz853R66dIhPasxG+W5HgVjob2W495ZjY1VquE49Yc7ea4r6cy07N1n+PexV7tW6ftLk1Nn9SjdxhYdOaqQTTumrprg0+DPYqd6AAAAAAAAAAAAAAAAAPjdkB+f9ss6efZ9OqneCe5TX3It2a9Xd+5X117VUyuLNvYoiOaRZRgv0DCqHNX3vObtv/Syj+5fmef7T1G1XFqOEce/+vy3txnNfy7v7dGT1K2UrHLQ1mGXycrUl+fnOq37sev9ms8fXweJS1/PREd6N0euUM0+vq+wkpLQhnc2Z7+E1mciWbGYzvMHKi+NN+H/ACSvb6NSXokez7J1P62njPGnd+PoptVb2Lm7hO9IizcwAAAAAAAAAAAAAAAAj+3uYPLdla0k7Sku7j1vN2uvRNv2Ir9WKJTaejauRCl9n8P3uaqXKmt/3TSh6rfcL+Vyurriiiap5Rn5LW5nGI57vn/SZw8EdDyW1MzNU8ZTYiIw9yn9RlhXeb0cxoylKUqjTbfgndLX5Ytaeh6jTV9nVYpiIz8Y4+Mq25Gojfv8GKlnke5S7upJpcKmInL9r8kYfMufPyuWkae3HCmI8Ic03K55yzYSVTN6ihCnCKTu92L00WrnKUpe1/qaX79nTU7Ve7znuZooruTiEqyHKHlcqjc97f3Xu2sk1fz14r6HlO0dfGrqpmKcYzz4rXT2JtRO/OXZeiKxO6my9fuc/h0mpQf03l/J/Evewbsxeqo6x5f9cWvpzRE9JT49WqgAAAAAAAAAAAAAAABA+2Cq4bP0l81ZX9qdR/ic2qn2Y73Zoo9ue78IDstH9XUf3qa9rVG19Yxfsim7Qqxp5jriPv8AZ38blPjP2SNS0POJxfEIYe3FSibDlYjJ6Fae9KlFu+rta/rbidNvXai3GzTXOEdVi3VOZhuYfDxw8bQiorolZHPcu13J2q5mZ+KSmmKYxDOiNs9N6GBvZG755Qt8/wDwlctOxs/5dPdPk5dZ+1Kxj2amAAAAAAAAAAAAAAAAEK7W8K6+ye+lfuqkJ+zvB/zog1FOaXTpasXFb7J1L0ai+9B/WNW/4L6lJ2lTM2J+Ex+PusaZ/wDSO6UiTsecdD65XkZHqErBhjnK8fcQyyRepgL2MMjYHa2Po9/nifKnGUr+bW6l7qUv9pe9g2s3arnSMfP/AI4NfVimKU+PUqsAAAAAAAAAAAAAAAAa+YYOGYYGdKorwqRcZLyas7dGYmMxiWYmYnMKKnltXZTaJ0a3CScY1OEZx3k4SXTxJJ9N5+9fqNPt0VUTzj/iwpuxMRVHL1KQJ7yPHVUzTM0zxhYxMTGYfb+I1HqPADDJ8PU2hll5mg87xnA8ym20km23ZJatt8ElzZLatVXKoppjMyxVVFMbVSxtl8oeVYDx/wCJOzn5fLBPmlr7tvme00WljTWoojjz71Hfuzcr2nZOtCAAAAAAAAAAAAAAAAAGhnOT0c7wfd16anHivmi+sZLWL9DExlmJmOCG4vYuvgF+pn30OSlaNW3m/hk/PS/Tiyq13ZdN/wBqjdV597rsaqaN08HDmnSruMk4yXGEk1Jez/E8xe012zOK4ws6LlNcZpki/CQN2Ko7JG8MskZXNZgbGX5dVzOpajByXOfCmvWfD2V35Fhpuzb97liOsue5qrdHPM/BOcg2ahlUt+T7yr89tI34qC5evH0Wh6fSaK3pqfZ3z1VV6/Vdnfw6O6diEAAAAAAAAAAAAAAAAAAAABr4zA0sdC1WnGa5byTt6X4GJpiqMSzE44ORU2PwsnpGcfJVJ2+jbOOvs/TVcaI8N3kljUXY/k8rYzC81N+tSX9LGKezdLTOYo823+Vd/wBm5h9m8Lh+FCD85Xm/rNs6LentW/cpiPBFVcrq4zMupFbqstF0Jmj6AAAAAAAAAAAAAAAAAAAAAAAAAAAAAAAAAAAAAAAAAAAAAAAAAAAAAAAAAAAAAAAAAAAAAAAAAAAAAAAAAAAAAAAAAAAAAAAAAAAAAAAAAAAAAAAAAAAAAAAAAAAAAAAA/9k=',\n",
       " 'data:image/jpeg;base64,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',\n",
       " 'data:image/jpeg;base64,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',\n",
       " 'data:image/jpeg;base64,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',\n",
       " 'data:image/jpeg;base64,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']"
      ]
     },
     "execution_count": 59,
     "metadata": {},
     "output_type": "execute_result"
    }
   ],
   "source": [
    "guitar"
   ]
  },
  {
   "cell_type": "markdown",
   "id": "aa0e7e0c",
   "metadata": {},
   "source": [
    "# Cakes"
   ]
  },
  {
   "cell_type": "code",
   "execution_count": 62,
   "id": "c164a047",
   "metadata": {},
   "outputs": [],
   "source": [
    "designation = driver.find_element(By.XPATH,\"/html/body/div[1]/div[3]/form/div[1]/div[1]/div[1]/div/div[2]/textarea\")\n",
    "designation.send_keys(\"cakes\")\n",
    "search = driver.find_element(By.XPATH,\"/html/body/div[1]/div[3]/form/div[1]/div[1]/div[1]/button/div\")\n",
    "search.click()"
   ]
  },
  {
   "cell_type": "code",
   "execution_count": 63,
   "id": "ed0c401b",
   "metadata": {},
   "outputs": [],
   "source": [
    "cakes= []\n",
    "z = driver.find_elements(By.XPATH,' //img[@class=\"rg_i Q4LuWd\"]')[0:10]\n",
    "for y in z:\n",
    "    src = y.get_attribute('src')\n",
    "    cakes.append(src)"
   ]
  },
  {
   "cell_type": "code",
   "execution_count": 64,
   "id": "981cc911",
   "metadata": {},
   "outputs": [
    {
     "data": {
      "text/plain": [
       "['data:image/jpeg;base64,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',\n",
       " 'data:image/jpeg;base64,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',\n",
       " 'data:image/jpeg;base64,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',\n",
       " 'data:image/jpeg;base64,/9j/4AAQSkZJRgABAQAAAQABAAD/2wCEAAoHCBYWFRgVFhUYGBgaGBkcGhoYGBkYHBgaGBgZGRkYGBgcIS4lHB4rHxgYJjgmKy8xNTU1GiQ7QDs0Py40NTEBDAwMEA8QHhISHjQrJCs0NDQ2NDQ0NDc9ND00NDQ0NDQ0NDQ0NDQ0NDQxMTQ0NDQ0NDQ0NDQ0NDQ0MTQ0NDQ0NP/AABEIAOEA4QMBIgACEQEDEQH/xAAbAAABBQEBAAAAAAAAAAAAAAAEAAECAwUGB//EADwQAAIBAgMFBQYFBAIBBQAAAAECAAMRBBIhBTFBUWEGInGBkTJCobHB8BMUUmLRFYKS4XLxogcWIzNT/8QAGQEBAQEBAQEAAAAAAAAAAAAAAAECAwQF/8QAKhEAAgIBAwMEAgEFAAAAAAAAAAECEQMSITEEQVETImGBkbFxFCMyQqH/2gAMAwEAAhEDEQA/APRahgbLrCzTY9I6YIcW9J1OZmlLwjDYdb6KzdQNPUzSpUEXcolpfrIUqVmA9j4iRes/6PjHqYoDefjOY25t9jdKR8W+g/mGypGtV2i18oC9dYvzLHlOBp51NxmPPebzXwyF+D38GEzZaOkcjeSB5ysYtAbZx5azP/opZb3Knhc39YB+E6NlYW+R8JQdMKh33MIXFX9onymVgtoKFyvfoZYcYt7KpY+kA1KWIAFkUnqZZ+Gze01ukzkqtvYgdB9TL1dm3boQC1o62F/GQZbGxl+Fdl3m4k61PMbiWjIE0Fy2MLqJaCVL3kYCN8tpPwg1J5dKDQpvLpn4epwhiPKCuvSmfiKM2CINWpyAx1OUwlGvGr0oMGKmDRoU6xFoaGDDSZaODLUcqYMtBuQxSv8ANRSigXOY/wCJ1lT1gOsxtpbUC6E6ncBw6mZsqRsVcYdwFzBWo1X9p8g6HWRweIBFgCD1lrI/WClFLYqX71Rj0vvmlT2TSUaIvpM+pTI1vCdlYrXKzHpeAaC0VXco9BGbwhFQKOMovyF5TIO6GCYrDBxYjXhNH8PnIVXUQDMpbMHvaSX5RQe7C8rtuBtJrh2HIeclG1GT7AyUgP8AcVPFKRdWDAfpINjy0gnaPC58PUph8pcBSV3hWYB7dcpI85lYfZGHRQqUkQDQFRlbxzrZr9b3nOeVRdHoxdNKavg3xtC3CWJjxKdn7NLpcud5AJFzYbrm+p4X6RHZ4zZBVQsb2UmxNt9hrebUrSZzljpteAxdocGAIic023HKfUQR9m1BwB8D/NpS9B13o3kL/KUy4ovdCh146gjcRzEtp1IRs1A9IK3M2PEawKtTZGyn15jnBgLA5S+nUglF5dKgaVNriRdZThanCFsIMmbiRKDhwwhuKTSD0HsYBnvTKmW0ql5o16FxMurSKmDRfaNIfiRQDAr4ys4sgCDn7Teu4TNw2yiXzM5LE964JJ5WnRKm6WKZkWAnEVFcHIMgvcA3Jh52yiaOCo5209eERaRKgjURYCDi0cXVgR0MGZFO42MBxOyabahcp5rp8oB/QHZsqO+v7jYeJ5RbCR1OGx3uvbx/maiVFI7uv3zmLsns4lKzVHao/wC4nIvgvHxM21O8EWta3X+JpHRY/JWycz5CNh2QsVW1xv535RsTXVFzMwA68zuEEpf/AGBggZSPaHPrDfY6OFRtIJbaNNKoou3fYXAsbWvYa7rwqpS0JguJxqqwLIN2jcfC/CZGG23iiGNakigmymgWrC37tA1/BbczMttbkV2q28jbYoOO8ASp39OszUqEOEPvEEde6bgeYB/uE26eOZtFZGPK1z5i9xOZ2z2cqO7VaeJqU6gOYKO8gYLl0Qmw7umnnPPNqXweyDlFbb/ZvvWYqFvYAeyNLjieusBxrNkYoQHUZ0J3B07yn1Ey9k4fGrUVKyrUVzb8Wm1iNCVNRWXMQbbwdLzssPshR7fe5jgb8COMixybTRfVgotNfQfh6mdEcC2ZVa3EZgDb4y2RUENcbpOvVAFzpPUeLe6GtKsVQDrY7xuPKTuQC97qFvYKSdNdOZ6QTZW10xBbKrLltfMAN/gdD0htXRNLabStLkCqYZ03i45jUf6llGrNphYwWthVbXceY+vODGnugdTxE0KNQMOsy3Rk37uY3f6lqPxG+DDQbXXSZqnW00UqBtDoZn4xCpvKZDsM9xbjI4mgDBaNTUGaSm4grMn8lFNXLFBDlgY2bSMJIGQ0IPJZrSGbfLsLRLnL6nkICV7E8Nhi500HE/fGa1BFXuKLWFyefnzklUKAq6ARpaPRGNIqdGLA30HDnC3q3A0lS6X67/KPBaV2QrUVcWZQw5EXkkW1iNLC3lJR5DXagHGYYuLXtMz+kuD3WPlp8p0IEe0NJlUmgTCo6rZmJ06X9bTFeq4Yq2jX0YqSDrxAnTWkDSB3gSSgmiRkk7MWlhKrHutSH+bfxabtFSFUMQzAAEgWBNtSASbDzMdRbdHiMVHgzJuXLGYnlFWoqwsdQZKKaMmeVZHUqCVtqLye18Y6UHekFDhWIDKWFwCRdQQTutv4yVHGK+bKb5TY6EajxmVtTEujD9PGZ25NaL2aoO2ftNnRWqZLlQcyXym4B0BuQPMzS4A85z+BpAIAp7vug6ZRwXwHDpCqOJKGx9njxt1vOam4umb9NNXH8GqbcZy21q+claNRqa+8yWzHorNfKOtr8rQvb20wuWmrAl73ykHRdCPXTy14zPwqr7xyjkASfX6yZcjTpG8OFNapKy7syrolSmzu4R7pUqMXcq6B8jMd5U5uWhWbyPnGRvI8oMi0ytqRFxdim4tuDNbeSO6L+A5SCVZ1i9luePIlqaqiDAoxVv8Asc5qYN7i0qq0xVT943fx4QPZ9azFToRKjFG1aPK88UpDk7xs0rJiLSFLQb7heb+FohEtxOp8ZlbFpZnLcF+Zm0xlR2xx7kWiBjxCU6jiPGjiQg8kJGSEAUQiiEEY8e8aKASiijgQQUUUeAQyiUYimpGohVpRiaWZSAdSN8FT3MWsrXVkOYLmUoCBmBI3X0Di2l9DcjkRKlVFRcyHQ3GoNwRoVZTYhgbgg7oKNm1qbZk1HPgRyM0cPhQz5zTyufaIYgNYWuwGjEDcTqJwlHU/k6p6eN1+jzwYd6OOrJuVwHX2SQGY3IBsBrvA/SN/DoM6opd3soFyzWAA56CbW0ez2eqtcN3lXIosLFc2YhvPd585fhtlpdS1Ncym40vY81vuPUTMsTkzePKoxdEOzGDaxxFRMjOCqIRZkpEg9++oZyFYjhZRvBvp43DhuFidA3I8jzBhqDTSMy3Fuc7RSSpHjk3JtvkxcPXKsQdCDYxtob1qr/d4c5LbNHdUG8d1/ofvpBada4sZoxyHfnRzEUyfwoosaQUsJU9TSQd4M9SDJ1uxKeWlf9Rv/ENlWBW1JB+0S2VHpiqQohFHlKPEI0cSFHjiNHEEHiiigCjiMIrQCYjyIkgYMsUUUUAUiKgJyg2NpKC1MIC2cEg9JCUWYvGJQQGoSdbCw1YngBL8OysoZfZIuD0Mz6Rp1UyVgGsTowvrrY9DCqdfKcgQhRoLCwsPpM72ZdVSTu9/BeotoJF0vu0lki7WF+U0VN2C4XOpsRfrf4w28zNlbVFfNZSoU2F953624bppWkTTVos4uLaapguKYBrN7Lgg+UyKmDVTlDWPDkRwmltqmxQFBdlYG3MWIIExVxi1FyElXXdfQg8R1EWYruT/AAH5D4RQX8xUigplu3WCV2ju3GDVmlOR6JgHzUkPQS6ZnZivmoKOIFvTT6TTMqPUt0KPGjiAPHjRxAFHEaSAgCiAiiEAeKKIQCUUUUEFHjR4IxR5F6gW2YgX0FyBc8hffJ2glkQgvewvJwPaVZ0S9NczXGnTibcZfhXYqCwysRqOUl7hp1ZdERBMUzAi17cbQmk+YD6iDLtCVQNwkorR4BViWstzzHzmNtPZqVe+jBXHx8ZobV1QLexY6eQvOcrK6G0ELP6fieQ/yWKDfmX6/GKQGG5glU3MIcylEuR1IlMHSdl65QhTx+uv1nWOOM4LAVbs1jua3gQAfqJ2ezcSHWx3iEd48F8cR4pTYooohAHElGtHggooorwB5n7W21QwwQ13yB2Kr3Xa5AufZBsAOJhj1LTne0CCumVVBdGV0DaXdHDgX4XAK35MYI06tG9g8fTqi6OGHS467iBCZg4euHUOp0I47wdxVhwYG4I3ggiF0ccU0fd+rh5nh5+s4rNbpo6PFStOzUmdtHaIp91dW9Qt91+Z5D7NuMxqot8y5mHdUsAWOuiqdSdD6GcnTrF3J3kE+vF2PXUAcRc7jcXJOlsMUFJ7gWN7M0azmq5dq2bMKrVHZlYG62UnJlBt3QtrTvNjY38eglW1iwIca92orFXXXgHVh5TGwmCdiNCBzP0E38DhFo01prfKoOp1LEklmNhvJJJ03mZxNu7J1CgmlHkvijrrIqbztZwTHjiC47HJSW7E6mwAFyTyAlmFxS1BdSCN3gRvB5GS1dFcXV1t5LKebXNbfpblJRSvEVQqknylIZO26JqEZTZqeqn9xGoI4i1vWC0celQ5HGR1HeU7/Ecx1mlRTuEnfc3N+JAPlwmZtfZy1BmXuuvssN46HmIMtqy/8pT5xTmcmL5p6f7ikv4Lt5Mp2lmGF3Xx+QMrI13y7Cjvj74GDBT2fr5nrjIUIqA2O/VFF/PLOnwtcocw8/CcjgsYqYx6fF0BJv7yk2H+LfCdSskWexqmnXKR0uGxIcXG/jLpzNCsUYEbp0GGxSuOs0mZLxHiAilIPHkTIYPEKxIJtY2sekEbpWWRjFiairbXebesuCAjrJZNSVWC1F0nL11ZXLLrrwtpOubDkgzJwmy0p5rXN+fCR2+DrBxabvcz8JirFroMzEEkAgsQLC9t5tpfoOUNcBt49CQfC4tBdo41KRUmwTMFdr2CZrhWP7c2VSeGYHdeFMNOPl9DPPk2Z1hpfH4OK7cYYoEq0ncNSaxItannAygMADc2Hd10N9M2ulsjGh6SMlM2Kj2GVgpsLhixDZh4HhqZq7RwqNSdCAECObbhcowuT/cx8SDwnO9kUb8un4iFWUsoYm2bK7XTqASbXuNdIfuj/BhJwyX2Zvq999x47/gYbsvabjEU6BIZXp1m1uWUoaeUg/p7zA34lesza7FdQjuT7KItyx5XPdUdWIHWE9maTUGd663r1D3it2CIPYooT7i66i2ZiTxkxRd2a6iScaW7/QRh9vO2JalkIs2W2t7C92I4DT4idJ+KL5Ta/LjM1dpkOyuuXcV6rb53htMqxDga2tfnO8Ytcuzy5WpNUq2/JHGYJKgyuARe9jFg8ClIFUAUEliBzNtfgIQTIO4AuTYfOapXY1Sqr28EmYAXO4TMrVS7X4DcJDEYosbDRRw59TGQ2BPAC/pKEi3AMxFW+4VLL4BEU/8AkGk3FxMzso5fDs/66tRt99C5C+HdA0moRInaMZVU2vAN+D0MeX5TFKczzfjJUWswPIj5yJEYGQpi7ewz0cUMQASgKltb6N3W04CxsJ3VFtBxnN9ocC1ekhVsvBt5BtbQ26gGW9k9qK9IU2YB6RCMCdSBopF997EeU5r2yrye5S14k+62+jpYyOyG6+kdYp1OadGxgdphtG3zRYXHdM5VkhGHx7p+4fGExydIxvwg1QoDra+/rbnaU4faiPvNjKRspWqGrnYk20vobbgRyht9jUUv9nQbgsajKCSNddbeUF2jTxTV0NNlFEAZtRqbm9xa50tKsZhVUq4XQMCbbt/ETSoY4OCFBzW4jQHqZGrVHJXCVpX/ACHINOsFxCbzBsHUqjRwNN7c/CFuZUSKae5gYzAvmLLYhhYqwuCDvBB4TNobKZTbDs1Dhky/iUeh/DJGT+xl6gzUq7fUVDTCjQ2uTqTpuHn8JpYm4F1HEekz7ZWkd5QlGm1V8FKbKJQCo2Y6ElAUBtyGYnf1MJOAUqFtoBYS3CYwHQqb/AwhiJYxUeEcvUk9mZ+E2aqG638z9Ie1MGK8ZntvIHjNEbbGegp9oA25yd+AmbitsU045jyEyMTtV30HdXkP5kJXk3cVtBE0vmbkPrMqpiWc3Y+A4CAUlhdMQUIpiZPbLaLUcMxQ2dyFXW2p36+AY+U2aYnCbZxqYnH0qJa9JHCjTRn0ZtePs5ZjJKlR36eFzt8Ld/R3XZmiUwlFTa5QMbW467xvOo14zRksgACgABQAANLW4ASNppKlR4sktU3LyyOX7sIpLyigyeaVBImXOvG8pKwUMwLhgUPvbuh/6+U4vtDsx6bvVTQaXtoVII1sOFwPOdSjkEEXuPH+IZiKS1Ez7z7ysBa1gCLcvHnMSWpUd8GV4pWQ7M7XOIQ5st1sDr3iwHf7vBbnQ9ZuTzfEYWphajYihYJqCNTlDC1iOh19Jt7D7WhylOoLuRYv3VAtm1YG1jYcJIzraR7ZYda1w4OtjGIG8czqeUqdI6Yh09ljHMrYQQOp7ace0t4RS2+g3raYzSplgtnUJt2kfetLRtakffE45kkGQcpLZNjsBi8ODmul+dheSbbFDi4nFZOkfJFlbOubtBRG438BBqnaZfdQnx0nNhZILLbM2jVq9oKrezZYJUxLv7Tk+ekoVJaogWSRIQiytBL0EELUEJTTU7pSgnHdoO1jB3oUgCMpUuDexI71uGm6/OZlNRW52w4XklSK9o9pqz1KtCkRldglMga7xmYN1sR5zsOyfZlMMA796oB7WtluNyi/xmF2B7PEFcQ1iMp/DB3g95WOo9kAm1uc78/pG4b+pmIRb3Zvq8yj/ax7Lv8ALJcPGNHkW6mdT5w/3uikbjnFAODdD19RKHX7vDHTw8zKWXw+EBATr93MvwmIKG/DcRrqInXrKHBvv+EhQ3HUFyl0sVbeDxvpa30nBba2N+FZ1bMpJF2FiGOoDc9L6zuMLiWRuJB3g8f4MKxGEV1zoARxUj4ETEoaj0YM7xP4OH2B2pejZXJdAdVNswud6HjvOhnoeCxiVUV0bMrbj8wRwI5ThdubAzXakMralkv8Vv14TDwW0cRhwUVioLK1iLG4IIPPhbkRec05QdPg+g4wzq48nrpEracz2f7Viq5SqyoWtkFra8QWvvPAf9TqCJ2jJSVo8mTHKDplLStmF7cbX8h/3LjI2mjmUKwYAgggi46jnIm0m9PvhuhHK19b9dwmfjMJevTcLUJsQSp7gA3Z7nTedwubTLbNKKb5DLRWk0B1uANdLa3HAnrHyymKIWjgSeWLLKKEssURgJZa3GCkkEbH49aCF3vlBA0Fzc7pnYnbACsKSl31AJUhAy78xNtBOKxOJxGNcUxr3h7FypJ0DHU6W8rzlKaWyPRi6dv3T2SD9s9pa1YlKZyI6gAb2uNSd1+K7uE2OyfY4krUraodchBuzaG7k8N9xbhNns12SSiQSM78Wa2n8TqDUCdxO855cOvQRHH3kZzdWktOJUvJbogCIBmI4CwAHTgJagsLX87HU8ZChTtcm5Y7z98JYPP1nU8Ar/dj/MR+9Iifu5iPgPUwQa8UfyHqYoBx7J0+MqZPD1hJTfp8/vhIlfD4wAB6f2JSyfYEPdNOHxlRAHH4SCwApb7tJ0KhU3Um/qD0MvYX5yBTx3+EFCldKtg65G57gZn7V2OChzpnQAkEC7Dqttb+EsKS6jiHTdqOTH6w9zUZuLtHmmMwDocyK+UG6tlIYDeLgaqRCcJtjEUUKhnAOuYg91ib6E6a8Qb8ed56OatJzZ1yHr9DIYjY4bdZhw0GnhOXpeGe6PXX/kjhT2sxOfPdScuXLY5eec6+15yKdrcQHzMQQw9mwAta1wR7PjOgr9laeoyFeoJ87wKv2TFrI1uj94eG8W9ZnTNHZZ8Eu1fQPsztg6kLVGdbi7bmAPG1rH4TTxHbSiPZV26nu63/AI1+kw6vZSqN5VvvhKanZqvuCDTcSb3/AIkTmtjcvQk7tfo6en2uoHeHBtcDKDfzBtrCU2/TCM7kKATlAIYuALggDz06Tjz2bxJ9zz16fekmnZLEE6gDqeHKXVPwYcen8/8ATsG7Q4YBbvYsAQMp48zawgtftdh1zWDMQSF5MQL+IHlMH/2bimNzlbT3mPA8zymvgP8A09Omer/yABOtvd+Ous1c32MP+njy7AKvbJy5yqqppod+hFzcHUaH14QnC7Sao4P/AMtVwt1CDKiMwI0W9tL65+Wk6rDdi6CkdxW4nP0Ok3qOHoUV9xRvOUAfE8JVCXdnOXVY0vbE47D9k62IIbEuVTgim9he++w+xOx2dsilh0soVFAGulzbiTGG0S+lFL/uOi/5cfISaYLMc1Rs5/T7o/t4+c2oqPB5MmeeTZvbx2JriS/dpjKnF7b/APjz8d0Jw9JUGlzfUk7yepk1Mc+M0ciYjmIbuMjpAJW6RCRJ5CPbpAFeKNl6fA/zHgHM5OfreMy+HqZcinlEU8PWACsPvWVlPuxP1hTDWNl6wAT8Lx9JFqJ/d6QtlkSkAENE9fhImkfu0MydD6f7iNPhl1gWBmlfePUiQXD29ling2n+MO/D6ffrHyGADLiKq8UcdbqfWxEmNo/rpHxWzffpL7dZLz+cAGXaNLjdfFGH0lq7QofrX1AloXz8ZMIDw+EAr/qWH/8A0T/IR/6nh+DKfA39LS4Ul/QPSWLTH6RJbAONrIfYR2PRHPxtaTGPrH2KJHVyq/AXPwhYXoJNRflKAL8vXc9+oqDkmp/yP8S6hs5FIJXMw952LEeF93lDQnhJAdRJQJL4D1kg3h6xr9R8JJT1+UoJZo+Y84lMkD1gCB6xE/f2IvM/fnF6wByfH78ordDFboYxHT5wCVv2mKQ06RQQwV+pjN9/CKKCjr9+kdt33yiigFQ+/WSXd5/WKKANU4eMifrGigEWkhGigCG4eMuPCKKAOPe8frLX3eZiigExJLFFIGP9/KSTj4CKKUFoli/fxjRQCR3y3+BFFAJLxk4ooAjGXcPAR4oBEfU/OJoooIKKKKCH/9k=',\n",
       " 'data:image/jpeg;base64,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',\n",
       " 'data:image/jpeg;base64,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',\n",
       " 'data:image/jpeg;base64,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',\n",
       " 'data:image/jpeg;base64,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',\n",
       " 'data:image/jpeg;base64,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',\n",
       " 'data:image/jpeg;base64,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']"
      ]
     },
     "execution_count": 64,
     "metadata": {},
     "output_type": "execute_result"
    }
   ],
   "source": [
    "cakes"
   ]
  },
  {
   "cell_type": "markdown",
   "id": "74b1f811",
   "metadata": {},
   "source": [
    "# 4. Write a python program to search for a smartphone(e.g.: Oneplus Nord, pixel 4A, etc.) on www.flipkart.comand scrape following details for all the search results displayed on 1st page. Details to be scraped: “Brand Name”, “Smartphone name”, “Colour”, “RAM”, “Storage(ROM)”, “Primary Camera”, “Secondary Camera”, “Display Size”, “Battery Capacity”, “Price”, “Product URL”. Incase if any of the details is missing then replace it by “- “. Save your results in a dataframe and CSV. "
   ]
  },
  {
   "cell_type": "code",
   "execution_count": 66,
   "id": "1b4c499b",
   "metadata": {},
   "outputs": [],
   "source": [
    "driver = webdriver.Chrome()\n",
    "driver.get('http://www.flipkart.com/')"
   ]
  },
  {
   "cell_type": "code",
   "execution_count": 67,
   "id": "7acbbeaf",
   "metadata": {},
   "outputs": [],
   "source": [
    "designation = driver.find_element(By.XPATH,\"/html/body/div[1]/div/div[1]/div[1]/div[2]/div[2]/form/div/div/input\")\n",
    "designation.send_keys(\"Smartphone\")\n",
    "search = driver.find_element(By.XPATH,\"/html/body/div[1]/div/div[1]/div[1]/div[2]/div[2]/form/div/button\")\n",
    "search.click()"
   ]
  },
  {
   "cell_type": "code",
   "execution_count": 68,
   "id": "5a7926b7",
   "metadata": {},
   "outputs": [],
   "source": [
    "url = []\n",
    "BN = []\n",
    "SN = []\n",
    "Colour = []\n",
    "PC = []\n",
    "SC = []\n",
    "DS = []\n",
    "BC = []\n",
    "PRICE = []\n",
    "link = driver.find_elements(By.XPATH,'//a[@class=\"_1fQZEK\"]')\n",
    "for i in link:\n",
    "    url.append(i.get_attribute('href'))\n",
    "        \n",
    "    \n",
    "for x in url:\n",
    "    driver.get(x)\n",
    "    time.sleep(2)\n",
    "    try:\n",
    "        brand_name = driver.find_element(By.XPATH,'/html/body/div[1]/div/div[3]/div[1]/div[2]/div[1]/div[1]/div/div[4]/a')\n",
    "        BN.append(brand_name.text)\n",
    "    except NoSuchElementException:\n",
    "        BN.append('-') \n",
    "    try:\n",
    "        name_of_product = driver.find_element(By.XPATH,'/html/body/div[1]/div/div[3]/div[1]/div[2]/div[2]/div/div[1]/h1/span')\n",
    "        SN.append(name_of_product.text)\n",
    "    except NoSuchElementException:\n",
    "        SN.append('-')\n",
    "    try:\n",
    "        color = driver.find_element(By.XPATH,'/html/body/div[1]/div/div[3]/div[1]/div[2]/div[9]/div[5]/div/div[2]/div[1]/div[1]/table/tbody/tr[4]/td[2]/ul/li')\n",
    "        Colour.append(color.text)\n",
    "    except NoSuchElementException:\n",
    "        Colour.append('-')\n",
    "    try:\n",
    "        button = driver.find_element(By.XPATH, '/html/body/div[1]/div/div[3]/div[1]/div[2]/div[9]/div[5]/div/div[2]/button')\n",
    "        button.click()\n",
    "    except NoSuchElementException:\n",
    "        pass\n",
    "    try:\n",
    "        pc = driver.find_element(By.XPATH,'/html/body/div[1]/div/div[3]/div[1]/div[2]/div[9]/div[5]/div/div[2]/div[1]/div[5]/table/tbody/tr[2]/td[2]/ul/li')\n",
    "        PC.append(pc.text)\n",
    "        sc = driver.find_element(By.XPATH,'/html/body/div[1]/div/div[3]/div[1]/div[2]/div[9]/div[5]/div/div[2]/div[1]/div[5]/table/tbody/tr[6]/td[2]/ul/li')\n",
    "        SC.append(sc.text)\n",
    "        ds = driver.find_element(By.XPATH,'/html/body/div[1]/div/div[3]/div[1]/div[2]/div[9]/div[5]/div/div[2]/div[1]/div[2]/table/tbody/tr[1]/td[2]/ul/li')\n",
    "        DS.append(ds.text)\n",
    "        bc = driver.find_element(By.XPATH,'/html/body/div[1]/div/div[3]/div[1]/div[2]/div[9]/div[5]/div/div[2]/div[1]/div[10]/table/tbody/tr[1]/td[2]/ul/li')\n",
    "        BC.append(bc.text)\n",
    "        \n",
    "    except NoSuchElementException:\n",
    "        PC.append('-')\n",
    "        SC.append('-')\n",
    "        DS.append('-')\n",
    "        BC.append('-')\n",
    "    try:\n",
    "        price = driver.find_element(By.XPATH,'/html/body/div[1]/div/div[3]/div[1]/div[2]/div[2]/div/div[4]/div[1]/div/div[1]')\n",
    "        PRICE.append(price.text)\n",
    "    except NoSuchElementException:\n",
    "        PRICE.append('-')"
   ]
  },
  {
   "cell_type": "code",
   "execution_count": 69,
   "id": "82d6043b",
   "metadata": {},
   "outputs": [
    {
     "name": "stdout",
     "output_type": "stream",
     "text": [
      "24 24 24 24 24 24 24 24 24\n"
     ]
    }
   ],
   "source": [
    "print(len(url),len(BN),len(SN),len(BC),len(SC),len(Colour),len(PC),len(DS),len(PRICE))"
   ]
  },
  {
   "cell_type": "code",
   "execution_count": 59,
   "id": "c14828ca",
   "metadata": {},
   "outputs": [],
   "source": [
    "RAM = []\n",
    "for x in url:\n",
    "    driver.get(x)\n",
    "    time.sleep(2)\n",
    "    try:\n",
    "        button = driver.find_element(By.XPATH, '/html/body/div[1]/div/div[3]/div[1]/div[2]/div[9]/div[5]/div/div[2]/button')\n",
    "        button.click()\n",
    "    except NoSuchElementException:\n",
    "        pass\n",
    "    try:\n",
    "        ram = driver.find_element(By.XPATH,'/html/body/div[1]/div/div[3]/div[1]/div[2]/div[9]/div[5]/div/div[2]/div[1]/div[4]/table/tbody/tr[2]/td[2]/ul/li')\n",
    "        RAM.append(ram.text)\n",
    "    except NoSuchElementException:\n",
    "        RAM.append('-')\n",
    "    "
   ]
  },
  {
   "cell_type": "code",
   "execution_count": 60,
   "id": "1470b897",
   "metadata": {},
   "outputs": [
    {
     "data": {
      "text/plain": [
       "24"
      ]
     },
     "execution_count": 60,
     "metadata": {},
     "output_type": "execute_result"
    }
   ],
   "source": [
    "len(RAM)"
   ]
  },
  {
   "cell_type": "code",
   "execution_count": 61,
   "id": "cdbf0e2e",
   "metadata": {},
   "outputs": [],
   "source": [
    "ROM = []\n",
    "for x in url:\n",
    "    driver.get(x)\n",
    "    time.sleep(2)\n",
    "    try:\n",
    "        button = driver.find_element(By.XPATH, '/html/body/div[1]/div/div[3]/div[1]/div[2]/div[9]/div[5]/div/div[2]/button')\n",
    "        button.click()\n",
    "    except NoSuchElementException:\n",
    "        pass\n",
    "    try:\n",
    "        rom = driver.find_element(By.XPATH,'/html/body/div[1]/div/div[3]/div[1]/div[2]/div[9]/div[5]/div/div[2]/div[1]/div[4]/table/tbody/tr[1]/td[2]/ul/li')\n",
    "        ROM.append(rom.text)\n",
    "    except NoSuchElementException:\n",
    "        ROM.append('-')\n",
    "    "
   ]
  },
  {
   "cell_type": "code",
   "execution_count": 62,
   "id": "16fa09c1",
   "metadata": {},
   "outputs": [
    {
     "data": {
      "text/plain": [
       "24"
      ]
     },
     "execution_count": 62,
     "metadata": {},
     "output_type": "execute_result"
    }
   ],
   "source": [
    "len(ROM)"
   ]
  },
  {
   "cell_type": "code",
   "execution_count": 76,
   "id": "4a19857a",
   "metadata": {},
   "outputs": [],
   "source": [
    "import pandas as pd\n",
    "df = pd.DataFrame({'Brand Name': BN,'Smartphone Name': SN,'Colour': Colour,'Primary Camera': PC,'Secondary Camera': SC,'Display Size': DS,'Battery Capacity':BC,'Price':PRICE,'Product URL': url},index = range(1,25))"
   ]
  },
  {
   "cell_type": "code",
   "execution_count": 77,
   "id": "d68b771b",
   "metadata": {},
   "outputs": [
    {
     "data": {
      "text/html": [
       "<div>\n",
       "<style scoped>\n",
       "    .dataframe tbody tr th:only-of-type {\n",
       "        vertical-align: middle;\n",
       "    }\n",
       "\n",
       "    .dataframe tbody tr th {\n",
       "        vertical-align: top;\n",
       "    }\n",
       "\n",
       "    .dataframe thead th {\n",
       "        text-align: right;\n",
       "    }\n",
       "</style>\n",
       "<table border=\"1\" class=\"dataframe\">\n",
       "  <thead>\n",
       "    <tr style=\"text-align: right;\">\n",
       "      <th></th>\n",
       "      <th>Brand Name</th>\n",
       "      <th>Smartphone Name</th>\n",
       "      <th>Colour</th>\n",
       "      <th>Primary Camera</th>\n",
       "      <th>Secondary Camera</th>\n",
       "      <th>Display Size</th>\n",
       "      <th>Battery Capacity</th>\n",
       "      <th>Price</th>\n",
       "      <th>Product URL</th>\n",
       "    </tr>\n",
       "  </thead>\n",
       "  <tbody>\n",
       "    <tr>\n",
       "      <th>1</th>\n",
       "      <td>SAMSUNG Mobiles</td>\n",
       "      <td>SAMSUNG Galaxy F13 (Sunrise Copper, 64 GB)  (4...</td>\n",
       "      <td>Sunrise Copper</td>\n",
       "      <td>50MP + 5MP + 2MP</td>\n",
       "      <td>8MP Front Camera</td>\n",
       "      <td>16.76 cm (6.6 inch)</td>\n",
       "      <td>6000 mAh</td>\n",
       "      <td>₹9,499</td>\n",
       "      <td>https://www.flipkart.com/samsung-galaxy-f13-su...</td>\n",
       "    </tr>\n",
       "    <tr>\n",
       "      <th>2</th>\n",
       "      <td>SAMSUNG Mobiles</td>\n",
       "      <td>SAMSUNG Galaxy F13 (Waterfall Blue, 64 GB)  (4...</td>\n",
       "      <td>Waterfall Blue</td>\n",
       "      <td>50MP + 5MP + 2MP</td>\n",
       "      <td>8MP Front Camera</td>\n",
       "      <td>16.76 cm (6.6 inch)</td>\n",
       "      <td>6000 mAh</td>\n",
       "      <td>₹9,499</td>\n",
       "      <td>https://www.flipkart.com/samsung-galaxy-f13-wa...</td>\n",
       "    </tr>\n",
       "    <tr>\n",
       "      <th>3</th>\n",
       "      <td>REDMI Mobiles</td>\n",
       "      <td>REDMI 12 (Moonstone Silver, 128 GB)  (4 GB RAM)</td>\n",
       "      <td>Moonstone Silver</td>\n",
       "      <td>50MP + 8MP + 2MP</td>\n",
       "      <td>8MP Front Camera Setup: Features: Camera, Feat...</td>\n",
       "      <td>17.25 cm (6.79 inch)</td>\n",
       "      <td>5000 mAh</td>\n",
       "      <td>₹9,999</td>\n",
       "      <td>https://www.flipkart.com/redmi-12-moonstone-si...</td>\n",
       "    </tr>\n",
       "    <tr>\n",
       "      <th>4</th>\n",
       "      <td>POCO Mobiles</td>\n",
       "      <td>POCO C51 (Power Black, 64 GB)  (4 GB RAM)</td>\n",
       "      <td>Power Black</td>\n",
       "      <td>8MP Dual Rear Camera</td>\n",
       "      <td>5MP Front Camera</td>\n",
       "      <td>16.56 cm (6.52 inch)</td>\n",
       "      <td>5000 mAh</td>\n",
       "      <td>₹6,499</td>\n",
       "      <td>https://www.flipkart.com/poco-c51-power-black-...</td>\n",
       "    </tr>\n",
       "    <tr>\n",
       "      <th>5</th>\n",
       "      <td>POCO Mobiles</td>\n",
       "      <td>POCO C51 (Royal Blue, 64 GB)  (4 GB RAM)</td>\n",
       "      <td>Royal Blue</td>\n",
       "      <td>8MP Dual Rear Camera</td>\n",
       "      <td>5MP Front Camera</td>\n",
       "      <td>16.56 cm (6.52 inch)</td>\n",
       "      <td>5000 mAh</td>\n",
       "      <td>₹6,499</td>\n",
       "      <td>https://www.flipkart.com/poco-c51-royal-blue-6...</td>\n",
       "    </tr>\n",
       "    <tr>\n",
       "      <th>6</th>\n",
       "      <td>POCO Mobiles</td>\n",
       "      <td>POCO C50 (Royal Blue, 32 GB)  (2 GB RAM)</td>\n",
       "      <td>Royal Blue</td>\n",
       "      <td>8MP Dual Camera</td>\n",
       "      <td>5 MP Camera Setup</td>\n",
       "      <td>16.56 cm (6.52 inch)</td>\n",
       "      <td>5000 mAh</td>\n",
       "      <td>-</td>\n",
       "      <td>https://www.flipkart.com/poco-c50-royal-blue-3...</td>\n",
       "    </tr>\n",
       "    <tr>\n",
       "      <th>7</th>\n",
       "      <td>POCO Mobiles</td>\n",
       "      <td>POCO C55 (Cool Blue, 128 GB)  (6 GB RAM)</td>\n",
       "      <td>Cool Blue</td>\n",
       "      <td>50MP Dual Rear Camera</td>\n",
       "      <td>5MP Front Camera: Camera Features: Portrait Mo...</td>\n",
       "      <td>17.04 cm (6.71 inch)</td>\n",
       "      <td>5000 mAh</td>\n",
       "      <td>₹8,499</td>\n",
       "      <td>https://www.flipkart.com/poco-c55-cool-blue-12...</td>\n",
       "    </tr>\n",
       "    <tr>\n",
       "      <th>8</th>\n",
       "      <td>APPLE Mobiles</td>\n",
       "      <td>APPLE iPhone 11 (Black, 128 GB)</td>\n",
       "      <td>-</td>\n",
       "      <td>-</td>\n",
       "      <td>-</td>\n",
       "      <td>-</td>\n",
       "      <td>-</td>\n",
       "      <td>₹40,999</td>\n",
       "      <td>https://www.flipkart.com/apple-iphone-11-black...</td>\n",
       "    </tr>\n",
       "    <tr>\n",
       "      <th>9</th>\n",
       "      <td>POCO Mobiles</td>\n",
       "      <td>POCO C50 (Country Green, 32 GB)  (2 GB RAM)</td>\n",
       "      <td>Country Green</td>\n",
       "      <td>8MP Dual Camera</td>\n",
       "      <td>5 MP Camera Setup</td>\n",
       "      <td>16.56 cm (6.52 inch)</td>\n",
       "      <td>5000 mAh</td>\n",
       "      <td>₹5,499</td>\n",
       "      <td>https://www.flipkart.com/poco-c50-country-gree...</td>\n",
       "    </tr>\n",
       "    <tr>\n",
       "      <th>10</th>\n",
       "      <td>realme Mobiles</td>\n",
       "      <td>realme C53 (Champion Gold, 64 GB)  (6 GB RAM)</td>\n",
       "      <td>Champion Gold</td>\n",
       "      <td>108MP + 2MP</td>\n",
       "      <td>8MP Front Camera</td>\n",
       "      <td>17.12 cm (6.74 inch)</td>\n",
       "      <td>5000 mAh</td>\n",
       "      <td>₹10,999</td>\n",
       "      <td>https://www.flipkart.com/realme-c53-champion-g...</td>\n",
       "    </tr>\n",
       "    <tr>\n",
       "      <th>11</th>\n",
       "      <td>Infinix Mobiles</td>\n",
       "      <td>Infinix HOT 20 Play (Fantasy Purple, 64 GB)  (...</td>\n",
       "      <td>Fantasy Purple</td>\n",
       "      <td>13Mp + AI Lens</td>\n",
       "      <td>8MP AI (f 2.0) with LED Flash, Front Camera Mo...</td>\n",
       "      <td>17.32 cm (6.82 inch)</td>\n",
       "      <td>6000 mAh</td>\n",
       "      <td>₹7,999</td>\n",
       "      <td>https://www.flipkart.com/infinix-hot-20-play-f...</td>\n",
       "    </tr>\n",
       "    <tr>\n",
       "      <th>12</th>\n",
       "      <td>Infinix Mobiles</td>\n",
       "      <td>Infinix HOT 20 Play (Aurora Green, 64 GB)  (4 ...</td>\n",
       "      <td>Aurora Green</td>\n",
       "      <td>13Mp + AI Lens</td>\n",
       "      <td>8MP AI (f 2.0) with LED Flash, Front Camera Mo...</td>\n",
       "      <td>17.32 cm (6.82 inch)</td>\n",
       "      <td>6000 mAh</td>\n",
       "      <td>₹7,999</td>\n",
       "      <td>https://www.flipkart.com/infinix-hot-20-play-a...</td>\n",
       "    </tr>\n",
       "    <tr>\n",
       "      <th>13</th>\n",
       "      <td>Infinix Mobiles</td>\n",
       "      <td>Infinix HOT 20 Play (Luna Blue, 64 GB)  (4 GB ...</td>\n",
       "      <td>Luna Blue</td>\n",
       "      <td>13Mp + AI Lens</td>\n",
       "      <td>8MP AI (f 2.0) with LED Flash, Front Camera Mo...</td>\n",
       "      <td>17.32 cm (6.82 inch)</td>\n",
       "      <td>6000 mAh</td>\n",
       "      <td>₹7,999</td>\n",
       "      <td>https://www.flipkart.com/infinix-hot-20-play-l...</td>\n",
       "    </tr>\n",
       "    <tr>\n",
       "      <th>14</th>\n",
       "      <td>OnePlus Mobiles</td>\n",
       "      <td>OnePlus Nord CE 2 Lite 5G (Blue Tide, 128 GB) ...</td>\n",
       "      <td>-</td>\n",
       "      <td>-</td>\n",
       "      <td>-</td>\n",
       "      <td>-</td>\n",
       "      <td>-</td>\n",
       "      <td>₹17,627</td>\n",
       "      <td>https://www.flipkart.com/oneplus-nord-ce-2-lit...</td>\n",
       "    </tr>\n",
       "    <tr>\n",
       "      <th>15</th>\n",
       "      <td>realme Mobiles</td>\n",
       "      <td>realme C53 (Champion Black, 64 GB)  (6 GB RAM)</td>\n",
       "      <td>Champion Black</td>\n",
       "      <td>108MP + 2MP</td>\n",
       "      <td>8MP Front Camera</td>\n",
       "      <td>17.12 cm (6.74 inch)</td>\n",
       "      <td>5000 mAh</td>\n",
       "      <td>₹10,999</td>\n",
       "      <td>https://www.flipkart.com/realme-c53-champion-b...</td>\n",
       "    </tr>\n",
       "    <tr>\n",
       "      <th>16</th>\n",
       "      <td>MOTOROLA Mobiles</td>\n",
       "      <td>MOTOROLA e13 (Aurora Green, 64 GB)  (4 GB RAM)</td>\n",
       "      <td>Aurora Green</td>\n",
       "      <td>13MP Rear Camera</td>\n",
       "      <td>5MP Front Camera Setup: (f/2.2 Aperture, 1.12u...</td>\n",
       "      <td>16.51 cm (6.5 inch)</td>\n",
       "      <td>5000 mAh</td>\n",
       "      <td>₹7,299</td>\n",
       "      <td>https://www.flipkart.com/motorola-e13-aurora-g...</td>\n",
       "    </tr>\n",
       "    <tr>\n",
       "      <th>17</th>\n",
       "      <td>vivo Mobiles</td>\n",
       "      <td>vivo T2x 5G (Aurora Gold, 128 GB)  (8 GB RAM)</td>\n",
       "      <td>Aurora Gold</td>\n",
       "      <td>50MP + 2MP</td>\n",
       "      <td>8MP Front Camera Setup: (f/2.0 Aperture)</td>\n",
       "      <td>16.71 cm (6.58 inch)</td>\n",
       "      <td>5000 mAh</td>\n",
       "      <td>₹15,999</td>\n",
       "      <td>https://www.flipkart.com/vivo-t2x-5g-aurora-go...</td>\n",
       "    </tr>\n",
       "    <tr>\n",
       "      <th>18</th>\n",
       "      <td>vivo Mobiles</td>\n",
       "      <td>vivo T2x 5G (Marine Blue, 128 GB)  (8 GB RAM)</td>\n",
       "      <td>Marine Blue</td>\n",
       "      <td>50MP + 2MP</td>\n",
       "      <td>8MP Front Camera Setup: (f/2.0 Aperture)</td>\n",
       "      <td>16.71 cm (6.58 inch)</td>\n",
       "      <td>5000 mAh</td>\n",
       "      <td>₹15,999</td>\n",
       "      <td>https://www.flipkart.com/vivo-t2x-5g-marine-bl...</td>\n",
       "    </tr>\n",
       "    <tr>\n",
       "      <th>19</th>\n",
       "      <td>vivo Mobiles</td>\n",
       "      <td>vivo T2x 5G (Glimmer Black, 128 GB)  (8 GB RAM)</td>\n",
       "      <td>Glimmer Black</td>\n",
       "      <td>50MP + 2MP</td>\n",
       "      <td>8MP Front Camera Setup: (f/2.0 Aperture)</td>\n",
       "      <td>16.71 cm (6.58 inch)</td>\n",
       "      <td>5000 mAh</td>\n",
       "      <td>₹15,999</td>\n",
       "      <td>https://www.flipkart.com/vivo-t2x-5g-glimmer-b...</td>\n",
       "    </tr>\n",
       "    <tr>\n",
       "      <th>20</th>\n",
       "      <td>vivo Mobiles</td>\n",
       "      <td>vivo T2x 5G (Glimmer Black, 128 GB)  (4 GB RAM)</td>\n",
       "      <td>Glimmer Black</td>\n",
       "      <td>50MP + 2MP</td>\n",
       "      <td>8MP Front Camera Setup: (f/2.0 Aperture)</td>\n",
       "      <td>16.71 cm (6.58 inch)</td>\n",
       "      <td>5000 mAh</td>\n",
       "      <td>₹12,999</td>\n",
       "      <td>https://www.flipkart.com/vivo-t2x-5g-glimmer-b...</td>\n",
       "    </tr>\n",
       "    <tr>\n",
       "      <th>21</th>\n",
       "      <td>vivo Mobiles</td>\n",
       "      <td>vivo T2x 5G (Glimmer Black, 128 GB)  (6 GB RAM)</td>\n",
       "      <td>Glimmer Black</td>\n",
       "      <td>50MP + 2MP</td>\n",
       "      <td>8MP Front Camera Setup: (f/2.0 Aperture)</td>\n",
       "      <td>16.71 cm (6.58 inch)</td>\n",
       "      <td>5000 mAh</td>\n",
       "      <td>₹13,999</td>\n",
       "      <td>https://www.flipkart.com/vivo-t2x-5g-glimmer-b...</td>\n",
       "    </tr>\n",
       "    <tr>\n",
       "      <th>22</th>\n",
       "      <td>vivo Mobiles</td>\n",
       "      <td>vivo T2x 5G (Marine Blue, 128 GB)  (6 GB RAM)</td>\n",
       "      <td>Marine Blue</td>\n",
       "      <td>50MP + 2MP</td>\n",
       "      <td>8MP Front Camera Setup: (f/2.0 Aperture)</td>\n",
       "      <td>16.71 cm (6.58 inch)</td>\n",
       "      <td>5000 mAh</td>\n",
       "      <td>₹13,999</td>\n",
       "      <td>https://www.flipkart.com/vivo-t2x-5g-marine-bl...</td>\n",
       "    </tr>\n",
       "    <tr>\n",
       "      <th>23</th>\n",
       "      <td>vivo Mobiles</td>\n",
       "      <td>vivo T2x 5G (Marine Blue, 128 GB)  (4 GB RAM)</td>\n",
       "      <td>Marine Blue</td>\n",
       "      <td>50MP + 2MP</td>\n",
       "      <td>8MP Front Camera Setup: (f/2.0 Aperture)</td>\n",
       "      <td>16.71 cm (6.58 inch)</td>\n",
       "      <td>5000 mAh</td>\n",
       "      <td>₹12,999</td>\n",
       "      <td>https://www.flipkart.com/vivo-t2x-5g-marine-bl...</td>\n",
       "    </tr>\n",
       "    <tr>\n",
       "      <th>24</th>\n",
       "      <td>vivo Mobiles</td>\n",
       "      <td>vivo T2x 5G (Aurora Gold, 128 GB)  (4 GB RAM)</td>\n",
       "      <td>Aurora Gold</td>\n",
       "      <td>50MP + 2MP</td>\n",
       "      <td>8MP Front Camera Setup: (f/2.0 Aperture)</td>\n",
       "      <td>16.71 cm (6.58 inch)</td>\n",
       "      <td>5000 mAh</td>\n",
       "      <td>₹12,999</td>\n",
       "      <td>https://www.flipkart.com/vivo-t2x-5g-aurora-go...</td>\n",
       "    </tr>\n",
       "  </tbody>\n",
       "</table>\n",
       "</div>"
      ],
      "text/plain": [
       "          Brand Name                                    Smartphone Name  \\\n",
       "1    SAMSUNG Mobiles  SAMSUNG Galaxy F13 (Sunrise Copper, 64 GB)  (4...   \n",
       "2    SAMSUNG Mobiles  SAMSUNG Galaxy F13 (Waterfall Blue, 64 GB)  (4...   \n",
       "3      REDMI Mobiles    REDMI 12 (Moonstone Silver, 128 GB)  (4 GB RAM)   \n",
       "4       POCO Mobiles          POCO C51 (Power Black, 64 GB)  (4 GB RAM)   \n",
       "5       POCO Mobiles           POCO C51 (Royal Blue, 64 GB)  (4 GB RAM)   \n",
       "6       POCO Mobiles           POCO C50 (Royal Blue, 32 GB)  (2 GB RAM)   \n",
       "7       POCO Mobiles           POCO C55 (Cool Blue, 128 GB)  (6 GB RAM)   \n",
       "8      APPLE Mobiles                    APPLE iPhone 11 (Black, 128 GB)   \n",
       "9       POCO Mobiles        POCO C50 (Country Green, 32 GB)  (2 GB RAM)   \n",
       "10    realme Mobiles      realme C53 (Champion Gold, 64 GB)  (6 GB RAM)   \n",
       "11   Infinix Mobiles  Infinix HOT 20 Play (Fantasy Purple, 64 GB)  (...   \n",
       "12   Infinix Mobiles  Infinix HOT 20 Play (Aurora Green, 64 GB)  (4 ...   \n",
       "13   Infinix Mobiles  Infinix HOT 20 Play (Luna Blue, 64 GB)  (4 GB ...   \n",
       "14   OnePlus Mobiles  OnePlus Nord CE 2 Lite 5G (Blue Tide, 128 GB) ...   \n",
       "15    realme Mobiles     realme C53 (Champion Black, 64 GB)  (6 GB RAM)   \n",
       "16  MOTOROLA Mobiles     MOTOROLA e13 (Aurora Green, 64 GB)  (4 GB RAM)   \n",
       "17      vivo Mobiles      vivo T2x 5G (Aurora Gold, 128 GB)  (8 GB RAM)   \n",
       "18      vivo Mobiles      vivo T2x 5G (Marine Blue, 128 GB)  (8 GB RAM)   \n",
       "19      vivo Mobiles    vivo T2x 5G (Glimmer Black, 128 GB)  (8 GB RAM)   \n",
       "20      vivo Mobiles    vivo T2x 5G (Glimmer Black, 128 GB)  (4 GB RAM)   \n",
       "21      vivo Mobiles    vivo T2x 5G (Glimmer Black, 128 GB)  (6 GB RAM)   \n",
       "22      vivo Mobiles      vivo T2x 5G (Marine Blue, 128 GB)  (6 GB RAM)   \n",
       "23      vivo Mobiles      vivo T2x 5G (Marine Blue, 128 GB)  (4 GB RAM)   \n",
       "24      vivo Mobiles      vivo T2x 5G (Aurora Gold, 128 GB)  (4 GB RAM)   \n",
       "\n",
       "              Colour         Primary Camera  \\\n",
       "1     Sunrise Copper       50MP + 5MP + 2MP   \n",
       "2     Waterfall Blue       50MP + 5MP + 2MP   \n",
       "3   Moonstone Silver       50MP + 8MP + 2MP   \n",
       "4        Power Black   8MP Dual Rear Camera   \n",
       "5         Royal Blue   8MP Dual Rear Camera   \n",
       "6         Royal Blue        8MP Dual Camera   \n",
       "7          Cool Blue  50MP Dual Rear Camera   \n",
       "8                  -                      -   \n",
       "9      Country Green        8MP Dual Camera   \n",
       "10     Champion Gold            108MP + 2MP   \n",
       "11    Fantasy Purple         13Mp + AI Lens   \n",
       "12      Aurora Green         13Mp + AI Lens   \n",
       "13         Luna Blue         13Mp + AI Lens   \n",
       "14                 -                      -   \n",
       "15    Champion Black            108MP + 2MP   \n",
       "16      Aurora Green       13MP Rear Camera   \n",
       "17       Aurora Gold             50MP + 2MP   \n",
       "18       Marine Blue             50MP + 2MP   \n",
       "19     Glimmer Black             50MP + 2MP   \n",
       "20     Glimmer Black             50MP + 2MP   \n",
       "21     Glimmer Black             50MP + 2MP   \n",
       "22       Marine Blue             50MP + 2MP   \n",
       "23       Marine Blue             50MP + 2MP   \n",
       "24       Aurora Gold             50MP + 2MP   \n",
       "\n",
       "                                     Secondary Camera          Display Size  \\\n",
       "1                                    8MP Front Camera   16.76 cm (6.6 inch)   \n",
       "2                                    8MP Front Camera   16.76 cm (6.6 inch)   \n",
       "3   8MP Front Camera Setup: Features: Camera, Feat...  17.25 cm (6.79 inch)   \n",
       "4                                    5MP Front Camera  16.56 cm (6.52 inch)   \n",
       "5                                    5MP Front Camera  16.56 cm (6.52 inch)   \n",
       "6                                   5 MP Camera Setup  16.56 cm (6.52 inch)   \n",
       "7   5MP Front Camera: Camera Features: Portrait Mo...  17.04 cm (6.71 inch)   \n",
       "8                                                   -                     -   \n",
       "9                                   5 MP Camera Setup  16.56 cm (6.52 inch)   \n",
       "10                                   8MP Front Camera  17.12 cm (6.74 inch)   \n",
       "11  8MP AI (f 2.0) with LED Flash, Front Camera Mo...  17.32 cm (6.82 inch)   \n",
       "12  8MP AI (f 2.0) with LED Flash, Front Camera Mo...  17.32 cm (6.82 inch)   \n",
       "13  8MP AI (f 2.0) with LED Flash, Front Camera Mo...  17.32 cm (6.82 inch)   \n",
       "14                                                  -                     -   \n",
       "15                                   8MP Front Camera  17.12 cm (6.74 inch)   \n",
       "16  5MP Front Camera Setup: (f/2.2 Aperture, 1.12u...   16.51 cm (6.5 inch)   \n",
       "17           8MP Front Camera Setup: (f/2.0 Aperture)  16.71 cm (6.58 inch)   \n",
       "18           8MP Front Camera Setup: (f/2.0 Aperture)  16.71 cm (6.58 inch)   \n",
       "19           8MP Front Camera Setup: (f/2.0 Aperture)  16.71 cm (6.58 inch)   \n",
       "20           8MP Front Camera Setup: (f/2.0 Aperture)  16.71 cm (6.58 inch)   \n",
       "21           8MP Front Camera Setup: (f/2.0 Aperture)  16.71 cm (6.58 inch)   \n",
       "22           8MP Front Camera Setup: (f/2.0 Aperture)  16.71 cm (6.58 inch)   \n",
       "23           8MP Front Camera Setup: (f/2.0 Aperture)  16.71 cm (6.58 inch)   \n",
       "24           8MP Front Camera Setup: (f/2.0 Aperture)  16.71 cm (6.58 inch)   \n",
       "\n",
       "   Battery Capacity    Price  \\\n",
       "1          6000 mAh   ₹9,499   \n",
       "2          6000 mAh   ₹9,499   \n",
       "3          5000 mAh   ₹9,999   \n",
       "4          5000 mAh   ₹6,499   \n",
       "5          5000 mAh   ₹6,499   \n",
       "6          5000 mAh        -   \n",
       "7          5000 mAh   ₹8,499   \n",
       "8                 -  ₹40,999   \n",
       "9          5000 mAh   ₹5,499   \n",
       "10         5000 mAh  ₹10,999   \n",
       "11         6000 mAh   ₹7,999   \n",
       "12         6000 mAh   ₹7,999   \n",
       "13         6000 mAh   ₹7,999   \n",
       "14                -  ₹17,627   \n",
       "15         5000 mAh  ₹10,999   \n",
       "16         5000 mAh   ₹7,299   \n",
       "17         5000 mAh  ₹15,999   \n",
       "18         5000 mAh  ₹15,999   \n",
       "19         5000 mAh  ₹15,999   \n",
       "20         5000 mAh  ₹12,999   \n",
       "21         5000 mAh  ₹13,999   \n",
       "22         5000 mAh  ₹13,999   \n",
       "23         5000 mAh  ₹12,999   \n",
       "24         5000 mAh  ₹12,999   \n",
       "\n",
       "                                          Product URL  \n",
       "1   https://www.flipkart.com/samsung-galaxy-f13-su...  \n",
       "2   https://www.flipkart.com/samsung-galaxy-f13-wa...  \n",
       "3   https://www.flipkart.com/redmi-12-moonstone-si...  \n",
       "4   https://www.flipkart.com/poco-c51-power-black-...  \n",
       "5   https://www.flipkart.com/poco-c51-royal-blue-6...  \n",
       "6   https://www.flipkart.com/poco-c50-royal-blue-3...  \n",
       "7   https://www.flipkart.com/poco-c55-cool-blue-12...  \n",
       "8   https://www.flipkart.com/apple-iphone-11-black...  \n",
       "9   https://www.flipkart.com/poco-c50-country-gree...  \n",
       "10  https://www.flipkart.com/realme-c53-champion-g...  \n",
       "11  https://www.flipkart.com/infinix-hot-20-play-f...  \n",
       "12  https://www.flipkart.com/infinix-hot-20-play-a...  \n",
       "13  https://www.flipkart.com/infinix-hot-20-play-l...  \n",
       "14  https://www.flipkart.com/oneplus-nord-ce-2-lit...  \n",
       "15  https://www.flipkart.com/realme-c53-champion-b...  \n",
       "16  https://www.flipkart.com/motorola-e13-aurora-g...  \n",
       "17  https://www.flipkart.com/vivo-t2x-5g-aurora-go...  \n",
       "18  https://www.flipkart.com/vivo-t2x-5g-marine-bl...  \n",
       "19  https://www.flipkart.com/vivo-t2x-5g-glimmer-b...  \n",
       "20  https://www.flipkart.com/vivo-t2x-5g-glimmer-b...  \n",
       "21  https://www.flipkart.com/vivo-t2x-5g-glimmer-b...  \n",
       "22  https://www.flipkart.com/vivo-t2x-5g-marine-bl...  \n",
       "23  https://www.flipkart.com/vivo-t2x-5g-marine-bl...  \n",
       "24  https://www.flipkart.com/vivo-t2x-5g-aurora-go...  "
      ]
     },
     "execution_count": 77,
     "metadata": {},
     "output_type": "execute_result"
    }
   ],
   "source": [
    "df"
   ]
  },
  {
   "cell_type": "code",
   "execution_count": 78,
   "id": "5440511f",
   "metadata": {},
   "outputs": [],
   "source": [
    "df.to_csv('smartphone.csv',index = False)"
   ]
  },
  {
   "cell_type": "markdown",
   "id": "dd69f9b7",
   "metadata": {},
   "source": [
    "# 5. Write a program to scrap geospatial coordinates (latitude, longitude) of a city searched on google maps. "
   ]
  },
  {
   "cell_type": "code",
   "execution_count": 47,
   "id": "83f13999",
   "metadata": {},
   "outputs": [],
   "source": [
    "driver = webdriver.Chrome()\n",
    "driver.get('https://www.google.com/maps')"
   ]
  },
  {
   "cell_type": "code",
   "execution_count": 48,
   "id": "f78fcc05",
   "metadata": {},
   "outputs": [
    {
     "name": "stdout",
     "output_type": "stream",
     "text": [
      "Enter a city name hyderabad\n"
     ]
    }
   ],
   "source": [
    "location = input('Enter a city name ')\n",
    "designation = driver.find_element(By.XPATH,\"/html/body/div[3]/div[8]/div[3]/div[1]/div[1]/div/div[2]/form/input\")\n",
    "designation.send_keys(location)\n",
    "search = driver.find_element(By.XPATH,\"/html/body/div[3]/div[8]/div[3]/div[1]/div[1]/div/div[2]/div[1]/button\")\n",
    "search.click()"
   ]
  },
  {
   "cell_type": "code",
   "execution_count": 49,
   "id": "0556d6ce",
   "metadata": {},
   "outputs": [
    {
     "name": "stdout",
     "output_type": "stream",
     "text": [
      "URL Etxracted : https://www.google.com/maps/place/Hyderabad,+Telangana/@17.4127332,78.0783736,10z/data=!3m1!4b1!4m6!3m5!1s0x3bcb99daeaebd2c7:0xae93b78392bafbc2!8m2!3d17.385044!4d78.486671!16zL20vMDljNnc?entry=ttu\n",
      "Latitude =  17.4127332\n",
      "Longitude = 78.0783736\n"
     ]
    }
   ],
   "source": [
    "import re\n",
    "try:\n",
    "    url_string = driver.current_url\n",
    "    print('URL Etxracted :', url_string)\n",
    "    lat_lng = re.findall(r'@(.*)z/data', url_string)\n",
    "    coords = lat_lng[0].split(',')\n",
    "    print('Latitude = ', coords[0])\n",
    "    print('Longitude =', coords[1])\n",
    "except:\n",
    "    pass"
   ]
  },
  {
   "cell_type": "markdown",
   "id": "f2f1a3c7",
   "metadata": {},
   "source": [
    "# 6. Write a program to scrap all the available details of best gaming laptops from digit.in. "
   ]
  },
  {
   "cell_type": "code",
   "execution_count": 124,
   "id": "e85d4c02",
   "metadata": {},
   "outputs": [],
   "source": [
    "driver = webdriver.Chrome()\n",
    "driver.get('https://www.digit.in/')"
   ]
  },
  {
   "cell_type": "code",
   "execution_count": 125,
   "id": "4d916709",
   "metadata": {},
   "outputs": [],
   "source": [
    "laptop = driver.find_element(By.XPATH,\"/html/body/div[2]/div/ul/li[2]/span\")\n",
    "laptop.click()\n",
    "best = driver.find_element(By.XPATH,\"/html/body/div[2]/div/ul/li[2]/div[2]/div/div[1]/span[4]\")\n",
    "best.click()\n",
    "bg = driver.find_element(By.XPATH,\"/html/body/div[2]/div/ul/li[2]/div[2]/div/div[5]/div/div[2]/a/div\")\n",
    "bg.click()"
   ]
  },
  {
   "cell_type": "code",
   "execution_count": 127,
   "id": "93e317ce",
   "metadata": {},
   "outputs": [],
   "source": [
    "url = []\n",
    "link = driver.find_elements(By.XPATH,'//span[@class=\"datahreflink\"]')\n",
    "for i in range(7):\n",
    "    url.append(link[i].get_attribute('data-href'))"
   ]
  },
  {
   "cell_type": "code",
   "execution_count": 129,
   "id": "b9340b13",
   "metadata": {},
   "outputs": [
    {
     "data": {
      "text/plain": [
       "7"
      ]
     },
     "execution_count": 129,
     "metadata": {},
     "output_type": "execute_result"
    }
   ],
   "source": [
    "len(url)"
   ]
  },
  {
   "cell_type": "code",
   "execution_count": 130,
   "id": "70e95b40",
   "metadata": {},
   "outputs": [],
   "source": [
    "for i in range(5):\n",
    "    driver.execute_script('window.scrollBy(0,100)')\n",
    "MN = []\n",
    "for x in url:\n",
    "    driver.get(x)\n",
    "    time.sleep(5)\n",
    "    try:\n",
    "        mn = driver.find_element(By.XPATH,'//*[@id=\"specs\"]/div/div[1]/div[1]/table/tbody/tr[1]/td[3]')\n",
    "        MN.append(mn.text)\n",
    "    except NoSuchElementException:\n",
    "        MN.append('-') "
   ]
  },
  {
   "cell_type": "code",
   "execution_count": 131,
   "id": "4f914328",
   "metadata": {},
   "outputs": [
    {
     "data": {
      "text/plain": [
       "7"
      ]
     },
     "execution_count": 131,
     "metadata": {},
     "output_type": "execute_result"
    }
   ],
   "source": [
    "len(MN)"
   ]
  },
  {
   "cell_type": "code",
   "execution_count": 132,
   "id": "5360f742",
   "metadata": {},
   "outputs": [],
   "source": [
    "for i in range(5):\n",
    "    driver.execute_script('window.scrollBy(0,100)')\n",
    "OS = []\n",
    "for x in url:\n",
    "    driver.get(x)\n",
    "    time.sleep(5)\n",
    "    try:\n",
    "        os = driver.find_element(By.XPATH,'//*[@id=\"overview\"]/div[2]/div[3]/div/ul/li[1]/div/p[2]/strong')\n",
    "        OS.append(os.text)\n",
    "    except NoSuchElementException:\n",
    "        OS.append('-') "
   ]
  },
  {
   "cell_type": "code",
   "execution_count": 133,
   "id": "e9aab773",
   "metadata": {},
   "outputs": [
    {
     "data": {
      "text/plain": [
       "7"
      ]
     },
     "execution_count": 133,
     "metadata": {},
     "output_type": "execute_result"
    }
   ],
   "source": [
    "len(OS)"
   ]
  },
  {
   "cell_type": "code",
   "execution_count": 134,
   "id": "910973d0",
   "metadata": {},
   "outputs": [],
   "source": [
    "for i in range(5):\n",
    "    driver.execute_script('window.scrollBy(0,100)')\n",
    "DS = []\n",
    "for x in url:\n",
    "    driver.get(x)\n",
    "    time.sleep(5)\n",
    "    try:\n",
    "        ds = driver.find_element(By.XPATH,'//*[@id=\"overview\"]/div[2]/div[3]/div/ul/li[2]/div/p[2]/strong')\n",
    "        DS.append(ds.text)\n",
    "    except NoSuchElementException:\n",
    "        DS.append('-') "
   ]
  },
  {
   "cell_type": "code",
   "execution_count": 135,
   "id": "ba24ed11",
   "metadata": {},
   "outputs": [
    {
     "data": {
      "text/plain": [
       "7"
      ]
     },
     "execution_count": 135,
     "metadata": {},
     "output_type": "execute_result"
    }
   ],
   "source": [
    "len(DS)"
   ]
  },
  {
   "cell_type": "code",
   "execution_count": 136,
   "id": "53b7489c",
   "metadata": {},
   "outputs": [],
   "source": [
    "for i in range(5):\n",
    "    driver.execute_script('window.scrollBy(0,100)')\n",
    "PS = []\n",
    "for x in url:\n",
    "    driver.get(x)\n",
    "    time.sleep(5)\n",
    "    try:\n",
    "        ps = driver.find_element(By.XPATH,'//*[@id=\"overview\"]/div[2]/div[3]/div/ul/li[3]/div/p[2]/strong')\n",
    "        PS.append(ps.text)\n",
    "    except NoSuchElementException:\n",
    "        PS.append('-') "
   ]
  },
  {
   "cell_type": "code",
   "execution_count": 137,
   "id": "6bad5758",
   "metadata": {},
   "outputs": [
    {
     "data": {
      "text/plain": [
       "7"
      ]
     },
     "execution_count": 137,
     "metadata": {},
     "output_type": "execute_result"
    }
   ],
   "source": [
    "len(PS)"
   ]
  },
  {
   "cell_type": "code",
   "execution_count": 138,
   "id": "38307829",
   "metadata": {},
   "outputs": [],
   "source": [
    "for i in range(5):\n",
    "    driver.execute_script('window.scrollBy(0,100)')\n",
    "MM = []\n",
    "for x in url:\n",
    "    driver.get(x)\n",
    "    time.sleep(5)\n",
    "    try:\n",
    "        mm = driver.find_element(By.XPATH,'//*[@id=\"overview\"]/div[2]/div[3]/div/ul/li[4]/div/p[2]/strong')\n",
    "        MM.append(mm.text)\n",
    "    except NoSuchElementException:\n",
    "        MM.append('-') "
   ]
  },
  {
   "cell_type": "code",
   "execution_count": 139,
   "id": "1b1612a4",
   "metadata": {},
   "outputs": [
    {
     "data": {
      "text/plain": [
       "7"
      ]
     },
     "execution_count": 139,
     "metadata": {},
     "output_type": "execute_result"
    }
   ],
   "source": [
    "len(MM)"
   ]
  },
  {
   "cell_type": "code",
   "execution_count": 140,
   "id": "752b49dc",
   "metadata": {},
   "outputs": [],
   "source": [
    "for i in range(5):\n",
    "    driver.execute_script('window.scrollBy(0,100)')\n",
    "PC = []\n",
    "for x in url:\n",
    "    driver.get(x)\n",
    "    time.sleep(2)\n",
    "    try:\n",
    "        pc = driver.find_element(By.XPATH,'//*[@id=\"overview\"]/div[2]/div[4]/div/h2/strong')\n",
    "        PC.append(pc.text)\n",
    "    except NoSuchElementException:\n",
    "        PC.append('-') "
   ]
  },
  {
   "cell_type": "code",
   "execution_count": 141,
   "id": "34fbc729",
   "metadata": {},
   "outputs": [
    {
     "data": {
      "text/plain": [
       "7"
      ]
     },
     "execution_count": 141,
     "metadata": {},
     "output_type": "execute_result"
    }
   ],
   "source": [
    "len(PC)"
   ]
  },
  {
   "cell_type": "code",
   "execution_count": 142,
   "id": "589110e5",
   "metadata": {},
   "outputs": [
    {
     "data": {
      "text/html": [
       "<div>\n",
       "<style scoped>\n",
       "    .dataframe tbody tr th:only-of-type {\n",
       "        vertical-align: middle;\n",
       "    }\n",
       "\n",
       "    .dataframe tbody tr th {\n",
       "        vertical-align: top;\n",
       "    }\n",
       "\n",
       "    .dataframe thead th {\n",
       "        text-align: right;\n",
       "    }\n",
       "</style>\n",
       "<table border=\"1\" class=\"dataframe\">\n",
       "  <thead>\n",
       "    <tr style=\"text-align: right;\">\n",
       "      <th></th>\n",
       "      <th>Model Name</th>\n",
       "      <th>Operating System</th>\n",
       "      <th>Display</th>\n",
       "      <th>Processor</th>\n",
       "      <th>Memory</th>\n",
       "      <th>Price</th>\n",
       "      <th>Product Url</th>\n",
       "    </tr>\n",
       "  </thead>\n",
       "  <tbody>\n",
       "    <tr>\n",
       "      <th>1</th>\n",
       "      <td>Omen 17</td>\n",
       "      <td>Windows 11 Home</td>\n",
       "      <td>17.3\" (2560 x 1440)</td>\n",
       "      <td>13th Gen Intel Core i7-13700HX | 5.0 GHz</td>\n",
       "      <td>1 TB SSD/16 GB DDR5</td>\n",
       "      <td>₹ 269,777</td>\n",
       "      <td>https://www.digit.in/laptops/hp-omen-17-ck2008...</td>\n",
       "    </tr>\n",
       "    <tr>\n",
       "      <th>2</th>\n",
       "      <td>GT77 Titan</td>\n",
       "      <td>Windows 11 Home</td>\n",
       "      <td>17.3\" (3840 x 2160)</td>\n",
       "      <td>12th Gen Intel Core i9-12900HX | 3.6 GHz</td>\n",
       "      <td>2 TB SSD/64 GB DDR5</td>\n",
       "      <td>₹ 499,990</td>\n",
       "      <td>https://www.digit.in/laptops/msi-gt77-titan-12...</td>\n",
       "    </tr>\n",
       "    <tr>\n",
       "      <th>3</th>\n",
       "      <td>Legion 5i Pro</td>\n",
       "      <td>Windows 11 Home</td>\n",
       "      <td>16\" (2560 x 1600)</td>\n",
       "      <td>12th Gen Intel Core i7-12700H | 4.7 GHz</td>\n",
       "      <td>1 TB SSD/32 GB DDR5</td>\n",
       "      <td>₹ 218,000</td>\n",
       "      <td>https://www.digit.in/laptops/lenovo-legion-5i-...</td>\n",
       "    </tr>\n",
       "    <tr>\n",
       "      <th>4</th>\n",
       "      <td>ROG Strix Scar 18</td>\n",
       "      <td>Windows 11 Home</td>\n",
       "      <td>18\" (1920 x 1200)</td>\n",
       "      <td>13th Gen Intel Core i9-13980HX | 2.2 GHz</td>\n",
       "      <td>1 TB SSD/32 GB DDR5</td>\n",
       "      <td>₹ 279,990</td>\n",
       "      <td>https://www.digit.in/laptops/asus-rog-strix-sc...</td>\n",
       "    </tr>\n",
       "    <tr>\n",
       "      <th>5</th>\n",
       "      <td>Predator Helios Neo 16</td>\n",
       "      <td>Windows 11 Home</td>\n",
       "      <td>16\" (2560 x 1600)</td>\n",
       "      <td>13th Gen Intel Core i7-13700HX | NA</td>\n",
       "      <td>1 TB SSD/16 GB DDR5</td>\n",
       "      <td>₹ 149,990</td>\n",
       "      <td>https://www.digit.in/laptops/acer-predator-hel...</td>\n",
       "    </tr>\n",
       "    <tr>\n",
       "      <th>6</th>\n",
       "      <td>ROG Zephyrus G14</td>\n",
       "      <td>Windows 11 Home</td>\n",
       "      <td>14\" (1920 x 1200)</td>\n",
       "      <td>AMD Ryzen 9-6900HS | 4.9 GHz</td>\n",
       "      <td>1 TB SSD/16 GB DDR5</td>\n",
       "      <td>₹ 156,990</td>\n",
       "      <td>https://www.digit.in/laptops/asus-rog-zephyrus...</td>\n",
       "    </tr>\n",
       "    <tr>\n",
       "      <th>7</th>\n",
       "      <td>Cyborg 15</td>\n",
       "      <td>Windows 11 Home</td>\n",
       "      <td>15.6\" (1920 x 1080)</td>\n",
       "      <td>12th Gen Intel Core i7-12650H | 4.7 GHz</td>\n",
       "      <td>1 TB SSD/16 GB DDR5</td>\n",
       "      <td>₹ 130,990</td>\n",
       "      <td>https://www.digit.in/laptops/msi-cyborg-15-12t...</td>\n",
       "    </tr>\n",
       "  </tbody>\n",
       "</table>\n",
       "</div>"
      ],
      "text/plain": [
       "               Model Name Operating System              Display  \\\n",
       "1                 Omen 17  Windows 11 Home  17.3\" (2560 x 1440)   \n",
       "2              GT77 Titan  Windows 11 Home  17.3\" (3840 x 2160)   \n",
       "3           Legion 5i Pro  Windows 11 Home    16\" (2560 x 1600)   \n",
       "4       ROG Strix Scar 18  Windows 11 Home    18\" (1920 x 1200)   \n",
       "5  Predator Helios Neo 16  Windows 11 Home    16\" (2560 x 1600)   \n",
       "6        ROG Zephyrus G14  Windows 11 Home    14\" (1920 x 1200)   \n",
       "7               Cyborg 15  Windows 11 Home  15.6\" (1920 x 1080)   \n",
       "\n",
       "                                  Processor               Memory      Price  \\\n",
       "1  13th Gen Intel Core i7-13700HX | 5.0 GHz  1 TB SSD/16 GB DDR5  ₹ 269,777   \n",
       "2  12th Gen Intel Core i9-12900HX | 3.6 GHz  2 TB SSD/64 GB DDR5  ₹ 499,990   \n",
       "3   12th Gen Intel Core i7-12700H | 4.7 GHz  1 TB SSD/32 GB DDR5  ₹ 218,000   \n",
       "4  13th Gen Intel Core i9-13980HX | 2.2 GHz  1 TB SSD/32 GB DDR5  ₹ 279,990   \n",
       "5       13th Gen Intel Core i7-13700HX | NA  1 TB SSD/16 GB DDR5  ₹ 149,990   \n",
       "6              AMD Ryzen 9-6900HS | 4.9 GHz  1 TB SSD/16 GB DDR5  ₹ 156,990   \n",
       "7   12th Gen Intel Core i7-12650H | 4.7 GHz  1 TB SSD/16 GB DDR5  ₹ 130,990   \n",
       "\n",
       "                                         Product Url  \n",
       "1  https://www.digit.in/laptops/hp-omen-17-ck2008...  \n",
       "2  https://www.digit.in/laptops/msi-gt77-titan-12...  \n",
       "3  https://www.digit.in/laptops/lenovo-legion-5i-...  \n",
       "4  https://www.digit.in/laptops/asus-rog-strix-sc...  \n",
       "5  https://www.digit.in/laptops/acer-predator-hel...  \n",
       "6  https://www.digit.in/laptops/asus-rog-zephyrus...  \n",
       "7  https://www.digit.in/laptops/msi-cyborg-15-12t...  "
      ]
     },
     "execution_count": 142,
     "metadata": {},
     "output_type": "execute_result"
    }
   ],
   "source": [
    "import pandas as pd\n",
    "df = pd.DataFrame({'Model Name':MN,'Operating System':OS, 'Display':DS,'Processor':PS,'Memory':MM,'Price':PC,'Product Url':url},index = range(1,8))\n",
    "df"
   ]
  },
  {
   "cell_type": "markdown",
   "id": "6cb0827a",
   "metadata": {},
   "source": [
    "# 7. Write a python program to scrape the details for all billionaires from www.forbes.com. Details to be scrapped: “Rank”, “Name”, “Net worth”, “Age”, “Citizenship”, “Source”, “Industry”."
   ]
  },
  {
   "cell_type": "code",
   "execution_count": 4,
   "id": "a49c96cc",
   "metadata": {},
   "outputs": [],
   "source": [
    "driver = webdriver.Chrome()\n",
    "driver.get('https://www.forbes.com/billionaires/')"
   ]
  },
  {
   "cell_type": "code",
   "execution_count": 60,
   "id": "a5af257d",
   "metadata": {},
   "outputs": [],
   "source": [
    "rank = []\n",
    "time.sleep(2)\n",
    "try:\n",
    "    RANK = driver.find_elements(By.XPATH,'//div[@ class=\"Table_rank___YBhk Table_dataCell__2QCve\"]')\n",
    "    for i in RANK:\n",
    "        rank.append(i.text)\n",
    "except NoSuchElementException:\n",
    "    rank.append('-')\n"
   ]
  },
  {
   "cell_type": "code",
   "execution_count": 61,
   "id": "a14c5dc0",
   "metadata": {},
   "outputs": [
    {
     "data": {
      "text/plain": [
       "200"
      ]
     },
     "execution_count": 61,
     "metadata": {},
     "output_type": "execute_result"
    }
   ],
   "source": [
    "len(rank)"
   ]
  },
  {
   "cell_type": "code",
   "execution_count": 10,
   "id": "c50ba9e7",
   "metadata": {},
   "outputs": [],
   "source": [
    "name=[]\n",
    "\n",
    "Name=driver.find_elements(By.XPATH,'//div[@class=\"Table_dataCell__2QCve\"]')\n",
    "for i in Name[0::4]:\n",
    "    Name=i.text\n",
    "    name.append(Name)"
   ]
  },
  {
   "cell_type": "code",
   "execution_count": 13,
   "id": "0dee10f1",
   "metadata": {},
   "outputs": [
    {
     "data": {
      "text/plain": [
       "200"
      ]
     },
     "execution_count": 13,
     "metadata": {},
     "output_type": "execute_result"
    }
   ],
   "source": [
    "len(name)"
   ]
  },
  {
   "cell_type": "code",
   "execution_count": 23,
   "id": "74ce1334",
   "metadata": {},
   "outputs": [],
   "source": [
    "networth=[]\n",
    "\n",
    "nw=driver.find_elements(By.XPATH,'//div[@class=\"Table_netWorth___L4R5 Table_dataCell__2QCve\"]')\n",
    "for i in nw:    \n",
    "    nw=i.text\n",
    "    networth.append(nw)"
   ]
  },
  {
   "cell_type": "code",
   "execution_count": 24,
   "id": "1c84e49d",
   "metadata": {},
   "outputs": [
    {
     "data": {
      "text/plain": [
       "200"
      ]
     },
     "execution_count": 24,
     "metadata": {},
     "output_type": "execute_result"
    }
   ],
   "source": [
    "len(networth)"
   ]
  },
  {
   "cell_type": "code",
   "execution_count": 31,
   "id": "9547ba76",
   "metadata": {},
   "outputs": [],
   "source": [
    "age=[]\n",
    "\n",
    "Age=driver.find_elements(By.XPATH,'//div[@class=\"Table_dataCell__2QCve\"]')\n",
    "for i in Age[1::4]:    \n",
    "    Age=i.text\n",
    "    age.append(Age)"
   ]
  },
  {
   "cell_type": "code",
   "execution_count": 33,
   "id": "20712c60",
   "metadata": {},
   "outputs": [
    {
     "data": {
      "text/plain": [
       "200"
      ]
     },
     "execution_count": 33,
     "metadata": {},
     "output_type": "execute_result"
    }
   ],
   "source": [
    "len(age)"
   ]
  },
  {
   "cell_type": "code",
   "execution_count": 38,
   "id": "28fd3785",
   "metadata": {},
   "outputs": [],
   "source": [
    "ctz=[]\n",
    "\n",
    "CTZ=driver.find_elements(By.XPATH,'//div[@ class=\"TableRow_cell__db-hv Table_cell__houv9\" ]')\n",
    "for i in CTZ[4::7]:    \n",
    "    CTZ=i.text\n",
    "    ctz.append(CTZ)"
   ]
  },
  {
   "cell_type": "code",
   "execution_count": 40,
   "id": "c9db1f8c",
   "metadata": {},
   "outputs": [
    {
     "data": {
      "text/plain": [
       "200"
      ]
     },
     "execution_count": 40,
     "metadata": {},
     "output_type": "execute_result"
    }
   ],
   "source": [
    "len(ctz)"
   ]
  },
  {
   "cell_type": "code",
   "execution_count": 47,
   "id": "6ce0f5f8",
   "metadata": {},
   "outputs": [],
   "source": [
    "src=[]\n",
    "\n",
    "SRC=driver.find_elements(By.XPATH,'//div[@ class=\"TableRow_cell__db-hv Table_cell__houv9\" ]')\n",
    "for i in SRC[5::7]:    \n",
    "    SRC=i.text\n",
    "    src.append(SRC)"
   ]
  },
  {
   "cell_type": "code",
   "execution_count": 58,
   "id": "6ead30e8",
   "metadata": {},
   "outputs": [
    {
     "data": {
      "text/plain": [
       "200"
      ]
     },
     "execution_count": 58,
     "metadata": {},
     "output_type": "execute_result"
    }
   ],
   "source": [
    "len(src)"
   ]
  },
  {
   "cell_type": "code",
   "execution_count": 54,
   "id": "fdc67696",
   "metadata": {},
   "outputs": [],
   "source": [
    "ind = []\n",
    "IND=driver.find_elements(By.XPATH,'//div[@ class=\"TableRow_cell__db-hv Table_cell__houv9\" ]')\n",
    "for i in IND[6::7]:    \n",
    "    IND=i.text\n",
    "    ind.append(IND)"
   ]
  },
  {
   "cell_type": "code",
   "execution_count": 57,
   "id": "bc94eff5",
   "metadata": {},
   "outputs": [
    {
     "data": {
      "text/plain": [
       "200"
      ]
     },
     "execution_count": 57,
     "metadata": {},
     "output_type": "execute_result"
    }
   ],
   "source": [
    "len(ind)"
   ]
  },
  {
   "cell_type": "code",
   "execution_count": 62,
   "id": "246b25f6",
   "metadata": {},
   "outputs": [
    {
     "data": {
      "text/html": [
       "<div>\n",
       "<style scoped>\n",
       "    .dataframe tbody tr th:only-of-type {\n",
       "        vertical-align: middle;\n",
       "    }\n",
       "\n",
       "    .dataframe tbody tr th {\n",
       "        vertical-align: top;\n",
       "    }\n",
       "\n",
       "    .dataframe thead th {\n",
       "        text-align: right;\n",
       "    }\n",
       "</style>\n",
       "<table border=\"1\" class=\"dataframe\">\n",
       "  <thead>\n",
       "    <tr style=\"text-align: right;\">\n",
       "      <th></th>\n",
       "      <th>Rank</th>\n",
       "      <th>Name</th>\n",
       "      <th>Networth</th>\n",
       "      <th>Age</th>\n",
       "      <th>Citizenship</th>\n",
       "      <th>Source</th>\n",
       "      <th>Industry</th>\n",
       "    </tr>\n",
       "  </thead>\n",
       "  <tbody>\n",
       "    <tr>\n",
       "      <th>1</th>\n",
       "      <td>1</td>\n",
       "      <td>Bernard Arnault &amp; family</td>\n",
       "      <td>$211 B</td>\n",
       "      <td>74</td>\n",
       "      <td>France</td>\n",
       "      <td>LVMH</td>\n",
       "      <td>Fashion &amp; Retail</td>\n",
       "    </tr>\n",
       "    <tr>\n",
       "      <th>2</th>\n",
       "      <td>2</td>\n",
       "      <td>Elon Musk</td>\n",
       "      <td>$180 B</td>\n",
       "      <td>51</td>\n",
       "      <td>United States</td>\n",
       "      <td>Tesla, SpaceX</td>\n",
       "      <td>Automotive</td>\n",
       "    </tr>\n",
       "    <tr>\n",
       "      <th>3</th>\n",
       "      <td>3</td>\n",
       "      <td>Jeff Bezos</td>\n",
       "      <td>$114 B</td>\n",
       "      <td>59</td>\n",
       "      <td>United States</td>\n",
       "      <td>Amazon</td>\n",
       "      <td>Technology</td>\n",
       "    </tr>\n",
       "    <tr>\n",
       "      <th>4</th>\n",
       "      <td>4</td>\n",
       "      <td>Larry Ellison</td>\n",
       "      <td>$107 B</td>\n",
       "      <td>78</td>\n",
       "      <td>United States</td>\n",
       "      <td>Oracle</td>\n",
       "      <td>Technology</td>\n",
       "    </tr>\n",
       "    <tr>\n",
       "      <th>5</th>\n",
       "      <td>5</td>\n",
       "      <td>Warren Buffett</td>\n",
       "      <td>$106 B</td>\n",
       "      <td>92</td>\n",
       "      <td>United States</td>\n",
       "      <td>Berkshire Hathaway</td>\n",
       "      <td>Finance &amp; Investments</td>\n",
       "    </tr>\n",
       "    <tr>\n",
       "      <th>...</th>\n",
       "      <td>...</td>\n",
       "      <td>...</td>\n",
       "      <td>...</td>\n",
       "      <td>...</td>\n",
       "      <td>...</td>\n",
       "      <td>...</td>\n",
       "      <td>...</td>\n",
       "    </tr>\n",
       "    <tr>\n",
       "      <th>196</th>\n",
       "      <td>195</td>\n",
       "      <td>Jin Baofang</td>\n",
       "      <td>$9.6 B</td>\n",
       "      <td>70</td>\n",
       "      <td>China</td>\n",
       "      <td>Solar panels</td>\n",
       "      <td>Energy</td>\n",
       "    </tr>\n",
       "    <tr>\n",
       "      <th>197</th>\n",
       "      <td>195</td>\n",
       "      <td>Luo Liguo &amp; family</td>\n",
       "      <td>$9.6 B</td>\n",
       "      <td>67</td>\n",
       "      <td>China</td>\n",
       "      <td>Chemicals</td>\n",
       "      <td>Manufacturing</td>\n",
       "    </tr>\n",
       "    <tr>\n",
       "      <th>198</th>\n",
       "      <td>195</td>\n",
       "      <td>Marijke Mars</td>\n",
       "      <td>$9.6 B</td>\n",
       "      <td>58</td>\n",
       "      <td>United States</td>\n",
       "      <td>Candy, pet food</td>\n",
       "      <td>Food &amp; Beverage</td>\n",
       "    </tr>\n",
       "    <tr>\n",
       "      <th>199</th>\n",
       "      <td>195</td>\n",
       "      <td>Pamela Mars</td>\n",
       "      <td>$9.6 B</td>\n",
       "      <td>62</td>\n",
       "      <td>United States</td>\n",
       "      <td>Candy, pet food</td>\n",
       "      <td>Food &amp; Beverage</td>\n",
       "    </tr>\n",
       "    <tr>\n",
       "      <th>200</th>\n",
       "      <td>195</td>\n",
       "      <td>Valerie Mars</td>\n",
       "      <td>$9.6 B</td>\n",
       "      <td>64</td>\n",
       "      <td>United States</td>\n",
       "      <td>Candy, pet food</td>\n",
       "      <td>Food &amp; Beverage</td>\n",
       "    </tr>\n",
       "  </tbody>\n",
       "</table>\n",
       "<p>200 rows × 7 columns</p>\n",
       "</div>"
      ],
      "text/plain": [
       "    Rank                      Name Networth Age    Citizenship  \\\n",
       "1      1  Bernard Arnault & family   $211 B  74         France   \n",
       "2      2                 Elon Musk   $180 B  51  United States   \n",
       "3      3                Jeff Bezos   $114 B  59  United States   \n",
       "4      4             Larry Ellison   $107 B  78  United States   \n",
       "5      5            Warren Buffett   $106 B  92  United States   \n",
       "..   ...                       ...      ...  ..            ...   \n",
       "196  195               Jin Baofang   $9.6 B  70          China   \n",
       "197  195        Luo Liguo & family   $9.6 B  67          China   \n",
       "198  195              Marijke Mars   $9.6 B  58  United States   \n",
       "199  195               Pamela Mars   $9.6 B  62  United States   \n",
       "200  195              Valerie Mars   $9.6 B  64  United States   \n",
       "\n",
       "                 Source               Industry  \n",
       "1                  LVMH       Fashion & Retail  \n",
       "2         Tesla, SpaceX             Automotive  \n",
       "3                Amazon             Technology  \n",
       "4                Oracle             Technology  \n",
       "5    Berkshire Hathaway  Finance & Investments  \n",
       "..                  ...                    ...  \n",
       "196        Solar panels                 Energy  \n",
       "197           Chemicals          Manufacturing  \n",
       "198     Candy, pet food        Food & Beverage  \n",
       "199     Candy, pet food        Food & Beverage  \n",
       "200     Candy, pet food        Food & Beverage  \n",
       "\n",
       "[200 rows x 7 columns]"
      ]
     },
     "execution_count": 62,
     "metadata": {},
     "output_type": "execute_result"
    }
   ],
   "source": [
    "import pandas as pd\n",
    "df = pd.DataFrame({'Rank':rank,'Name':name, 'Networth':networth,'Age':age,'Citizenship':ctz,'Source':src,'Industry':ind},index = range(1,201))\n",
    "df"
   ]
  },
  {
   "cell_type": "markdown",
   "id": "c495fa75",
   "metadata": {},
   "source": [
    "# 8. Write a program to extract at least 500 Comments, Comment upvote and time when comment was posted from any YouTube Video. "
   ]
  },
  {
   "cell_type": "code",
   "execution_count": 103,
   "id": "22e270a9",
   "metadata": {},
   "outputs": [],
   "source": [
    "driver = webdriver.Chrome()\n",
    "driver.get('https://www.youtube.com/watch?v=3v--OCXUgYY&t=4345s')"
   ]
  },
  {
   "cell_type": "code",
   "execution_count": 104,
   "id": "426bbd8d",
   "metadata": {},
   "outputs": [],
   "source": [
    "Comm = []\n",
    "for i in range(100):\n",
    "    driver.execute_script('window.scrollBy(0,100)')\n",
    "    time.sleep(2)\n",
    "    try:\n",
    "        comm_elements = driver.find_elements(By.XPATH,'//div[@class=\"style-scope ytd-expander\"]')\n",
    "        for z in comm_elements:\n",
    "            if len(Comm) < 500:\n",
    "                comm = z.text\n",
    "                Comm.append(comm)\n",
    "            else:\n",
    "                break\n",
    "    except NoSuchElementException:\n",
    "        Comm.append('_')"
   ]
  },
  {
   "cell_type": "code",
   "execution_count": 108,
   "id": "2550bcaf",
   "metadata": {},
   "outputs": [
    {
     "data": {
      "text/plain": [
       "500"
      ]
     },
     "execution_count": 108,
     "metadata": {},
     "output_type": "execute_result"
    }
   ],
   "source": [
    "len(Comm)"
   ]
  },
  {
   "cell_type": "code",
   "execution_count": 113,
   "id": "07f3be2e",
   "metadata": {},
   "outputs": [],
   "source": [
    "Up = []\n",
    "for i in range(100):\n",
    "    driver.execute_script('window.scrollBy(0,100)')\n",
    "    time.sleep(2)\n",
    "    try:\n",
    "        up_elements = driver.find_elements(By.XPATH,'//*[@id=\"vote-count-middle\"]')\n",
    "        for z in up_elements:\n",
    "            if len(Up) < 500:\n",
    "                up = z.text\n",
    "                Up.append(up)\n",
    "            else:\n",
    "                break\n",
    "    except NoSuchElementException:\n",
    "        Up.append('_')"
   ]
  },
  {
   "cell_type": "code",
   "execution_count": 115,
   "id": "d9b352ec",
   "metadata": {},
   "outputs": [
    {
     "data": {
      "text/plain": [
       "500"
      ]
     },
     "execution_count": 115,
     "metadata": {},
     "output_type": "execute_result"
    }
   ],
   "source": [
    "len(Up) "
   ]
  },
  {
   "cell_type": "code",
   "execution_count": 128,
   "id": "cc76ced4",
   "metadata": {},
   "outputs": [],
   "source": [
    "import time\n",
    "Tm = []\n",
    "for i in range(100):\n",
    "    driver.execute_script('window.scrollBy(0,100)')\n",
    "    time.sleep(2)\n",
    "    try:\n",
    "        tm_elements = driver.find_elements(By.XPATH,'//*[@id=\"header-author\"]/yt-formatted-string/a')\n",
    "        for z in tm_elements:\n",
    "            if len(Tm) < 500:\n",
    "                tm = z.text\n",
    "                Tm.append(tm)\n",
    "            else:\n",
    "                break\n",
    "    except NoSuchElementException:\n",
    "        Tm.append('_')"
   ]
  },
  {
   "cell_type": "code",
   "execution_count": 130,
   "id": "5d7886ca",
   "metadata": {},
   "outputs": [
    {
     "data": {
      "text/plain": [
       "500"
      ]
     },
     "execution_count": 130,
     "metadata": {},
     "output_type": "execute_result"
    }
   ],
   "source": [
    "len(Tm)"
   ]
  },
  {
   "cell_type": "code",
   "execution_count": 131,
   "id": "b05d30ce",
   "metadata": {},
   "outputs": [
    {
     "data": {
      "text/html": [
       "<div>\n",
       "<style scoped>\n",
       "    .dataframe tbody tr th:only-of-type {\n",
       "        vertical-align: middle;\n",
       "    }\n",
       "\n",
       "    .dataframe tbody tr th {\n",
       "        vertical-align: top;\n",
       "    }\n",
       "\n",
       "    .dataframe thead th {\n",
       "        text-align: right;\n",
       "    }\n",
       "</style>\n",
       "<table border=\"1\" class=\"dataframe\">\n",
       "  <thead>\n",
       "    <tr style=\"text-align: right;\">\n",
       "      <th></th>\n",
       "      <th>Comments</th>\n",
       "      <th>Upvote</th>\n",
       "      <th>Time</th>\n",
       "    </tr>\n",
       "  </thead>\n",
       "  <tbody>\n",
       "    <tr>\n",
       "      <th>1</th>\n",
       "      <td></td>\n",
       "      <td>105</td>\n",
       "      <td>1 year ago (edited)</td>\n",
       "    </tr>\n",
       "    <tr>\n",
       "      <th>2</th>\n",
       "      <td>Thank you ma'am for delivering such a perfect ...</td>\n",
       "      <td>133</td>\n",
       "      <td>3 months ago</td>\n",
       "    </tr>\n",
       "    <tr>\n",
       "      <th>3</th>\n",
       "      <td>Timestamps: \\n\\n0:00 Introduction \\n\\n0:58 Con...</td>\n",
       "      <td>448</td>\n",
       "      <td>7 months ago</td>\n",
       "    </tr>\n",
       "    <tr>\n",
       "      <th>4</th>\n",
       "      <td>For Boards 2023, watch only until 3:27:01\\nAft...</td>\n",
       "      <td>438</td>\n",
       "      <td>1 year ago</td>\n",
       "    </tr>\n",
       "    <tr>\n",
       "      <th>5</th>\n",
       "      <td>Physics chemistry maths biology just wow ️ wor...</td>\n",
       "      <td>255</td>\n",
       "      <td>1 year ago</td>\n",
       "    </tr>\n",
       "    <tr>\n",
       "      <th>...</th>\n",
       "      <td>...</td>\n",
       "      <td>...</td>\n",
       "      <td>...</td>\n",
       "    </tr>\n",
       "    <tr>\n",
       "      <th>496</th>\n",
       "      <td>It's really amazing how you can make us unders...</td>\n",
       "      <td>10</td>\n",
       "      <td>1 year ago</td>\n",
       "    </tr>\n",
       "    <tr>\n",
       "      <th>497</th>\n",
       "      <td>Concept hua Extra Crystal Clearer...\\nThanks a...</td>\n",
       "      <td>28</td>\n",
       "      <td>2 years ago</td>\n",
       "    </tr>\n",
       "    <tr>\n",
       "      <th>498</th>\n",
       "      <td>Ma'am thank you so much for the time stamps. T...</td>\n",
       "      <td>1</td>\n",
       "      <td>1 year ago</td>\n",
       "    </tr>\n",
       "    <tr>\n",
       "      <th>499</th>\n",
       "      <td>Maam your efforts &amp; explanations are just simp...</td>\n",
       "      <td>14</td>\n",
       "      <td>2 years ago</td>\n",
       "    </tr>\n",
       "    <tr>\n",
       "      <th>500</th>\n",
       "      <td>Yes ma'am  all concepts are crestal cleared</td>\n",
       "      <td>1</td>\n",
       "      <td>1 year ago</td>\n",
       "    </tr>\n",
       "  </tbody>\n",
       "</table>\n",
       "<p>500 rows × 3 columns</p>\n",
       "</div>"
      ],
      "text/plain": [
       "                                              Comments Upvote  \\\n",
       "1                                                         105   \n",
       "2    Thank you ma'am for delivering such a perfect ...    133   \n",
       "3    Timestamps: \\n\\n0:00 Introduction \\n\\n0:58 Con...    448   \n",
       "4    For Boards 2023, watch only until 3:27:01\\nAft...    438   \n",
       "5    Physics chemistry maths biology just wow ️ wor...    255   \n",
       "..                                                 ...    ...   \n",
       "496  It's really amazing how you can make us unders...     10   \n",
       "497  Concept hua Extra Crystal Clearer...\\nThanks a...     28   \n",
       "498  Ma'am thank you so much for the time stamps. T...      1   \n",
       "499  Maam your efforts & explanations are just simp...     14   \n",
       "500       Yes ma'am  all concepts are crestal cleared       1   \n",
       "\n",
       "                    Time  \n",
       "1    1 year ago (edited)  \n",
       "2           3 months ago  \n",
       "3           7 months ago  \n",
       "4             1 year ago  \n",
       "5             1 year ago  \n",
       "..                   ...  \n",
       "496           1 year ago  \n",
       "497          2 years ago  \n",
       "498           1 year ago  \n",
       "499          2 years ago  \n",
       "500           1 year ago  \n",
       "\n",
       "[500 rows x 3 columns]"
      ]
     },
     "execution_count": 131,
     "metadata": {},
     "output_type": "execute_result"
    }
   ],
   "source": [
    "df = pd.DataFrame({'Comments':Comm,'Upvote':Up, 'Time':Tm},index = range(1,501))\n",
    "df"
   ]
  },
  {
   "cell_type": "markdown",
   "id": "13656d6a",
   "metadata": {},
   "source": [
    "# 9. Write a python program to scrape a data for all available Hostels from https://www.hostelworld.com/ in “London” location. You have to scrape hostel name, distance from city centre, ratings, total reviews, overall reviews, privates from price, dorms from price, facilities and property description."
   ]
  },
  {
   "cell_type": "code",
   "execution_count": 150,
   "id": "b40d0e9e",
   "metadata": {},
   "outputs": [],
   "source": [
    "driver = webdriver.Chrome()\n",
    "driver.get('https://www.hostelworld.com/')"
   ]
  },
  {
   "cell_type": "code",
   "execution_count": 151,
   "id": "dc41523d",
   "metadata": {},
   "outputs": [],
   "source": [
    "designation = driver.find_element(By.XPATH,\"/html/body/div[3]/div/div/div[2]/div[2]/div[2]/div/div/div/div[1]/div[1]/div/div[2]/input\")\n",
    "designation.send_keys('london')\n"
   ]
  },
  {
   "cell_type": "code",
   "execution_count": 152,
   "id": "53faa485",
   "metadata": {},
   "outputs": [],
   "source": [
    "button = driver.find_element(By.XPATH,\"/html/body/div[3]/div/div/div[2]/div[2]/div[2]/div/div/div/div[1]/div[2]/div/ul/li[2]/button/div[2]\")\n",
    "button.click()\n",
    "search = driver.find_element(By.XPATH,\"/html/body/div[3]/div/div/div[2]/div[2]/div[2]/div/div/div/div[5]/button[1]\")\n",
    "search.click()"
   ]
  },
  {
   "cell_type": "code",
   "execution_count": 145,
   "id": "18505a7a",
   "metadata": {},
   "outputs": [],
   "source": [
    "url = []\n",
    "for page in range(2):\n",
    "    link_elements = driver.find_elements(By.XPATH,'//a[@class=\"nuxt-link\"]')\n",
    "    for link_element in link_elements:\n",
    "        try:\n",
    "            url.append(link_element.get_attribute('href'))\n",
    "            next_button = driver.find_element(By.XPATH,'/html/body/div[3]/div/div/div[2]/div/div[2]/div[1]/div/div/div/div/div[6]/div/div[2]/button')\n",
    "            next_button.click()\n",
    "        except NoSuchElementException:\n",
    "            url.append('-')"
   ]
  },
  {
   "cell_type": "code",
   "execution_count": 147,
   "id": "a31f8c3a",
   "metadata": {},
   "outputs": [
    {
     "data": {
      "text/plain": [
       "48"
      ]
     },
     "execution_count": 147,
     "metadata": {},
     "output_type": "execute_result"
    }
   ],
   "source": [
    "len(url) "
   ]
  },
  {
   "cell_type": "code",
   "execution_count": 163,
   "id": "ddb0c109",
   "metadata": {},
   "outputs": [
    {
     "ename": "InvalidArgumentException",
     "evalue": "Message: invalid argument\n  (Session info: chrome=116.0.5845.180)\nStacktrace:\n\tGetHandleVerifier [0x00007FF6A17F52A2+57122]\n\t(No symbol) [0x00007FF6A176EA92]\n\t(No symbol) [0x00007FF6A163E25D]\n\t(No symbol) [0x00007FF6A162C80C]\n\t(No symbol) [0x00007FF6A162AA3B]\n\t(No symbol) [0x00007FF6A162B153]\n\t(No symbol) [0x00007FF6A163FF4B]\n\t(No symbol) [0x00007FF6A16AEEF7]\n\t(No symbol) [0x00007FF6A1696FDA]\n\t(No symbol) [0x00007FF6A16AEB82]\n\t(No symbol) [0x00007FF6A1696DB3]\n\t(No symbol) [0x00007FF6A166D2B1]\n\t(No symbol) [0x00007FF6A166E494]\n\tGetHandleVerifier [0x00007FF6A1A9EF82+2849794]\n\tGetHandleVerifier [0x00007FF6A1AF1D24+3189156]\n\tGetHandleVerifier [0x00007FF6A1AEACAF+3160367]\n\tGetHandleVerifier [0x00007FF6A1886D06+653702]\n\t(No symbol) [0x00007FF6A177A208]\n\t(No symbol) [0x00007FF6A17762C4]\n\t(No symbol) [0x00007FF6A17763F6]\n\t(No symbol) [0x00007FF6A17667A3]\n\tBaseThreadInitThunk [0x00007FFAFEAA7614+20]\n\tRtlUserThreadStart [0x00007FFAFF5A26B1+33]\n",
     "output_type": "error",
     "traceback": [
      "\u001b[1;31m---------------------------------------------------------------------------\u001b[0m",
      "\u001b[1;31mInvalidArgumentException\u001b[0m                  Traceback (most recent call last)",
      "\u001b[1;32m~\\AppData\\Local\\Temp\\ipykernel_2304\\1511417977.py\u001b[0m in \u001b[0;36m<module>\u001b[1;34m\u001b[0m\n\u001b[0;32m      2\u001b[0m \u001b[0mtime\u001b[0m\u001b[1;33m.\u001b[0m\u001b[0msleep\u001b[0m\u001b[1;33m(\u001b[0m\u001b[1;36m2\u001b[0m\u001b[1;33m)\u001b[0m\u001b[1;33m\u001b[0m\u001b[1;33m\u001b[0m\u001b[0m\n\u001b[0;32m      3\u001b[0m \u001b[1;32mfor\u001b[0m \u001b[0mx\u001b[0m \u001b[1;32min\u001b[0m \u001b[0murl\u001b[0m\u001b[1;33m:\u001b[0m\u001b[1;33m\u001b[0m\u001b[1;33m\u001b[0m\u001b[0m\n\u001b[1;32m----> 4\u001b[1;33m     \u001b[0mdriver\u001b[0m\u001b[1;33m.\u001b[0m\u001b[0mget\u001b[0m\u001b[1;33m(\u001b[0m\u001b[0mx\u001b[0m\u001b[1;33m)\u001b[0m\u001b[1;33m\u001b[0m\u001b[1;33m\u001b[0m\u001b[0m\n\u001b[0m\u001b[0;32m      5\u001b[0m     \u001b[1;32mtry\u001b[0m\u001b[1;33m:\u001b[0m\u001b[1;33m\u001b[0m\u001b[1;33m\u001b[0m\u001b[0m\n\u001b[0;32m      6\u001b[0m         \u001b[0mhostel_name\u001b[0m \u001b[1;33m=\u001b[0m \u001b[0mdriver\u001b[0m\u001b[1;33m.\u001b[0m\u001b[0mfind_element\u001b[0m\u001b[1;33m(\u001b[0m\u001b[0mBy\u001b[0m\u001b[1;33m.\u001b[0m\u001b[0mXPATH\u001b[0m\u001b[1;33m,\u001b[0m\u001b[1;34m'//div[@class=\"property-name\"]'\u001b[0m\u001b[1;33m)\u001b[0m\u001b[1;33m\u001b[0m\u001b[1;33m\u001b[0m\u001b[0m\n",
      "\u001b[1;32m~\\AppData\\Roaming\\Python\\Python39\\site-packages\\selenium\\webdriver\\remote\\webdriver.py\u001b[0m in \u001b[0;36mget\u001b[1;34m(self, url)\u001b[0m\n\u001b[0;32m    352\u001b[0m     \u001b[1;32mdef\u001b[0m \u001b[0mget\u001b[0m\u001b[1;33m(\u001b[0m\u001b[0mself\u001b[0m\u001b[1;33m,\u001b[0m \u001b[0murl\u001b[0m\u001b[1;33m:\u001b[0m \u001b[0mstr\u001b[0m\u001b[1;33m)\u001b[0m \u001b[1;33m->\u001b[0m \u001b[1;32mNone\u001b[0m\u001b[1;33m:\u001b[0m\u001b[1;33m\u001b[0m\u001b[1;33m\u001b[0m\u001b[0m\n\u001b[0;32m    353\u001b[0m         \u001b[1;34m\"\"\"Loads a web page in the current browser session.\"\"\"\u001b[0m\u001b[1;33m\u001b[0m\u001b[1;33m\u001b[0m\u001b[0m\n\u001b[1;32m--> 354\u001b[1;33m         \u001b[0mself\u001b[0m\u001b[1;33m.\u001b[0m\u001b[0mexecute\u001b[0m\u001b[1;33m(\u001b[0m\u001b[0mCommand\u001b[0m\u001b[1;33m.\u001b[0m\u001b[0mGET\u001b[0m\u001b[1;33m,\u001b[0m \u001b[1;33m{\u001b[0m\u001b[1;34m\"url\"\u001b[0m\u001b[1;33m:\u001b[0m \u001b[0murl\u001b[0m\u001b[1;33m}\u001b[0m\u001b[1;33m)\u001b[0m\u001b[1;33m\u001b[0m\u001b[1;33m\u001b[0m\u001b[0m\n\u001b[0m\u001b[0;32m    355\u001b[0m \u001b[1;33m\u001b[0m\u001b[0m\n\u001b[0;32m    356\u001b[0m     \u001b[1;33m@\u001b[0m\u001b[0mproperty\u001b[0m\u001b[1;33m\u001b[0m\u001b[1;33m\u001b[0m\u001b[0m\n",
      "\u001b[1;32m~\\AppData\\Roaming\\Python\\Python39\\site-packages\\selenium\\webdriver\\remote\\webdriver.py\u001b[0m in \u001b[0;36mexecute\u001b[1;34m(self, driver_command, params)\u001b[0m\n\u001b[0;32m    343\u001b[0m         \u001b[0mresponse\u001b[0m \u001b[1;33m=\u001b[0m \u001b[0mself\u001b[0m\u001b[1;33m.\u001b[0m\u001b[0mcommand_executor\u001b[0m\u001b[1;33m.\u001b[0m\u001b[0mexecute\u001b[0m\u001b[1;33m(\u001b[0m\u001b[0mdriver_command\u001b[0m\u001b[1;33m,\u001b[0m \u001b[0mparams\u001b[0m\u001b[1;33m)\u001b[0m\u001b[1;33m\u001b[0m\u001b[1;33m\u001b[0m\u001b[0m\n\u001b[0;32m    344\u001b[0m         \u001b[1;32mif\u001b[0m \u001b[0mresponse\u001b[0m\u001b[1;33m:\u001b[0m\u001b[1;33m\u001b[0m\u001b[1;33m\u001b[0m\u001b[0m\n\u001b[1;32m--> 345\u001b[1;33m             \u001b[0mself\u001b[0m\u001b[1;33m.\u001b[0m\u001b[0merror_handler\u001b[0m\u001b[1;33m.\u001b[0m\u001b[0mcheck_response\u001b[0m\u001b[1;33m(\u001b[0m\u001b[0mresponse\u001b[0m\u001b[1;33m)\u001b[0m\u001b[1;33m\u001b[0m\u001b[1;33m\u001b[0m\u001b[0m\n\u001b[0m\u001b[0;32m    346\u001b[0m             \u001b[0mresponse\u001b[0m\u001b[1;33m[\u001b[0m\u001b[1;34m\"value\"\u001b[0m\u001b[1;33m]\u001b[0m \u001b[1;33m=\u001b[0m \u001b[0mself\u001b[0m\u001b[1;33m.\u001b[0m\u001b[0m_unwrap_value\u001b[0m\u001b[1;33m(\u001b[0m\u001b[0mresponse\u001b[0m\u001b[1;33m.\u001b[0m\u001b[0mget\u001b[0m\u001b[1;33m(\u001b[0m\u001b[1;34m\"value\"\u001b[0m\u001b[1;33m,\u001b[0m \u001b[1;32mNone\u001b[0m\u001b[1;33m)\u001b[0m\u001b[1;33m)\u001b[0m\u001b[1;33m\u001b[0m\u001b[1;33m\u001b[0m\u001b[0m\n\u001b[0;32m    347\u001b[0m             \u001b[1;32mreturn\u001b[0m \u001b[0mresponse\u001b[0m\u001b[1;33m\u001b[0m\u001b[1;33m\u001b[0m\u001b[0m\n",
      "\u001b[1;32m~\\AppData\\Roaming\\Python\\Python39\\site-packages\\selenium\\webdriver\\remote\\errorhandler.py\u001b[0m in \u001b[0;36mcheck_response\u001b[1;34m(self, response)\u001b[0m\n\u001b[0;32m    227\u001b[0m                 \u001b[0malert_text\u001b[0m \u001b[1;33m=\u001b[0m \u001b[0mvalue\u001b[0m\u001b[1;33m[\u001b[0m\u001b[1;34m\"alert\"\u001b[0m\u001b[1;33m]\u001b[0m\u001b[1;33m.\u001b[0m\u001b[0mget\u001b[0m\u001b[1;33m(\u001b[0m\u001b[1;34m\"text\"\u001b[0m\u001b[1;33m)\u001b[0m\u001b[1;33m\u001b[0m\u001b[1;33m\u001b[0m\u001b[0m\n\u001b[0;32m    228\u001b[0m             \u001b[1;32mraise\u001b[0m \u001b[0mexception_class\u001b[0m\u001b[1;33m(\u001b[0m\u001b[0mmessage\u001b[0m\u001b[1;33m,\u001b[0m \u001b[0mscreen\u001b[0m\u001b[1;33m,\u001b[0m \u001b[0mstacktrace\u001b[0m\u001b[1;33m,\u001b[0m \u001b[0malert_text\u001b[0m\u001b[1;33m)\u001b[0m  \u001b[1;31m# type: ignore[call-arg]  # mypy is not smart enough here\u001b[0m\u001b[1;33m\u001b[0m\u001b[1;33m\u001b[0m\u001b[0m\n\u001b[1;32m--> 229\u001b[1;33m         \u001b[1;32mraise\u001b[0m \u001b[0mexception_class\u001b[0m\u001b[1;33m(\u001b[0m\u001b[0mmessage\u001b[0m\u001b[1;33m,\u001b[0m \u001b[0mscreen\u001b[0m\u001b[1;33m,\u001b[0m \u001b[0mstacktrace\u001b[0m\u001b[1;33m)\u001b[0m\u001b[1;33m\u001b[0m\u001b[1;33m\u001b[0m\u001b[0m\n\u001b[0m",
      "\u001b[1;31mInvalidArgumentException\u001b[0m: Message: invalid argument\n  (Session info: chrome=116.0.5845.180)\nStacktrace:\n\tGetHandleVerifier [0x00007FF6A17F52A2+57122]\n\t(No symbol) [0x00007FF6A176EA92]\n\t(No symbol) [0x00007FF6A163E25D]\n\t(No symbol) [0x00007FF6A162C80C]\n\t(No symbol) [0x00007FF6A162AA3B]\n\t(No symbol) [0x00007FF6A162B153]\n\t(No symbol) [0x00007FF6A163FF4B]\n\t(No symbol) [0x00007FF6A16AEEF7]\n\t(No symbol) [0x00007FF6A1696FDA]\n\t(No symbol) [0x00007FF6A16AEB82]\n\t(No symbol) [0x00007FF6A1696DB3]\n\t(No symbol) [0x00007FF6A166D2B1]\n\t(No symbol) [0x00007FF6A166E494]\n\tGetHandleVerifier [0x00007FF6A1A9EF82+2849794]\n\tGetHandleVerifier [0x00007FF6A1AF1D24+3189156]\n\tGetHandleVerifier [0x00007FF6A1AEACAF+3160367]\n\tGetHandleVerifier [0x00007FF6A1886D06+653702]\n\t(No symbol) [0x00007FF6A177A208]\n\t(No symbol) [0x00007FF6A17762C4]\n\t(No symbol) [0x00007FF6A17763F6]\n\t(No symbol) [0x00007FF6A17667A3]\n\tBaseThreadInitThunk [0x00007FFAFEAA7614+20]\n\tRtlUserThreadStart [0x00007FFAFF5A26B1+33]\n"
     ]
    }
   ],
   "source": [
    "HN = []\n",
    "time.sleep(2)\n",
    "for x in url:\n",
    "    driver.get(x)\n",
    "    try:\n",
    "        hostel_name = driver.find_element(By.XPATH,'//div[@class=\"property-name\"]')\n",
    "        HN.append(hostel_name.text)\n",
    "        next_button = driver.find_element(By.XPATH,'/html/body/div[3]/div/div/div[2]/div/div[2]/div[1]/div/div/div/div/div[6]/div/div[2]/button')\n",
    "        next_button.click()    \n",
    "    except NoSuchElementException:\n",
    "        HN.append('-')"
   ]
  },
  {
   "cell_type": "code",
   "execution_count": 162,
   "id": "f09ec2e9",
   "metadata": {},
   "outputs": [
    {
     "data": {
      "text/plain": [
       "[\"St Christopher's Village\", 'Kensal Green Backpackers', '-']"
      ]
     },
     "execution_count": 162,
     "metadata": {},
     "output_type": "execute_result"
    }
   ],
   "source": [
    "HN"
   ]
  },
  {
   "cell_type": "code",
   "execution_count": null,
   "id": "51749b43",
   "metadata": {},
   "outputs": [],
   "source": []
  }
 ],
 "metadata": {
  "kernelspec": {
   "display_name": "Python 3 (ipykernel)",
   "language": "python",
   "name": "python3"
  },
  "language_info": {
   "codemirror_mode": {
    "name": "ipython",
    "version": 3
   },
   "file_extension": ".py",
   "mimetype": "text/x-python",
   "name": "python",
   "nbconvert_exporter": "python",
   "pygments_lexer": "ipython3",
   "version": "3.9.13"
  }
 },
 "nbformat": 4,
 "nbformat_minor": 5
}
