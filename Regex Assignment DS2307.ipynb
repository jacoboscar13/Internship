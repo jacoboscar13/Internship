{
 "cells": [
  {
   "cell_type": "markdown",
   "id": "226843be",
   "metadata": {},
   "source": [
    "# Question 1- Write a Python program to replace all occurrences of a space, comma, or dot with a colon."
   ]
  },
  {
   "cell_type": "code",
   "execution_count": 7,
   "id": "0b18fbb1",
   "metadata": {},
   "outputs": [
    {
     "name": "stdout",
     "output_type": "stream",
     "text": [
      "Python:Exercises::PHP:exercises:\n"
     ]
    }
   ],
   "source": [
    "import re\n",
    "string = 'Python Exercises, PHP exercises.'\n",
    "pattern = r'[ ,.]'\n",
    "replace = ':'\n",
    "\n",
    "new_string = re.sub(pattern,replace,string)\n",
    "print(new_string)"
   ]
  },
  {
   "cell_type": "markdown",
   "id": "0839fef0",
   "metadata": {},
   "source": [
    "# Question 2-  Write a Python program to find all words starting with 'a' or 'e' in a given string"
   ]
  },
  {
   "cell_type": "code",
   "execution_count": 16,
   "id": "fba082f3",
   "metadata": {},
   "outputs": [
    {
     "name": "stdout",
     "output_type": "stream",
     "text": [
      "Enter something ANcent disaster in empty Enigma world\n"
     ]
    },
    {
     "data": {
      "text/plain": [
       "['ANcent', 'empty', 'Enigma']"
      ]
     },
     "execution_count": 16,
     "metadata": {},
     "output_type": "execute_result"
    }
   ],
   "source": [
    "string = str(input('Enter something '))\n",
    "\n",
    "pattern = r'\\b[aeAE]\\w+'\n",
    "re.findall(pattern,string)"
   ]
  },
  {
   "cell_type": "markdown",
   "id": "9cfe61a1",
   "metadata": {},
   "source": [
    "# Question 3- Create a function in python to find all words that are at least 4 characters long in a string. The use of the re.compile() method is mandatory."
   ]
  },
  {
   "cell_type": "code",
   "execution_count": 17,
   "id": "461eebf2",
   "metadata": {},
   "outputs": [
    {
     "name": "stdout",
     "output_type": "stream",
     "text": [
      "Enter something alaska is a very beautiful city in ast\n",
      "['alaska', 'very', 'beautiful', 'city']\n"
     ]
    }
   ],
   "source": [
    "import re\n",
    "pattern = r'\\b\\w{4,}\\b'\n",
    "prog = re.compile(pattern)\n",
    "\n",
    "string = str(input('Enter something '))\n",
    "result = prog.findall(string)\n",
    "print(result)"
   ]
  },
  {
   "cell_type": "markdown",
   "id": "26be8f94",
   "metadata": {},
   "source": [
    "# Question 4- Create a function in python to find all three, four, and five character words in a string. The use of the re.compile() method is mandatory."
   ]
  },
  {
   "cell_type": "code",
   "execution_count": 20,
   "id": "d823a5a5",
   "metadata": {},
   "outputs": [
    {
     "name": "stdout",
     "output_type": "stream",
     "text": [
      "Enter something a very wonderful answer to and from\n",
      "['very', 'and', 'from']\n"
     ]
    }
   ],
   "source": [
    "import re\n",
    "pattern = r'\\b\\w{3,5}\\b'\n",
    "prog = re.compile(pattern)\n",
    "\n",
    "string = str(input('Enter something '))\n",
    "result = prog.findall(string)\n",
    "print(result)"
   ]
  },
  {
   "cell_type": "markdown",
   "id": "74aee0a5",
   "metadata": {},
   "source": [
    "# Question 5- Create a function in Python to remove the parenthesis in a list of strings. The use of the re.compile() method is mandatory."
   ]
  },
  {
   "cell_type": "code",
   "execution_count": 7,
   "id": "f3570776",
   "metadata": {},
   "outputs": [
    {
     "name": "stdout",
     "output_type": "stream",
     "text": [
      "example.com\n",
      "hr@fliprobo.com\n",
      "github.com\n",
      "HelloData Science World\n",
      "DataScientist\n"
     ]
    }
   ],
   "source": [
    "import re\n",
    "\n",
    "def remove_parentheses(text_list):\n",
    "    pattern = re.compile(r'\\s*\\(\\s*|\\s*\\)\\s*')\n",
    "    return [pattern.sub('', text) for text in text_list]\n",
    "\n",
    "sample_text = [\"example (.com)\", \"hr@fliprobo (.com)\", \"github (.com)\", \"Hello (Data Science World)\", \"Data (Scientist)\"]\n",
    "print('\\n'.join(remove_parentheses(sample_text)))"
   ]
  },
  {
   "cell_type": "markdown",
   "id": "058d334c",
   "metadata": {},
   "source": [
    "# Write a python program to remove the parenthesis area from the text stored in the text file using Regular Expression"
   ]
  },
  {
   "cell_type": "code",
   "execution_count": 3,
   "id": "9a628f0a",
   "metadata": {},
   "outputs": [
    {
     "name": "stdout",
     "output_type": "stream",
     "text": [
      "[\"example \", \"hr@fliprobo \", \"github \", \"Hello \", \"Data \"]\n"
     ]
    }
   ],
   "source": [
    "import re\n",
    "\n",
    "string = '[\"example (.com)\", \"hr@fliprobo (.com)\", \"github (.com)\", \"Hello (Data Science World)\", \"Data (Scientist)\"]'\n",
    "pattern = r'\\([^)]*\\)'\n",
    "replace = ''\n",
    "print(re.sub(pattern,replace,string))"
   ]
  },
  {
   "cell_type": "markdown",
   "id": "2aa8816b",
   "metadata": {},
   "source": [
    "# Write a regular expression in Python to split a string into uppercase letters."
   ]
  },
  {
   "cell_type": "code",
   "execution_count": 4,
   "id": "76aec2d1",
   "metadata": {},
   "outputs": [
    {
     "name": "stdout",
     "output_type": "stream",
     "text": [
      "['Importance', 'Of', 'Regular', 'Expressions', 'In', 'Python']\n"
     ]
    }
   ],
   "source": [
    "\n",
    "string = 'ImportanceOfRegularExpressionsInPython'\n",
    "pattern = r'[A-Z][a-z]*'\n",
    "print(re.findall(pattern,string))"
   ]
  },
  {
   "cell_type": "markdown",
   "id": "ea4240f1",
   "metadata": {},
   "source": [
    "# Create a function in python to insert spaces between words starting with numbers."
   ]
  },
  {
   "cell_type": "code",
   "execution_count": 8,
   "id": "84b3ea89",
   "metadata": {},
   "outputs": [
    {
     "name": "stdout",
     "output_type": "stream",
     "text": [
      "RegularExpression 1IsAn 2ImportantTopic 3InPython\n"
     ]
    }
   ],
   "source": [
    "string = 'RegularExpression1IsAn2ImportantTopic3InPython'\n",
    "pattern = r'(?=\\d)'\n",
    "\n",
    "print(re.sub(pattern,' ' ,string))"
   ]
  },
  {
   "cell_type": "markdown",
   "id": "8979eb4c",
   "metadata": {},
   "source": [
    "# Create a function in python to insert spaces between words starting with capital letters or with numbers."
   ]
  },
  {
   "cell_type": "code",
   "execution_count": 10,
   "id": "5779ede3",
   "metadata": {},
   "outputs": [
    {
     "name": "stdout",
     "output_type": "stream",
     "text": [
      "Regular Expression 1 Is An 2 Important Topic 3 In Python\n"
     ]
    }
   ],
   "source": [
    "string = 'RegularExpression1IsAn2ImportantTopic3InPython'\n",
    "pattern =r'(?<=[A-Z0-9])(?=[A-Z])|(?<=[a-z0-9])(?=[A-Z0-9])'\n",
    "\n",
    "print(re.sub(pattern,' ' ,string))"
   ]
  },
  {
   "cell_type": "markdown",
   "id": "971785d9",
   "metadata": {},
   "source": [
    "# Write a python program to extract email address from the text stored in the text file using Regular Expression."
   ]
  },
  {
   "cell_type": "code",
   "execution_count": 12,
   "id": "8f781050",
   "metadata": {},
   "outputs": [
    {
     "name": "stdout",
     "output_type": "stream",
     "text": [
      "['xyz@domain.com', 'xyz.abc@sdomain.domain.com', 'hr@fliprobo.com']\n"
     ]
    }
   ],
   "source": [
    "string = 'Hello my name is Data Science and my email address is xyz@domain.com and alternate email address is xyz.abc@sdomain.domain.com. Please contact us at hr@fliprobo.com for further information.' \n",
    "\n",
    "pattern =r'\\b[A-Za-z0-9._%+-]+@[A-Za-z0-9.-]+\\.[A-Z|a-z]{2,}\\b'\n",
    "\n",
    "print(re.findall(pattern,string))"
   ]
  },
  {
   "cell_type": "markdown",
   "id": "48555ca1",
   "metadata": {},
   "source": [
    "# Write a Python program to match a string that contains only upper and lowercase letters, numbers, and underscores."
   ]
  },
  {
   "cell_type": "code",
   "execution_count": 18,
   "id": "c22d90e5",
   "metadata": {},
   "outputs": [
    {
     "ename": "AttributeError",
     "evalue": "'str' object has no attribute 'findall'",
     "output_type": "error",
     "traceback": [
      "\u001b[1;31m---------------------------------------------------------------------------\u001b[0m",
      "\u001b[1;31mAttributeError\u001b[0m                            Traceback (most recent call last)",
      "\u001b[1;32m~\\AppData\\Local\\Temp\\ipykernel_9524\\4018826265.py\u001b[0m in \u001b[0;36m<module>\u001b[1;34m\u001b[0m\n\u001b[0;32m      2\u001b[0m \u001b[0mpattern\u001b[0m \u001b[1;33m=\u001b[0m  \u001b[1;34mr'^\\w+$'\u001b[0m\u001b[1;33m\u001b[0m\u001b[1;33m\u001b[0m\u001b[0m\n\u001b[0;32m      3\u001b[0m \u001b[1;32mfor\u001b[0m \u001b[0mi\u001b[0m \u001b[1;32min\u001b[0m \u001b[0mString\u001b[0m\u001b[1;33m:\u001b[0m\u001b[1;33m\u001b[0m\u001b[1;33m\u001b[0m\u001b[0m\n\u001b[1;32m----> 4\u001b[1;33m     \u001b[0mresult\u001b[0m \u001b[1;33m=\u001b[0m \u001b[0mpattern\u001b[0m\u001b[1;33m.\u001b[0m\u001b[0mfindall\u001b[0m\u001b[1;33m(\u001b[0m\u001b[0mi\u001b[0m\u001b[1;33m)\u001b[0m\u001b[1;33m\u001b[0m\u001b[1;33m\u001b[0m\u001b[0m\n\u001b[0m\u001b[0;32m      5\u001b[0m     \u001b[1;32mfor\u001b[0m \u001b[0mmatch\u001b[0m \u001b[1;32min\u001b[0m \u001b[0mresult\u001b[0m\u001b[1;33m:\u001b[0m\u001b[1;33m\u001b[0m\u001b[1;33m\u001b[0m\u001b[0m\n\u001b[0;32m      6\u001b[0m         \u001b[0mprint\u001b[0m\u001b[1;33m(\u001b[0m\u001b[0mmatch\u001b[0m\u001b[1;33m)\u001b[0m\u001b[1;33m\u001b[0m\u001b[1;33m\u001b[0m\u001b[0m\n",
      "\u001b[1;31mAttributeError\u001b[0m: 'str' object has no attribute 'findall'"
     ]
    }
   ],
   "source": [
    "String = ['Valid_string_123', 'Invalid string!', 'Another_valid_string_456']\n",
    "pattern =  r'^\\w+$'\n",
    "for i in String:\n",
    "    result = pattern.findall(i)\n",
    "    for match in result:\n",
    "        print(match)"
   ]
  },
  {
   "cell_type": "code",
   "execution_count": null,
   "id": "d253880b",
   "metadata": {},
   "outputs": [],
   "source": []
  }
 ],
 "metadata": {
  "kernelspec": {
   "display_name": "Python 3 (ipykernel)",
   "language": "python",
   "name": "python3"
  },
  "language_info": {
   "codemirror_mode": {
    "name": "ipython",
    "version": 3
   },
   "file_extension": ".py",
   "mimetype": "text/x-python",
   "name": "python",
   "nbconvert_exporter": "python",
   "pygments_lexer": "ipython3",
   "version": "3.9.13"
  }
 },
 "nbformat": 4,
 "nbformat_minor": 5
}
