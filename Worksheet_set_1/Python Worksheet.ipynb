{
 "cells": [
  {
   "cell_type": "markdown",
   "id": "eb3cf125",
   "metadata": {},
   "source": [
    "# 1. Which of the following operators is used to calculate remainder in a division?\n",
    "\n",
    "A) # B) &\n",
    "C) % D) $\n"
   ]
  },
  {
   "cell_type": "markdown",
   "id": "65c5a646",
   "metadata": {},
   "source": [
    "The correct answer is option C) %"
   ]
  },
  {
   "cell_type": "code",
   "execution_count": 1,
   "id": "45d2826d",
   "metadata": {},
   "outputs": [
    {
     "data": {
      "text/plain": [
       "0"
      ]
     },
     "execution_count": 1,
     "metadata": {},
     "output_type": "execute_result"
    }
   ],
   "source": [
    "4%2"
   ]
  },
  {
   "cell_type": "code",
   "execution_count": 2,
   "id": "d55b9d2d",
   "metadata": {},
   "outputs": [
    {
     "data": {
      "text/plain": [
       "1"
      ]
     },
     "execution_count": 2,
     "metadata": {},
     "output_type": "execute_result"
    }
   ],
   "source": [
    "3%2"
   ]
  },
  {
   "cell_type": "markdown",
   "id": "f3f5d0c6",
   "metadata": {},
   "source": [
    "# 2. In python 2//3 is equal to?\n",
    "A) 0.666 B) 0\n",
    "C) 1 D) 0.67"
   ]
  },
  {
   "cell_type": "markdown",
   "id": "b07aa517",
   "metadata": {},
   "source": [
    "The correct answer is B) 0 because // operator is used for floor division and the result of the division is rounded down to the nearest integer."
   ]
  },
  {
   "cell_type": "code",
   "execution_count": 3,
   "id": "4567857c",
   "metadata": {},
   "outputs": [
    {
     "data": {
      "text/plain": [
       "0"
      ]
     },
     "execution_count": 3,
     "metadata": {},
     "output_type": "execute_result"
    }
   ],
   "source": [
    "2//3"
   ]
  },
  {
   "cell_type": "code",
   "execution_count": 4,
   "id": "6feac145",
   "metadata": {},
   "outputs": [
    {
     "data": {
      "text/plain": [
       "0.6666666666666666"
      ]
     },
     "execution_count": 4,
     "metadata": {},
     "output_type": "execute_result"
    }
   ],
   "source": [
    "2/3"
   ]
  },
  {
   "cell_type": "markdown",
   "id": "6392bee3",
   "metadata": {},
   "source": [
    "# 3. In python, 6<<2 is equal to?\n",
    "A) 36 B) 10\n",
    "C) 24 D) 45\n",
    "\n",
    "The correct answer is C) 24 because << is bitwise left shift and binary representation of 6 is 110. shifting left 2 position is 11000 which is equivalent to 24"
   ]
  },
  {
   "cell_type": "code",
   "execution_count": 5,
   "id": "95516502",
   "metadata": {},
   "outputs": [
    {
     "data": {
      "text/plain": [
       "24"
      ]
     },
     "execution_count": 5,
     "metadata": {},
     "output_type": "execute_result"
    }
   ],
   "source": [
    "6<<2"
   ]
  },
  {
   "cell_type": "markdown",
   "id": "e749aa18",
   "metadata": {},
   "source": [
    "# 4. In python, 6&2 will give which of the following as output?\n",
    "A) 2 B) True\n",
    "C) False D) 0\n",
    "\n",
    "The correct answer is A) 2 because bitwise representation of 6 and 2  is 110 and 010 which will come equal to 010 = 2."
   ]
  },
  {
   "cell_type": "code",
   "execution_count": 6,
   "id": "ad57115d",
   "metadata": {},
   "outputs": [
    {
     "data": {
      "text/plain": [
       "2"
      ]
     },
     "execution_count": 6,
     "metadata": {},
     "output_type": "execute_result"
    }
   ],
   "source": [
    "6&2"
   ]
  },
  {
   "cell_type": "markdown",
   "id": "ed7bd0cd",
   "metadata": {},
   "source": [
    "# 5. In python, 6|2 will give which of the following as output?\n",
    "A) 2 B) 4\n",
    "C) 0 D) 6\n",
    "\n",
    "The correct answer is D) 6 because bitwise representation of 6 and 2 is 110 and 010 respectively which wil come equal to 110 = 6\n"
   ]
  },
  {
   "cell_type": "code",
   "execution_count": 7,
   "id": "7144c7ef",
   "metadata": {},
   "outputs": [
    {
     "data": {
      "text/plain": [
       "6"
      ]
     },
     "execution_count": 7,
     "metadata": {},
     "output_type": "execute_result"
    }
   ],
   "source": [
    "6|2"
   ]
  },
  {
   "cell_type": "markdown",
   "id": "06066dbc",
   "metadata": {},
   "source": [
    "# 6. What does the finally keyword denotes in python?\n",
    "A) It is used to mark the end of the code\n",
    "B) It encloses the lines of code which will be executed if any error occurs while executing the lines of code in \n",
    "the try block.\n",
    "C) the finally block will be executed no matter if the try block raises an error or not.\n",
    "D) None of the above\n",
    "\n",
    "The correct answer is c) the finally block will be executed no matter if the try block raises an error or not."
   ]
  },
  {
   "cell_type": "markdown",
   "id": "f39bb7ce",
   "metadata": {},
   "source": [
    "# 7. What does raise keyword is used for in python?\n",
    "A) It is used to raise an exception. B) It is used to define lambda function\n",
    "C) it's not a keyword in python. D) None of the above\n",
    "\n",
    "The correct answer is A) It is used to raise an exception."
   ]
  },
  {
   "cell_type": "markdown",
   "id": "186485e4",
   "metadata": {},
   "source": [
    "# 8. Which of the following is a common use case of yield keyword in python?\n",
    "A) in defining an iterator B) while defining a lambda function\n",
    "C) in defining a generator D) in for loop.\n",
    "\n",
    "The correct answer is C) in defining a generator\n",
    "\n"
   ]
  },
  {
   "cell_type": "markdown",
   "id": "89534d0a",
   "metadata": {},
   "source": [
    "# 9. Which of the following are the valid variable names?\n",
    "A) _abc B) 1abc\n",
    "C) abc2 D) None of the above\n",
    "\n",
    "The correct answers are A)_abc and C) abc2"
   ]
  },
  {
   "cell_type": "markdown",
   "id": "6f4df1cc",
   "metadata": {},
   "source": [
    "# 10. Which of the following are the keywords in python?\n",
    "A) yield B) raise\n",
    "C) look-in D) all of the above\n",
    "\n",
    "The correct answer is A) yield and B) raise"
   ]
  },
  {
   "cell_type": "markdown",
   "id": "55f8062a",
   "metadata": {},
   "source": [
    "# 11. Write a python program to find the factorial of a number"
   ]
  },
  {
   "cell_type": "code",
   "execution_count": 11,
   "id": "a886d119",
   "metadata": {},
   "outputs": [
    {
     "name": "stdout",
     "output_type": "stream",
     "text": [
      "Enter a number 5\n",
      "120\n"
     ]
    }
   ],
   "source": [
    "x = int(input('Enter a number '))\n",
    "f = 1\n",
    "while x>=1:\n",
    "    f = f*x\n",
    "    x -= 1\n",
    "print(f)"
   ]
  },
  {
   "cell_type": "markdown",
   "id": "9480364b",
   "metadata": {},
   "source": [
    "# 12. Write a python program to find whether a number is prime or composite\n"
   ]
  },
  {
   "cell_type": "code",
   "execution_count": 25,
   "id": "5feac529",
   "metadata": {},
   "outputs": [
    {
     "name": "stdout",
     "output_type": "stream",
     "text": [
      "enter a number : 29\n",
      "29  is a prime number\n"
     ]
    }
   ],
   "source": [
    "x = int(input(\"enter a number : \"))\n",
    "\n",
    "for z in range(x,x+1):\n",
    "    if z >1 :\n",
    "        for n in range(2,z):\n",
    "            if (z%n)==0:\n",
    "                print(z ,' is a composite number')\n",
    "                break\n",
    "        else:\n",
    "            print(z ,' is a prime number')"
   ]
  },
  {
   "cell_type": "markdown",
   "id": "7145a37e",
   "metadata": {},
   "source": [
    "# 13. Write a python program to check whether a given string is palindrome or not"
   ]
  },
  {
   "cell_type": "code",
   "execution_count": 15,
   "id": "d922fac8",
   "metadata": {},
   "outputs": [
    {
     "name": "stdout",
     "output_type": "stream",
     "text": [
      "Enter a string: baba\n",
      "baba  is not a palindrome\n"
     ]
    }
   ],
   "source": [
    "s = str(input(\"Enter a string: \"))\n",
    "if s == s[::-1]:\n",
    "    print(s, 'is a palindrome')\n",
    "else:\n",
    "    print(s, ' is not a palindrome')"
   ]
  },
  {
   "cell_type": "markdown",
   "id": "83890959",
   "metadata": {},
   "source": [
    "# 14. Write a Python program to get the third side of right-angled triangle from two given sides.\n"
   ]
  },
  {
   "cell_type": "code",
   "execution_count": 17,
   "id": "95f62d58",
   "metadata": {},
   "outputs": [
    {
     "name": "stdout",
     "output_type": "stream",
     "text": [
      "Enter the length of the first side: 4\n",
      "Enter the length of the second side: 5\n",
      "The length of the third side is : 6.4031242374328485\n"
     ]
    }
   ],
   "source": [
    "import numpy as np\n",
    "a = float(input(\"Enter the length of the first side: \"))\n",
    "b = float(input(\"Enter the length of the second side: \"))\n",
    "\n",
    "c = np.sqrt(a**2 + b**2)\n",
    "\n",
    "print('The length of the third side is :', c)\n"
   ]
  },
  {
   "cell_type": "markdown",
   "id": "8051b105",
   "metadata": {},
   "source": [
    "# 15. Write a python program to print the frequency of each of the characters present in a given string"
   ]
  },
  {
   "cell_type": "code",
   "execution_count": 24,
   "id": "db15dfe4",
   "metadata": {},
   "outputs": [
    {
     "name": "stdout",
     "output_type": "stream",
     "text": [
      "Enter a string: abcd\n",
      "a: 1\n",
      "b: 1\n",
      "c: 1\n",
      "d: 1\n"
     ]
    }
   ],
   "source": [
    "s = input(\"Enter a string: \")\n",
    "freq = {}\n",
    "\n",
    "for char in s:\n",
    "    if char in freq:\n",
    "        freq[char] += 1\n",
    "    else:\n",
    "        freq[char] = 1\n",
    "\n",
    "for char, count in freq.items():\n",
    "    print(f\"{char}: {count}\")"
   ]
  },
  {
   "cell_type": "code",
   "execution_count": null,
   "id": "22a56c53",
   "metadata": {},
   "outputs": [],
   "source": []
  }
 ],
 "metadata": {
  "kernelspec": {
   "display_name": "Python 3 (ipykernel)",
   "language": "python",
   "name": "python3"
  },
  "language_info": {
   "codemirror_mode": {
    "name": "ipython",
    "version": 3
   },
   "file_extension": ".py",
   "mimetype": "text/x-python",
   "name": "python",
   "nbconvert_exporter": "python",
   "pygments_lexer": "ipython3",
   "version": "3.9.13"
  }
 },
 "nbformat": 4,
 "nbformat_minor": 5
}
