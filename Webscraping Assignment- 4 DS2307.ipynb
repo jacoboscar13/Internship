{
 "cells": [
  {
   "cell_type": "code",
   "execution_count": 1,
   "id": "d1286755",
   "metadata": {},
   "outputs": [],
   "source": [
    "import selenium\n",
    "from selenium import webdriver\n",
    "import pandas as pd\n",
    "from selenium.webdriver.common.by import By\n",
    "import warnings\n",
    "warnings.filterwarnings('ignore')\n",
    "import time\n",
    "from selenium.common.exceptions import StaleElementReferenceException, NoSuchElementException, TimeoutException\n",
    "from selenium.webdriver.support import expected_conditions as EC\n",
    "from selenium.webdriver.chrome.options import Options\n",
    "import pandas as pd\n",
    "from selenium.webdriver.support.ui import WebDriverWait\n",
    "from bs4 import BeautifulSoup\n",
    "import requests"
   ]
  },
  {
   "cell_type": "markdown",
   "id": "89edc284",
   "metadata": {},
   "source": [
    "# 1. Scrape the details of most viewed videos on YouTube from Wikipedia. Url = \n",
    "https://en.wikipedia.org/wiki/List_of_most-viewed_YouTube_videos You need to find following details: \n",
    "        \n",
    "A) Rank \n",
    "\n",
    "B) Name\n",
    "\n",
    "C) Artist \n",
    "\n",
    "D) Upload date \n",
    "\n",
    "E) Views "
   ]
  },
  {
   "cell_type": "code",
   "execution_count": 2,
   "id": "e91cab51",
   "metadata": {},
   "outputs": [],
   "source": [
    "driver = webdriver.Chrome()\n",
    "driver.get('https://en.wikipedia.org/wiki/List_of_most-viewed_YouTube_videos')"
   ]
  },
  {
   "cell_type": "code",
   "execution_count": 4,
   "id": "4bfa20c8",
   "metadata": {},
   "outputs": [],
   "source": [
    "rank = []\n",
    "rn = driver.find_elements(By.XPATH,'//table[@class=\"wikitable sortable jquery-tablesorter\"]/tbody/tr/td[1]')\n",
    "for i in rn[:30]:\n",
    "    z = i.text\n",
    "    rank.append(z)"
   ]
  },
  {
   "cell_type": "code",
   "execution_count": 6,
   "id": "f18cbebe",
   "metadata": {},
   "outputs": [
    {
     "data": {
      "text/plain": [
       "30"
      ]
     },
     "execution_count": 6,
     "metadata": {},
     "output_type": "execute_result"
    }
   ],
   "source": [
    "len(rank)"
   ]
  },
  {
   "cell_type": "code",
   "execution_count": 7,
   "id": "ed86d7e6",
   "metadata": {},
   "outputs": [],
   "source": [
    "name = []\n",
    "nm = driver.find_elements(By.XPATH,'//table[@class=\"wikitable sortable jquery-tablesorter\"]/tbody/tr/td[2]')\n",
    "for i in nm[:30]:\n",
    "    z = i.text\n",
    "    name.append(z)"
   ]
  },
  {
   "cell_type": "code",
   "execution_count": 9,
   "id": "0aad86ec",
   "metadata": {},
   "outputs": [
    {
     "data": {
      "text/plain": [
       "30"
      ]
     },
     "execution_count": 9,
     "metadata": {},
     "output_type": "execute_result"
    }
   ],
   "source": [
    "len(name)"
   ]
  },
  {
   "cell_type": "code",
   "execution_count": 10,
   "id": "270bec3a",
   "metadata": {},
   "outputs": [],
   "source": [
    "artist = []\n",
    "ar = driver.find_elements(By.XPATH,'//table[@class=\"wikitable sortable jquery-tablesorter\"]/tbody/tr/td[3]')\n",
    "for i in ar[:30]:\n",
    "    z = i.text\n",
    "    artist.append(z)"
   ]
  },
  {
   "cell_type": "code",
   "execution_count": 12,
   "id": "05867c9d",
   "metadata": {},
   "outputs": [
    {
     "data": {
      "text/plain": [
       "30"
      ]
     },
     "execution_count": 12,
     "metadata": {},
     "output_type": "execute_result"
    }
   ],
   "source": [
    "len(artist)"
   ]
  },
  {
   "cell_type": "code",
   "execution_count": 15,
   "id": "1ff22bba",
   "metadata": {},
   "outputs": [],
   "source": [
    "ud = []\n",
    "UD = driver.find_elements(By.XPATH,'//table[@class=\"wikitable sortable jquery-tablesorter\"]/tbody/tr/td[5]')\n",
    "for i in UD[:30]:\n",
    "    z = i.text\n",
    "    ud.append(z)"
   ]
  },
  {
   "cell_type": "code",
   "execution_count": 16,
   "id": "f3114fc4",
   "metadata": {},
   "outputs": [
    {
     "data": {
      "text/plain": [
       "30"
      ]
     },
     "execution_count": 16,
     "metadata": {},
     "output_type": "execute_result"
    }
   ],
   "source": [
    "len(ud)"
   ]
  },
  {
   "cell_type": "code",
   "execution_count": 17,
   "id": "e3484e0b",
   "metadata": {},
   "outputs": [],
   "source": [
    "views = []\n",
    "vw = driver.find_elements(By.XPATH,'//table[@class=\"wikitable sortable jquery-tablesorter\"]/tbody/tr/td[4]')\n",
    "for i in vw[:30]:\n",
    "    z = i.text\n",
    "    views.append(z)"
   ]
  },
  {
   "cell_type": "code",
   "execution_count": 19,
   "id": "ee83ba69",
   "metadata": {},
   "outputs": [
    {
     "data": {
      "text/plain": [
       "30"
      ]
     },
     "execution_count": 19,
     "metadata": {},
     "output_type": "execute_result"
    }
   ],
   "source": [
    "len(views)"
   ]
  },
  {
   "cell_type": "code",
   "execution_count": 20,
   "id": "27aac742",
   "metadata": {},
   "outputs": [
    {
     "data": {
      "text/html": [
       "<div>\n",
       "<style scoped>\n",
       "    .dataframe tbody tr th:only-of-type {\n",
       "        vertical-align: middle;\n",
       "    }\n",
       "\n",
       "    .dataframe tbody tr th {\n",
       "        vertical-align: top;\n",
       "    }\n",
       "\n",
       "    .dataframe thead th {\n",
       "        text-align: right;\n",
       "    }\n",
       "</style>\n",
       "<table border=\"1\" class=\"dataframe\">\n",
       "  <thead>\n",
       "    <tr style=\"text-align: right;\">\n",
       "      <th></th>\n",
       "      <th>Rank</th>\n",
       "      <th>Name</th>\n",
       "      <th>Artist</th>\n",
       "      <th>Upload Date</th>\n",
       "      <th>Views in billions</th>\n",
       "    </tr>\n",
       "  </thead>\n",
       "  <tbody>\n",
       "    <tr>\n",
       "      <th>0</th>\n",
       "      <td>1.</td>\n",
       "      <td>\"Baby Shark Dance\"[6]</td>\n",
       "      <td>Pinkfong Baby Shark - Kids' Songs &amp; Stories</td>\n",
       "      <td>June 17, 2016</td>\n",
       "      <td>13.29</td>\n",
       "    </tr>\n",
       "    <tr>\n",
       "      <th>1</th>\n",
       "      <td>2.</td>\n",
       "      <td>\"Despacito\"[9]</td>\n",
       "      <td>Luis Fonsi</td>\n",
       "      <td>January 12, 2017</td>\n",
       "      <td>8.25</td>\n",
       "    </tr>\n",
       "    <tr>\n",
       "      <th>2</th>\n",
       "      <td>3.</td>\n",
       "      <td>\"Johny Johny Yes Papa\"[16]</td>\n",
       "      <td>LooLoo Kids - Nursery Rhymes and Children's Songs</td>\n",
       "      <td>October 8, 2016</td>\n",
       "      <td>6.78</td>\n",
       "    </tr>\n",
       "    <tr>\n",
       "      <th>3</th>\n",
       "      <td>4.</td>\n",
       "      <td>\"Bath Song\"[17]</td>\n",
       "      <td>Cocomelon - Nursery Rhymes</td>\n",
       "      <td>May 2, 2018</td>\n",
       "      <td>6.38</td>\n",
       "    </tr>\n",
       "    <tr>\n",
       "      <th>4</th>\n",
       "      <td>5.</td>\n",
       "      <td>\"Shape of You\"[18]</td>\n",
       "      <td>Ed Sheeran</td>\n",
       "      <td>January 30, 2017</td>\n",
       "      <td>6.07</td>\n",
       "    </tr>\n",
       "    <tr>\n",
       "      <th>5</th>\n",
       "      <td>6.</td>\n",
       "      <td>\"See You Again\"[21]</td>\n",
       "      <td>Wiz Khalifa</td>\n",
       "      <td>April 6, 2015</td>\n",
       "      <td>6.01</td>\n",
       "    </tr>\n",
       "    <tr>\n",
       "      <th>6</th>\n",
       "      <td>7.</td>\n",
       "      <td>\"Wheels on the Bus\"[26]</td>\n",
       "      <td>Cocomelon - Nursery Rhymes</td>\n",
       "      <td>May 24, 2018</td>\n",
       "      <td>5.53</td>\n",
       "    </tr>\n",
       "    <tr>\n",
       "      <th>7</th>\n",
       "      <td>8.</td>\n",
       "      <td>\"Phonics Song with Two Words\"[27]</td>\n",
       "      <td>ChuChu TV Nursery Rhymes &amp; Kids Songs</td>\n",
       "      <td>March 6, 2014</td>\n",
       "      <td>5.47</td>\n",
       "    </tr>\n",
       "    <tr>\n",
       "      <th>8</th>\n",
       "      <td>9.</td>\n",
       "      <td>\"Uptown Funk\"[28]</td>\n",
       "      <td>Mark Ronson</td>\n",
       "      <td>November 19, 2014</td>\n",
       "      <td>5.02</td>\n",
       "    </tr>\n",
       "    <tr>\n",
       "      <th>9</th>\n",
       "      <td>10.</td>\n",
       "      <td>\"Learning Colors – Colorful Eggs on a Farm\"[29]</td>\n",
       "      <td>Miroshka TV</td>\n",
       "      <td>February 27, 2018</td>\n",
       "      <td>4.96</td>\n",
       "    </tr>\n",
       "    <tr>\n",
       "      <th>10</th>\n",
       "      <td>11.</td>\n",
       "      <td>\"Gangnam Style\"[30]</td>\n",
       "      <td>officialpsy</td>\n",
       "      <td>July 15, 2012</td>\n",
       "      <td>4.88</td>\n",
       "    </tr>\n",
       "    <tr>\n",
       "      <th>11</th>\n",
       "      <td>12.</td>\n",
       "      <td>\"Masha and the Bear – Recipe for Disaster\"[35]</td>\n",
       "      <td>Get Movies</td>\n",
       "      <td>January 31, 2012</td>\n",
       "      <td>4.56</td>\n",
       "    </tr>\n",
       "    <tr>\n",
       "      <th>12</th>\n",
       "      <td>13.</td>\n",
       "      <td>\"Dame Tu Cosita\"[36]</td>\n",
       "      <td>Ultra Records</td>\n",
       "      <td>April 5, 2018</td>\n",
       "      <td>4.43</td>\n",
       "    </tr>\n",
       "    <tr>\n",
       "      <th>13</th>\n",
       "      <td>14.</td>\n",
       "      <td>\"Axel F\"[37]</td>\n",
       "      <td>Crazy Frog</td>\n",
       "      <td>June 16, 2009</td>\n",
       "      <td>4.04</td>\n",
       "    </tr>\n",
       "    <tr>\n",
       "      <th>14</th>\n",
       "      <td>15.</td>\n",
       "      <td>\"Sugar\"[38]</td>\n",
       "      <td>Maroon 5</td>\n",
       "      <td>January 14, 2015</td>\n",
       "      <td>3.93</td>\n",
       "    </tr>\n",
       "    <tr>\n",
       "      <th>15</th>\n",
       "      <td>16.</td>\n",
       "      <td>\"Counting Stars\"[39]</td>\n",
       "      <td>OneRepublic</td>\n",
       "      <td>May 31, 2013</td>\n",
       "      <td>3.86</td>\n",
       "    </tr>\n",
       "    <tr>\n",
       "      <th>16</th>\n",
       "      <td>17.</td>\n",
       "      <td>\"Roar\"[40]</td>\n",
       "      <td>Katy Perry</td>\n",
       "      <td>September 5, 2013</td>\n",
       "      <td>3.86</td>\n",
       "    </tr>\n",
       "    <tr>\n",
       "      <th>17</th>\n",
       "      <td>18.</td>\n",
       "      <td>\"Baa Baa Black Sheep\"[41]</td>\n",
       "      <td>Cocomelon - Nursery Rhymes</td>\n",
       "      <td>June 25, 2018</td>\n",
       "      <td>3.76</td>\n",
       "    </tr>\n",
       "    <tr>\n",
       "      <th>18</th>\n",
       "      <td>19.</td>\n",
       "      <td>\"Waka Waka (This Time for Africa)\"[42]</td>\n",
       "      <td>Shakira</td>\n",
       "      <td>June 4, 2010</td>\n",
       "      <td>3.71</td>\n",
       "    </tr>\n",
       "    <tr>\n",
       "      <th>19</th>\n",
       "      <td>20.</td>\n",
       "      <td>\"Sorry\"[43]</td>\n",
       "      <td>Justin Bieber</td>\n",
       "      <td>October 22, 2015</td>\n",
       "      <td>3.70</td>\n",
       "    </tr>\n",
       "    <tr>\n",
       "      <th>20</th>\n",
       "      <td>21.</td>\n",
       "      <td>\"Lakdi Ki Kathi\"[44]</td>\n",
       "      <td>Jingle Toons</td>\n",
       "      <td>June 14, 2018</td>\n",
       "      <td>3.67</td>\n",
       "    </tr>\n",
       "    <tr>\n",
       "      <th>21</th>\n",
       "      <td>22.</td>\n",
       "      <td>\"Thinking Out Loud\"[45]</td>\n",
       "      <td>Ed Sheeran</td>\n",
       "      <td>October 7, 2014</td>\n",
       "      <td>3.65</td>\n",
       "    </tr>\n",
       "    <tr>\n",
       "      <th>22</th>\n",
       "      <td>23.</td>\n",
       "      <td>\"Dark Horse\"[46]</td>\n",
       "      <td>Katy Perry</td>\n",
       "      <td>February 20, 2014</td>\n",
       "      <td>3.58</td>\n",
       "    </tr>\n",
       "    <tr>\n",
       "      <th>23</th>\n",
       "      <td>24.</td>\n",
       "      <td>\"Humpty the train on a fruits ride\"[47]</td>\n",
       "      <td>Kiddiestv Hindi - Nursery Rhymes &amp; Kids Songs</td>\n",
       "      <td>January 26, 2018</td>\n",
       "      <td>3.54</td>\n",
       "    </tr>\n",
       "    <tr>\n",
       "      <th>24</th>\n",
       "      <td>25.</td>\n",
       "      <td>\"Perfect\"[48]</td>\n",
       "      <td>Ed Sheeran</td>\n",
       "      <td>November 9, 2017</td>\n",
       "      <td>3.53</td>\n",
       "    </tr>\n",
       "    <tr>\n",
       "      <th>25</th>\n",
       "      <td>26.</td>\n",
       "      <td>\"Faded\"[49]</td>\n",
       "      <td>Alan Walker</td>\n",
       "      <td>December 3, 2015</td>\n",
       "      <td>3.51</td>\n",
       "    </tr>\n",
       "    <tr>\n",
       "      <th>26</th>\n",
       "      <td>27.</td>\n",
       "      <td>\"Let Her Go\"[50]</td>\n",
       "      <td>Passenger</td>\n",
       "      <td>July 25, 2012</td>\n",
       "      <td>3.50</td>\n",
       "    </tr>\n",
       "    <tr>\n",
       "      <th>27</th>\n",
       "      <td>28.</td>\n",
       "      <td>\"Girls Like You\"[51]</td>\n",
       "      <td>Maroon 5</td>\n",
       "      <td>May 31, 2018</td>\n",
       "      <td>3.47</td>\n",
       "    </tr>\n",
       "    <tr>\n",
       "      <th>28</th>\n",
       "      <td>29.</td>\n",
       "      <td>\"Lean On\"[52]</td>\n",
       "      <td>Major Lazer Official</td>\n",
       "      <td>March 22, 2015</td>\n",
       "      <td>3.45</td>\n",
       "    </tr>\n",
       "    <tr>\n",
       "      <th>29</th>\n",
       "      <td>30.</td>\n",
       "      <td>\"Bailando\"[53]</td>\n",
       "      <td>Enrique Iglesias</td>\n",
       "      <td>April 11, 2014</td>\n",
       "      <td>3.45</td>\n",
       "    </tr>\n",
       "  </tbody>\n",
       "</table>\n",
       "</div>"
      ],
      "text/plain": [
       "   Rank                                             Name  \\\n",
       "0    1.                            \"Baby Shark Dance\"[6]   \n",
       "1    2.                                   \"Despacito\"[9]   \n",
       "2    3.                       \"Johny Johny Yes Papa\"[16]   \n",
       "3    4.                                  \"Bath Song\"[17]   \n",
       "4    5.                               \"Shape of You\"[18]   \n",
       "5    6.                              \"See You Again\"[21]   \n",
       "6    7.                          \"Wheels on the Bus\"[26]   \n",
       "7    8.                \"Phonics Song with Two Words\"[27]   \n",
       "8    9.                                \"Uptown Funk\"[28]   \n",
       "9   10.  \"Learning Colors – Colorful Eggs on a Farm\"[29]   \n",
       "10  11.                              \"Gangnam Style\"[30]   \n",
       "11  12.   \"Masha and the Bear – Recipe for Disaster\"[35]   \n",
       "12  13.                             \"Dame Tu Cosita\"[36]   \n",
       "13  14.                                     \"Axel F\"[37]   \n",
       "14  15.                                      \"Sugar\"[38]   \n",
       "15  16.                             \"Counting Stars\"[39]   \n",
       "16  17.                                       \"Roar\"[40]   \n",
       "17  18.                        \"Baa Baa Black Sheep\"[41]   \n",
       "18  19.           \"Waka Waka (This Time for Africa)\"[42]   \n",
       "19  20.                                      \"Sorry\"[43]   \n",
       "20  21.                             \"Lakdi Ki Kathi\"[44]   \n",
       "21  22.                          \"Thinking Out Loud\"[45]   \n",
       "22  23.                                 \"Dark Horse\"[46]   \n",
       "23  24.          \"Humpty the train on a fruits ride\"[47]   \n",
       "24  25.                                    \"Perfect\"[48]   \n",
       "25  26.                                      \"Faded\"[49]   \n",
       "26  27.                                 \"Let Her Go\"[50]   \n",
       "27  28.                             \"Girls Like You\"[51]   \n",
       "28  29.                                    \"Lean On\"[52]   \n",
       "29  30.                                   \"Bailando\"[53]   \n",
       "\n",
       "                                               Artist        Upload Date  \\\n",
       "0         Pinkfong Baby Shark - Kids' Songs & Stories      June 17, 2016   \n",
       "1                                          Luis Fonsi   January 12, 2017   \n",
       "2   LooLoo Kids - Nursery Rhymes and Children's Songs    October 8, 2016   \n",
       "3                          Cocomelon - Nursery Rhymes        May 2, 2018   \n",
       "4                                          Ed Sheeran   January 30, 2017   \n",
       "5                                         Wiz Khalifa      April 6, 2015   \n",
       "6                          Cocomelon - Nursery Rhymes       May 24, 2018   \n",
       "7               ChuChu TV Nursery Rhymes & Kids Songs      March 6, 2014   \n",
       "8                                         Mark Ronson  November 19, 2014   \n",
       "9                                         Miroshka TV  February 27, 2018   \n",
       "10                                        officialpsy      July 15, 2012   \n",
       "11                                         Get Movies   January 31, 2012   \n",
       "12                                      Ultra Records      April 5, 2018   \n",
       "13                                         Crazy Frog      June 16, 2009   \n",
       "14                                           Maroon 5   January 14, 2015   \n",
       "15                                        OneRepublic       May 31, 2013   \n",
       "16                                         Katy Perry  September 5, 2013   \n",
       "17                         Cocomelon - Nursery Rhymes      June 25, 2018   \n",
       "18                                            Shakira       June 4, 2010   \n",
       "19                                      Justin Bieber   October 22, 2015   \n",
       "20                                       Jingle Toons      June 14, 2018   \n",
       "21                                         Ed Sheeran    October 7, 2014   \n",
       "22                                         Katy Perry  February 20, 2014   \n",
       "23      Kiddiestv Hindi - Nursery Rhymes & Kids Songs   January 26, 2018   \n",
       "24                                         Ed Sheeran   November 9, 2017   \n",
       "25                                        Alan Walker   December 3, 2015   \n",
       "26                                          Passenger      July 25, 2012   \n",
       "27                                           Maroon 5       May 31, 2018   \n",
       "28                               Major Lazer Official     March 22, 2015   \n",
       "29                                   Enrique Iglesias     April 11, 2014   \n",
       "\n",
       "   Views in billions  \n",
       "0              13.29  \n",
       "1               8.25  \n",
       "2               6.78  \n",
       "3               6.38  \n",
       "4               6.07  \n",
       "5               6.01  \n",
       "6               5.53  \n",
       "7               5.47  \n",
       "8               5.02  \n",
       "9               4.96  \n",
       "10              4.88  \n",
       "11              4.56  \n",
       "12              4.43  \n",
       "13              4.04  \n",
       "14              3.93  \n",
       "15              3.86  \n",
       "16              3.86  \n",
       "17              3.76  \n",
       "18              3.71  \n",
       "19              3.70  \n",
       "20              3.67  \n",
       "21              3.65  \n",
       "22              3.58  \n",
       "23              3.54  \n",
       "24              3.53  \n",
       "25              3.51  \n",
       "26              3.50  \n",
       "27              3.47  \n",
       "28              3.45  \n",
       "29              3.45  "
      ]
     },
     "execution_count": 20,
     "metadata": {},
     "output_type": "execute_result"
    }
   ],
   "source": [
    "df = pd.DataFrame({'Rank':rank,'Name':name,'Artist':artist,'Upload Date':ud,'Views in billions':views})\n",
    "df"
   ]
  },
  {
   "cell_type": "markdown",
   "id": "5cfce237",
   "metadata": {},
   "source": [
    "# 2. Scrape the details team India’s international fixtures from bcci.tv. \n",
    "Url = https://www.bcci.tv/.\n",
    "    \n",
    "You need to find following details:\n",
    "    \n",
    "A) Match title (I.e. 1 ODI)\n",
    "\n",
    "B) Series\n",
    "\n",
    "C) Place\n",
    "\n",
    "D) Date \n",
    "\n",
    "E) Time \n",
    "\n",
    "Note: - From bcci.tv home page you have reach to the international fixture page through code."
   ]
  },
  {
   "cell_type": "code",
   "execution_count": 21,
   "id": "025bbd31",
   "metadata": {},
   "outputs": [],
   "source": [
    "driver = webdriver.Chrome()\n",
    "driver.get('https://www.bcci.tv/')"
   ]
  },
  {
   "cell_type": "code",
   "execution_count": 22,
   "id": "37003dd0",
   "metadata": {},
   "outputs": [],
   "source": [
    "search = driver.find_element(By.XPATH,\"/html/body/nav/div[1]/div[2]/ul[1]/li[2]/a\")\n",
    "search.click()"
   ]
  },
  {
   "cell_type": "code",
   "execution_count": 23,
   "id": "22061315",
   "metadata": {},
   "outputs": [],
   "source": [
    "title = []\n",
    "tt = driver.find_elements(By.XPATH,'//span[@class=\"matchOrderText ng-binding ng-scope\"]') \n",
    "for i in tt:\n",
    "    z = i.text\n",
    "    title.append(z)"
   ]
  },
  {
   "cell_type": "code",
   "execution_count": 25,
   "id": "878244e9",
   "metadata": {},
   "outputs": [],
   "source": [
    "title = [s.replace('-','') for s in title]"
   ]
  },
  {
   "cell_type": "code",
   "execution_count": 27,
   "id": "670ce9b9",
   "metadata": {},
   "outputs": [
    {
     "data": {
      "text/plain": [
       "38"
      ]
     },
     "execution_count": 27,
     "metadata": {},
     "output_type": "execute_result"
    }
   ],
   "source": [
    "len(title)"
   ]
  },
  {
   "cell_type": "code",
   "execution_count": 28,
   "id": "de3aa06b",
   "metadata": {},
   "outputs": [],
   "source": [
    "series = []\n",
    "sr = driver.find_elements(By.XPATH,'//h5[@class=\"match-tournament-name ng-binding\"]') \n",
    "for i in sr:\n",
    "    z = i.text\n",
    "    series.append(z)"
   ]
  },
  {
   "cell_type": "code",
   "execution_count": 30,
   "id": "314f964a",
   "metadata": {},
   "outputs": [
    {
     "data": {
      "text/plain": [
       "38"
      ]
     },
     "execution_count": 30,
     "metadata": {},
     "output_type": "execute_result"
    }
   ],
   "source": [
    "len(series)"
   ]
  },
  {
   "cell_type": "code",
   "execution_count": 47,
   "id": "9625e8c6",
   "metadata": {},
   "outputs": [],
   "source": [
    "place = []\n",
    "pl = driver.find_elements(By.XPATH,'//div[@ class=\"match-place ng-scope\"]') \n",
    "for i in pl:\n",
    "    z = i.text\n",
    "    place.append(z)"
   ]
  },
  {
   "cell_type": "code",
   "execution_count": 51,
   "id": "2a00bb5a",
   "metadata": {},
   "outputs": [
    {
     "data": {
      "text/plain": [
       "38"
      ]
     },
     "execution_count": 51,
     "metadata": {},
     "output_type": "execute_result"
    }
   ],
   "source": [
    "venues = [item.split(' - ', 1)[1] for item in place]\n",
    "len(venues)"
   ]
  },
  {
   "cell_type": "code",
   "execution_count": 52,
   "id": "73e198ca",
   "metadata": {},
   "outputs": [],
   "source": [
    "date = []\n",
    "dt = driver.find_elements(By.XPATH,'//div[@class=\"match-dates ng-binding\"]') \n",
    "for i in dt:\n",
    "    z = i.text\n",
    "    date.append(z)"
   ]
  },
  {
   "cell_type": "code",
   "execution_count": 54,
   "id": "fe0b957c",
   "metadata": {},
   "outputs": [
    {
     "data": {
      "text/plain": [
       "38"
      ]
     },
     "execution_count": 54,
     "metadata": {},
     "output_type": "execute_result"
    }
   ],
   "source": [
    "len(date) "
   ]
  },
  {
   "cell_type": "code",
   "execution_count": 55,
   "id": "a99feaec",
   "metadata": {},
   "outputs": [],
   "source": [
    "time = []\n",
    "tm = driver.find_elements(By.XPATH,'//div[@class=\"match-time no-margin ng-binding\"]') \n",
    "for i in tm:\n",
    "    z = i.text\n",
    "    time.append(z)"
   ]
  },
  {
   "cell_type": "code",
   "execution_count": 57,
   "id": "b457549d",
   "metadata": {},
   "outputs": [
    {
     "data": {
      "text/plain": [
       "38"
      ]
     },
     "execution_count": 57,
     "metadata": {},
     "output_type": "execute_result"
    }
   ],
   "source": [
    "len(time)"
   ]
  },
  {
   "cell_type": "code",
   "execution_count": 59,
   "id": "f0be5286",
   "metadata": {},
   "outputs": [
    {
     "data": {
      "text/html": [
       "<div>\n",
       "<style scoped>\n",
       "    .dataframe tbody tr th:only-of-type {\n",
       "        vertical-align: middle;\n",
       "    }\n",
       "\n",
       "    .dataframe tbody tr th {\n",
       "        vertical-align: top;\n",
       "    }\n",
       "\n",
       "    .dataframe thead th {\n",
       "        text-align: right;\n",
       "    }\n",
       "</style>\n",
       "<table border=\"1\" class=\"dataframe\">\n",
       "  <thead>\n",
       "    <tr style=\"text-align: right;\">\n",
       "      <th></th>\n",
       "      <th>Match Title</th>\n",
       "      <th>Series</th>\n",
       "      <th>Place</th>\n",
       "      <th>Dates</th>\n",
       "      <th>Time</th>\n",
       "    </tr>\n",
       "  </thead>\n",
       "  <tbody>\n",
       "    <tr>\n",
       "      <th>1</th>\n",
       "      <td>5th ODI</td>\n",
       "      <td>ASIA CUP 2023</td>\n",
       "      <td>R Premadasa International Stadium, Colombo</td>\n",
       "      <td>15 SEP 2023</td>\n",
       "      <td>3:00 PM IST</td>\n",
       "    </tr>\n",
       "    <tr>\n",
       "      <th>2</th>\n",
       "      <td>1st T20I</td>\n",
       "      <td>19TH ASIAN GAMES 2023</td>\n",
       "      <td>Pingfeng Cricket Field, Hangzhou</td>\n",
       "      <td>21 SEP 2023</td>\n",
       "      <td>6:30 AM IST</td>\n",
       "    </tr>\n",
       "    <tr>\n",
       "      <th>3</th>\n",
       "      <td>1st ODI</td>\n",
       "      <td>AUSTRALIA TOUR OF INDIA 2023-24</td>\n",
       "      <td>Punjab Cricket Association IS Bindra Stadium, ...</td>\n",
       "      <td>22 SEP 2023</td>\n",
       "      <td>1:30 PM IST</td>\n",
       "    </tr>\n",
       "    <tr>\n",
       "      <th>4</th>\n",
       "      <td>2nd ODI</td>\n",
       "      <td>AUSTRALIA TOUR OF INDIA 2023-24</td>\n",
       "      <td>Holkar Cricket Stadium, Indore</td>\n",
       "      <td>24 SEP 2023</td>\n",
       "      <td>1:30 PM IST</td>\n",
       "    </tr>\n",
       "    <tr>\n",
       "      <th>5</th>\n",
       "      <td>3rd ODI</td>\n",
       "      <td>AUSTRALIA TOUR OF INDIA 2023-24</td>\n",
       "      <td>Saurashtra Cricket Association Stadium, Rajkot</td>\n",
       "      <td>27 SEP 2023</td>\n",
       "      <td>1:30 PM IST</td>\n",
       "    </tr>\n",
       "    <tr>\n",
       "      <th>6</th>\n",
       "      <td>1st ODI</td>\n",
       "      <td>ICC MENS WORLD CUP 2023 WARM-UP MATCHES</td>\n",
       "      <td>Barsapara Cricket Stadium, Guwahati</td>\n",
       "      <td>30 SEP 2023</td>\n",
       "      <td>2:00 PM IST</td>\n",
       "    </tr>\n",
       "    <tr>\n",
       "      <th>7</th>\n",
       "      <td>1st T20I</td>\n",
       "      <td>19TH ASIAN GAMES 2023</td>\n",
       "      <td>Pingfeng Cricket Field, Hangzhou</td>\n",
       "      <td>3 OCT 2023</td>\n",
       "      <td>6:30 AM IST</td>\n",
       "    </tr>\n",
       "    <tr>\n",
       "      <th>8</th>\n",
       "      <td>2nd ODI</td>\n",
       "      <td>ICC MENS WORLD CUP 2023 WARM-UP MATCHES</td>\n",
       "      <td>Greenfield International Stadium, Thiruvananth...</td>\n",
       "      <td>3 OCT 2023</td>\n",
       "      <td>2:00 PM IST</td>\n",
       "    </tr>\n",
       "    <tr>\n",
       "      <th>9</th>\n",
       "      <td>1st ODI</td>\n",
       "      <td>ICC MENS WORLD CUP 2023</td>\n",
       "      <td>MA Chidambaram Stadium, Chennai</td>\n",
       "      <td>8 OCT 2023</td>\n",
       "      <td>2:00 PM IST</td>\n",
       "    </tr>\n",
       "    <tr>\n",
       "      <th>10</th>\n",
       "      <td>2nd ODI</td>\n",
       "      <td>ICC MENS WORLD CUP 2023</td>\n",
       "      <td>Arun Jaitley Stadium, Delhi</td>\n",
       "      <td>11 OCT 2023</td>\n",
       "      <td>2:00 PM IST</td>\n",
       "    </tr>\n",
       "    <tr>\n",
       "      <th>11</th>\n",
       "      <td>3rd ODI</td>\n",
       "      <td>ICC MENS WORLD CUP 2023</td>\n",
       "      <td>Narendra Modi Stadium, Ahmedabad</td>\n",
       "      <td>14 OCT 2023</td>\n",
       "      <td>2:00 PM IST</td>\n",
       "    </tr>\n",
       "    <tr>\n",
       "      <th>12</th>\n",
       "      <td>4th ODI</td>\n",
       "      <td>ICC MENS WORLD CUP 2023</td>\n",
       "      <td>Maharashtra Cricket Association Stadium, Pune</td>\n",
       "      <td>19 OCT 2023</td>\n",
       "      <td>2:00 PM IST</td>\n",
       "    </tr>\n",
       "    <tr>\n",
       "      <th>13</th>\n",
       "      <td>5th ODI</td>\n",
       "      <td>ICC MENS WORLD CUP 2023</td>\n",
       "      <td>Himachal Pradesh Cricket Association Stadium, ...</td>\n",
       "      <td>22 OCT 2023</td>\n",
       "      <td>2:00 PM IST</td>\n",
       "    </tr>\n",
       "    <tr>\n",
       "      <th>14</th>\n",
       "      <td>6th ODI</td>\n",
       "      <td>ICC MENS WORLD CUP 2023</td>\n",
       "      <td>Bharat Ratna Shri Atal Bihari Vajpayee Ekana C...</td>\n",
       "      <td>29 OCT 2023</td>\n",
       "      <td>2:00 PM IST</td>\n",
       "    </tr>\n",
       "    <tr>\n",
       "      <th>15</th>\n",
       "      <td>7th ODI</td>\n",
       "      <td>ICC MENS WORLD CUP 2023</td>\n",
       "      <td>Wankhede Stadium, Mumbai</td>\n",
       "      <td>2 NOV 2023</td>\n",
       "      <td>2:00 PM IST</td>\n",
       "    </tr>\n",
       "    <tr>\n",
       "      <th>16</th>\n",
       "      <td>8th ODI</td>\n",
       "      <td>ICC MENS WORLD CUP 2023</td>\n",
       "      <td>Eden Gardens, Kolkata</td>\n",
       "      <td>5 NOV 2023</td>\n",
       "      <td>2:00 PM IST</td>\n",
       "    </tr>\n",
       "    <tr>\n",
       "      <th>17</th>\n",
       "      <td>9th ODI</td>\n",
       "      <td>ICC MENS WORLD CUP 2023</td>\n",
       "      <td>M Chinnaswamy Stadium, Bengaluru</td>\n",
       "      <td>12 NOV 2023</td>\n",
       "      <td>2:00 PM IST</td>\n",
       "    </tr>\n",
       "    <tr>\n",
       "      <th>18</th>\n",
       "      <td>1st T20I</td>\n",
       "      <td>AUSTRALIA TOUR OF INDIA 2023-24</td>\n",
       "      <td>Dr YS Rajasekhara Reddy ACA-VDCA Cricket Stadi...</td>\n",
       "      <td>23 NOV 2023</td>\n",
       "      <td>7:00 PM IST</td>\n",
       "    </tr>\n",
       "    <tr>\n",
       "      <th>19</th>\n",
       "      <td>2nd T20I</td>\n",
       "      <td>AUSTRALIA TOUR OF INDIA 2023-24</td>\n",
       "      <td>Greenfield International Stadium, Thiruvananth...</td>\n",
       "      <td>26 NOV 2023</td>\n",
       "      <td>7:00 PM IST</td>\n",
       "    </tr>\n",
       "    <tr>\n",
       "      <th>20</th>\n",
       "      <td>3rd T20I</td>\n",
       "      <td>AUSTRALIA TOUR OF INDIA 2023-24</td>\n",
       "      <td>Barsapara Cricket Stadium, Guwahati</td>\n",
       "      <td>28 NOV 2023</td>\n",
       "      <td>7:00 PM IST</td>\n",
       "    </tr>\n",
       "    <tr>\n",
       "      <th>21</th>\n",
       "      <td>4th T20I</td>\n",
       "      <td>AUSTRALIA TOUR OF INDIA 2023-24</td>\n",
       "      <td>Vidarbha Cricket Association Stadium, Nagpur</td>\n",
       "      <td>1 DEC 2023</td>\n",
       "      <td>7:00 PM IST</td>\n",
       "    </tr>\n",
       "    <tr>\n",
       "      <th>22</th>\n",
       "      <td>5th T20I</td>\n",
       "      <td>AUSTRALIA TOUR OF INDIA 2023-24</td>\n",
       "      <td>Rajiv Gandhi International Stadium, Hyderabad</td>\n",
       "      <td>3 DEC 2023</td>\n",
       "      <td>7:00 PM IST</td>\n",
       "    </tr>\n",
       "    <tr>\n",
       "      <th>23</th>\n",
       "      <td>1st T20I</td>\n",
       "      <td>INDIA TOUR OF SOUTH AFRICA 2023-24</td>\n",
       "      <td>Kingsmead, Durban</td>\n",
       "      <td>10 DEC 2023</td>\n",
       "      <td>9:30 PM IST</td>\n",
       "    </tr>\n",
       "    <tr>\n",
       "      <th>24</th>\n",
       "      <td>2nd T20I</td>\n",
       "      <td>INDIA TOUR OF SOUTH AFRICA 2023-24</td>\n",
       "      <td>St George's Park, Gqeberha</td>\n",
       "      <td>12 DEC 2023</td>\n",
       "      <td>9:30 PM IST</td>\n",
       "    </tr>\n",
       "    <tr>\n",
       "      <th>25</th>\n",
       "      <td>3rd T20I</td>\n",
       "      <td>INDIA TOUR OF SOUTH AFRICA 2023-24</td>\n",
       "      <td>The Wanderers Stadium, Johannesburg</td>\n",
       "      <td>14 DEC 2023</td>\n",
       "      <td>9:30 PM IST</td>\n",
       "    </tr>\n",
       "    <tr>\n",
       "      <th>26</th>\n",
       "      <td>1st ODI</td>\n",
       "      <td>INDIA TOUR OF SOUTH AFRICA 2023-24</td>\n",
       "      <td>Johannesburg</td>\n",
       "      <td>17 DEC 2023</td>\n",
       "      <td>2:00 PM IST</td>\n",
       "    </tr>\n",
       "    <tr>\n",
       "      <th>27</th>\n",
       "      <td>2nd ODI</td>\n",
       "      <td>INDIA TOUR OF SOUTH AFRICA 2023-24</td>\n",
       "      <td>St George's Park, Gqeberha</td>\n",
       "      <td>19 DEC 2023</td>\n",
       "      <td>2:00 PM IST</td>\n",
       "    </tr>\n",
       "    <tr>\n",
       "      <th>28</th>\n",
       "      <td>3rd ODI</td>\n",
       "      <td>INDIA TOUR OF SOUTH AFRICA 2023-24</td>\n",
       "      <td>Boland Park, Paarl</td>\n",
       "      <td>21 DEC 2023</td>\n",
       "      <td>2:00 PM IST</td>\n",
       "    </tr>\n",
       "    <tr>\n",
       "      <th>29</th>\n",
       "      <td>1st Test</td>\n",
       "      <td>INDIA TOUR OF SOUTH AFRICA 2023-24</td>\n",
       "      <td>SuperSport Park, Centurion</td>\n",
       "      <td>26 DEC 2023</td>\n",
       "      <td>1:30 PM IST</td>\n",
       "    </tr>\n",
       "    <tr>\n",
       "      <th>30</th>\n",
       "      <td>2nd Test</td>\n",
       "      <td>INDIA TOUR OF SOUTH AFRICA 2023-24</td>\n",
       "      <td>Newlands, Cape Town</td>\n",
       "      <td>3 JAN 2024</td>\n",
       "      <td>1:30 PM IST</td>\n",
       "    </tr>\n",
       "    <tr>\n",
       "      <th>31</th>\n",
       "      <td>1st T20I</td>\n",
       "      <td>AFGHANISTAN TOUR OF INDIA 2023-24</td>\n",
       "      <td>Punjab Cricket Association IS Bindra Stadium, ...</td>\n",
       "      <td>11 JAN 2024</td>\n",
       "      <td>7:00 PM IST</td>\n",
       "    </tr>\n",
       "    <tr>\n",
       "      <th>32</th>\n",
       "      <td>2nd T20I</td>\n",
       "      <td>AFGHANISTAN TOUR OF INDIA 2023-24</td>\n",
       "      <td>Holkar Cricket Stadium, Indore</td>\n",
       "      <td>14 JAN 2024</td>\n",
       "      <td>7:00 PM IST</td>\n",
       "    </tr>\n",
       "    <tr>\n",
       "      <th>33</th>\n",
       "      <td>3rd T20I</td>\n",
       "      <td>AFGHANISTAN TOUR OF INDIA 2023-24</td>\n",
       "      <td>M Chinnaswamy Stadium, Bengaluru</td>\n",
       "      <td>17 JAN 2024</td>\n",
       "      <td>7:00 PM IST</td>\n",
       "    </tr>\n",
       "    <tr>\n",
       "      <th>34</th>\n",
       "      <td>1st Test</td>\n",
       "      <td>ENGLAND TOUR OF INDIA 2023-24</td>\n",
       "      <td>Rajiv Gandhi International Stadium, Hyderabad</td>\n",
       "      <td>25 JAN 2024</td>\n",
       "      <td>9:30 AM IST</td>\n",
       "    </tr>\n",
       "    <tr>\n",
       "      <th>35</th>\n",
       "      <td>2nd Test</td>\n",
       "      <td>ENGLAND TOUR OF INDIA 2023-24</td>\n",
       "      <td>Dr YS Rajasekhara Reddy ACA-VDCA Cricket Stadi...</td>\n",
       "      <td>2 FEB 2024</td>\n",
       "      <td>9:30 AM IST</td>\n",
       "    </tr>\n",
       "    <tr>\n",
       "      <th>36</th>\n",
       "      <td>3rd Test</td>\n",
       "      <td>ENGLAND TOUR OF INDIA 2023-24</td>\n",
       "      <td>Saurashtra Cricket Association Stadium, Rajkot</td>\n",
       "      <td>15 FEB 2024</td>\n",
       "      <td>9:30 AM IST</td>\n",
       "    </tr>\n",
       "    <tr>\n",
       "      <th>37</th>\n",
       "      <td>4th Test</td>\n",
       "      <td>ENGLAND TOUR OF INDIA 2023-24</td>\n",
       "      <td>JSCA International Stadium Complex, Ranchi</td>\n",
       "      <td>23 FEB 2024</td>\n",
       "      <td>9:30 AM IST</td>\n",
       "    </tr>\n",
       "    <tr>\n",
       "      <th>38</th>\n",
       "      <td>5th Test</td>\n",
       "      <td>ENGLAND TOUR OF INDIA 2023-24</td>\n",
       "      <td>Himachal Pradesh Cricket Association Stadium, ...</td>\n",
       "      <td>7 MAR 2024</td>\n",
       "      <td>9:30 AM IST</td>\n",
       "    </tr>\n",
       "  </tbody>\n",
       "</table>\n",
       "</div>"
      ],
      "text/plain": [
       "   Match Title                                   Series  \\\n",
       "1     5th ODI                             ASIA CUP 2023   \n",
       "2    1st T20I                     19TH ASIAN GAMES 2023   \n",
       "3     1st ODI           AUSTRALIA TOUR OF INDIA 2023-24   \n",
       "4     2nd ODI           AUSTRALIA TOUR OF INDIA 2023-24   \n",
       "5     3rd ODI           AUSTRALIA TOUR OF INDIA 2023-24   \n",
       "6     1st ODI   ICC MENS WORLD CUP 2023 WARM-UP MATCHES   \n",
       "7    1st T20I                     19TH ASIAN GAMES 2023   \n",
       "8     2nd ODI   ICC MENS WORLD CUP 2023 WARM-UP MATCHES   \n",
       "9     1st ODI                   ICC MENS WORLD CUP 2023   \n",
       "10    2nd ODI                   ICC MENS WORLD CUP 2023   \n",
       "11    3rd ODI                   ICC MENS WORLD CUP 2023   \n",
       "12    4th ODI                   ICC MENS WORLD CUP 2023   \n",
       "13    5th ODI                   ICC MENS WORLD CUP 2023   \n",
       "14    6th ODI                   ICC MENS WORLD CUP 2023   \n",
       "15    7th ODI                   ICC MENS WORLD CUP 2023   \n",
       "16    8th ODI                   ICC MENS WORLD CUP 2023   \n",
       "17    9th ODI                   ICC MENS WORLD CUP 2023   \n",
       "18   1st T20I           AUSTRALIA TOUR OF INDIA 2023-24   \n",
       "19   2nd T20I           AUSTRALIA TOUR OF INDIA 2023-24   \n",
       "20   3rd T20I           AUSTRALIA TOUR OF INDIA 2023-24   \n",
       "21   4th T20I           AUSTRALIA TOUR OF INDIA 2023-24   \n",
       "22   5th T20I           AUSTRALIA TOUR OF INDIA 2023-24   \n",
       "23   1st T20I        INDIA TOUR OF SOUTH AFRICA 2023-24   \n",
       "24   2nd T20I        INDIA TOUR OF SOUTH AFRICA 2023-24   \n",
       "25   3rd T20I        INDIA TOUR OF SOUTH AFRICA 2023-24   \n",
       "26    1st ODI        INDIA TOUR OF SOUTH AFRICA 2023-24   \n",
       "27    2nd ODI        INDIA TOUR OF SOUTH AFRICA 2023-24   \n",
       "28    3rd ODI        INDIA TOUR OF SOUTH AFRICA 2023-24   \n",
       "29   1st Test        INDIA TOUR OF SOUTH AFRICA 2023-24   \n",
       "30   2nd Test        INDIA TOUR OF SOUTH AFRICA 2023-24   \n",
       "31   1st T20I         AFGHANISTAN TOUR OF INDIA 2023-24   \n",
       "32   2nd T20I         AFGHANISTAN TOUR OF INDIA 2023-24   \n",
       "33   3rd T20I         AFGHANISTAN TOUR OF INDIA 2023-24   \n",
       "34   1st Test             ENGLAND TOUR OF INDIA 2023-24   \n",
       "35   2nd Test             ENGLAND TOUR OF INDIA 2023-24   \n",
       "36   3rd Test             ENGLAND TOUR OF INDIA 2023-24   \n",
       "37   4th Test             ENGLAND TOUR OF INDIA 2023-24   \n",
       "38   5th Test             ENGLAND TOUR OF INDIA 2023-24   \n",
       "\n",
       "                                                Place        Dates  \\\n",
       "1          R Premadasa International Stadium, Colombo  15 SEP 2023   \n",
       "2                    Pingfeng Cricket Field, Hangzhou  21 SEP 2023   \n",
       "3   Punjab Cricket Association IS Bindra Stadium, ...  22 SEP 2023   \n",
       "4                      Holkar Cricket Stadium, Indore  24 SEP 2023   \n",
       "5      Saurashtra Cricket Association Stadium, Rajkot  27 SEP 2023   \n",
       "6                 Barsapara Cricket Stadium, Guwahati  30 SEP 2023   \n",
       "7                    Pingfeng Cricket Field, Hangzhou   3 OCT 2023   \n",
       "8   Greenfield International Stadium, Thiruvananth...   3 OCT 2023   \n",
       "9                     MA Chidambaram Stadium, Chennai   8 OCT 2023   \n",
       "10                        Arun Jaitley Stadium, Delhi  11 OCT 2023   \n",
       "11                   Narendra Modi Stadium, Ahmedabad  14 OCT 2023   \n",
       "12      Maharashtra Cricket Association Stadium, Pune  19 OCT 2023   \n",
       "13  Himachal Pradesh Cricket Association Stadium, ...  22 OCT 2023   \n",
       "14  Bharat Ratna Shri Atal Bihari Vajpayee Ekana C...  29 OCT 2023   \n",
       "15                           Wankhede Stadium, Mumbai   2 NOV 2023   \n",
       "16                              Eden Gardens, Kolkata   5 NOV 2023   \n",
       "17                   M Chinnaswamy Stadium, Bengaluru  12 NOV 2023   \n",
       "18  Dr YS Rajasekhara Reddy ACA-VDCA Cricket Stadi...  23 NOV 2023   \n",
       "19  Greenfield International Stadium, Thiruvananth...  26 NOV 2023   \n",
       "20                Barsapara Cricket Stadium, Guwahati  28 NOV 2023   \n",
       "21       Vidarbha Cricket Association Stadium, Nagpur   1 DEC 2023   \n",
       "22      Rajiv Gandhi International Stadium, Hyderabad   3 DEC 2023   \n",
       "23                                  Kingsmead, Durban  10 DEC 2023   \n",
       "24                         St George's Park, Gqeberha  12 DEC 2023   \n",
       "25                The Wanderers Stadium, Johannesburg  14 DEC 2023   \n",
       "26                                       Johannesburg  17 DEC 2023   \n",
       "27                         St George's Park, Gqeberha  19 DEC 2023   \n",
       "28                                 Boland Park, Paarl  21 DEC 2023   \n",
       "29                         SuperSport Park, Centurion  26 DEC 2023   \n",
       "30                                Newlands, Cape Town   3 JAN 2024   \n",
       "31  Punjab Cricket Association IS Bindra Stadium, ...  11 JAN 2024   \n",
       "32                     Holkar Cricket Stadium, Indore  14 JAN 2024   \n",
       "33                   M Chinnaswamy Stadium, Bengaluru  17 JAN 2024   \n",
       "34      Rajiv Gandhi International Stadium, Hyderabad  25 JAN 2024   \n",
       "35  Dr YS Rajasekhara Reddy ACA-VDCA Cricket Stadi...   2 FEB 2024   \n",
       "36     Saurashtra Cricket Association Stadium, Rajkot  15 FEB 2024   \n",
       "37         JSCA International Stadium Complex, Ranchi  23 FEB 2024   \n",
       "38  Himachal Pradesh Cricket Association Stadium, ...   7 MAR 2024   \n",
       "\n",
       "           Time  \n",
       "1   3:00 PM IST  \n",
       "2   6:30 AM IST  \n",
       "3   1:30 PM IST  \n",
       "4   1:30 PM IST  \n",
       "5   1:30 PM IST  \n",
       "6   2:00 PM IST  \n",
       "7   6:30 AM IST  \n",
       "8   2:00 PM IST  \n",
       "9   2:00 PM IST  \n",
       "10  2:00 PM IST  \n",
       "11  2:00 PM IST  \n",
       "12  2:00 PM IST  \n",
       "13  2:00 PM IST  \n",
       "14  2:00 PM IST  \n",
       "15  2:00 PM IST  \n",
       "16  2:00 PM IST  \n",
       "17  2:00 PM IST  \n",
       "18  7:00 PM IST  \n",
       "19  7:00 PM IST  \n",
       "20  7:00 PM IST  \n",
       "21  7:00 PM IST  \n",
       "22  7:00 PM IST  \n",
       "23  9:30 PM IST  \n",
       "24  9:30 PM IST  \n",
       "25  9:30 PM IST  \n",
       "26  2:00 PM IST  \n",
       "27  2:00 PM IST  \n",
       "28  2:00 PM IST  \n",
       "29  1:30 PM IST  \n",
       "30  1:30 PM IST  \n",
       "31  7:00 PM IST  \n",
       "32  7:00 PM IST  \n",
       "33  7:00 PM IST  \n",
       "34  9:30 AM IST  \n",
       "35  9:30 AM IST  \n",
       "36  9:30 AM IST  \n",
       "37  9:30 AM IST  \n",
       "38  9:30 AM IST  "
      ]
     },
     "execution_count": 59,
     "metadata": {},
     "output_type": "execute_result"
    }
   ],
   "source": [
    "df = pd.DataFrame({'Match Title':title,'Series':series,'Place':venues,'Dates':date,'Time':time},index = range(1,39))\n",
    "df"
   ]
  },
  {
   "cell_type": "markdown",
   "id": "a2a716f2",
   "metadata": {},
   "source": [
    "# 3. Scrape the details of State-wise GDP of India from statisticstime.com.\n",
    "\n",
    "Url = http://statisticstimes.com/\n",
    "    \n",
    "You have to find following details: \n",
    "    \n",
    "A)Rank \n",
    "\n",
    "B) State \n",
    "\n",
    "C) GSDP(18-19)- at current prices \n",
    "\n",
    "D) GSDP(19-20)- at current prices \n",
    "\n",
    "E) Share(18-19)\n",
    "\n",
    "F) GDP($ billion) \n",
    "\n",
    "Note: - From statisticstimes home page you have to reach to economy page through code. "
   ]
  },
  {
   "cell_type": "code",
   "execution_count": 66,
   "id": "cd1e90c7",
   "metadata": {},
   "outputs": [],
   "source": [
    "driver = webdriver.Chrome()\n",
    "driver.get('http://statisticstimes.com/')"
   ]
  },
  {
   "cell_type": "code",
   "execution_count": 68,
   "id": "7eca42b9",
   "metadata": {},
   "outputs": [],
   "source": [
    "search = driver.find_element(By.XPATH,\"/html/body/div[2]/div[1]/div[2]/div[2]/button\")\n",
    "search.click()\n",
    "button = driver.find_element(By.XPATH,\"/html/body/div[2]/div[1]/div[2]/div[2]/div/a[3]\")\n",
    "button.click() \n",
    "nb= driver.find_element(By.XPATH,\"/html/body/div[2]/div[2]/div[2]/ul/li[1]/a\")\n",
    "nb.click()"
   ]
  },
  {
   "cell_type": "code",
   "execution_count": 69,
   "id": "e7fb225a",
   "metadata": {},
   "outputs": [],
   "source": [
    "rank = []\n",
    "rn = driver.find_elements(By.XPATH,'//table[@class=\"display dataTable\"]/tbody/tr/td[1]')\n",
    "for i in rn[:33]:\n",
    "    z = i.text\n",
    "    rank.append(z)"
   ]
  },
  {
   "cell_type": "code",
   "execution_count": 71,
   "id": "b3673d69",
   "metadata": {},
   "outputs": [
    {
     "data": {
      "text/plain": [
       "33"
      ]
     },
     "execution_count": 71,
     "metadata": {},
     "output_type": "execute_result"
    }
   ],
   "source": [
    "len(rank)"
   ]
  },
  {
   "cell_type": "code",
   "execution_count": 72,
   "id": "d36f793e",
   "metadata": {},
   "outputs": [],
   "source": [
    "state = []\n",
    "st = driver.find_elements(By.XPATH,'//table[@class=\"display dataTable\"]/tbody/tr/td[2]')\n",
    "for i in st[:33]:\n",
    "    z = i.text\n",
    "    state.append(z)"
   ]
  },
  {
   "cell_type": "code",
   "execution_count": 74,
   "id": "76d84555",
   "metadata": {},
   "outputs": [
    {
     "data": {
      "text/plain": [
       "33"
      ]
     },
     "execution_count": 74,
     "metadata": {},
     "output_type": "execute_result"
    }
   ],
   "source": [
    "len(state)"
   ]
  },
  {
   "cell_type": "code",
   "execution_count": 75,
   "id": "d1db331d",
   "metadata": {},
   "outputs": [],
   "source": [
    "gs_1819 =[]\n",
    "gs = driver.find_elements(By.XPATH,'//table[@class=\"display dataTable\"]/tbody/tr/td[4]')\n",
    "for i in gs[:33]:\n",
    "    z = i.text\n",
    "    gs_1819.append(z)"
   ]
  },
  {
   "cell_type": "code",
   "execution_count": 77,
   "id": "2a5a03c9",
   "metadata": {},
   "outputs": [
    {
     "data": {
      "text/plain": [
       "33"
      ]
     },
     "execution_count": 77,
     "metadata": {},
     "output_type": "execute_result"
    }
   ],
   "source": [
    "len(gs_1819)"
   ]
  },
  {
   "cell_type": "code",
   "execution_count": 78,
   "id": "074b6b49",
   "metadata": {},
   "outputs": [],
   "source": [
    "gs_1920 =[]\n",
    "gsd = driver.find_elements(By.XPATH,'//table[@class=\"display dataTable\"]/tbody/tr/td[3]')\n",
    "for i in gsd[:33]:\n",
    "    z = i.text\n",
    "    gs_1920.append(z)"
   ]
  },
  {
   "cell_type": "code",
   "execution_count": 80,
   "id": "55d2234a",
   "metadata": {},
   "outputs": [
    {
     "data": {
      "text/plain": [
       "33"
      ]
     },
     "execution_count": 80,
     "metadata": {},
     "output_type": "execute_result"
    }
   ],
   "source": [
    "len(gs_1920)"
   ]
  },
  {
   "cell_type": "code",
   "execution_count": 81,
   "id": "15056f90",
   "metadata": {},
   "outputs": [],
   "source": [
    "share =[]\n",
    "sh = driver.find_elements(By.XPATH,'//table[@class=\"display dataTable\"]/tbody/tr/td[5]')\n",
    "for i in sh[:33]:\n",
    "    z = i.text\n",
    "    share.append(z)"
   ]
  },
  {
   "cell_type": "code",
   "execution_count": 83,
   "id": "4b12792e",
   "metadata": {},
   "outputs": [
    {
     "data": {
      "text/plain": [
       "33"
      ]
     },
     "execution_count": 83,
     "metadata": {},
     "output_type": "execute_result"
    }
   ],
   "source": [
    "len(share)"
   ]
  },
  {
   "cell_type": "code",
   "execution_count": 84,
   "id": "09731515",
   "metadata": {},
   "outputs": [],
   "source": [
    "gdp =[]\n",
    "gd = driver.find_elements(By.XPATH,'//table[@class=\"display dataTable\"]/tbody/tr/td[6]')\n",
    "for i in gd[:33]:\n",
    "    z = i.text\n",
    "    gdp.append(z)"
   ]
  },
  {
   "cell_type": "code",
   "execution_count": 86,
   "id": "a62c33c9",
   "metadata": {},
   "outputs": [
    {
     "data": {
      "text/plain": [
       "33"
      ]
     },
     "execution_count": 86,
     "metadata": {},
     "output_type": "execute_result"
    }
   ],
   "source": [
    "len(gdp)"
   ]
  },
  {
   "cell_type": "code",
   "execution_count": 87,
   "id": "a3583000",
   "metadata": {},
   "outputs": [
    {
     "data": {
      "text/html": [
       "<div>\n",
       "<style scoped>\n",
       "    .dataframe tbody tr th:only-of-type {\n",
       "        vertical-align: middle;\n",
       "    }\n",
       "\n",
       "    .dataframe tbody tr th {\n",
       "        vertical-align: top;\n",
       "    }\n",
       "\n",
       "    .dataframe thead th {\n",
       "        text-align: right;\n",
       "    }\n",
       "</style>\n",
       "<table border=\"1\" class=\"dataframe\">\n",
       "  <thead>\n",
       "    <tr style=\"text-align: right;\">\n",
       "      <th></th>\n",
       "      <th>Rank</th>\n",
       "      <th>State</th>\n",
       "      <th>GSDP(18-19)- at current prices</th>\n",
       "      <th>GSDP(19-20)- at current prices</th>\n",
       "      <th>Share(18-19)</th>\n",
       "      <th>GDP($ billion)</th>\n",
       "    </tr>\n",
       "  </thead>\n",
       "  <tbody>\n",
       "    <tr>\n",
       "      <th>1</th>\n",
       "      <td>1</td>\n",
       "      <td>Maharashtra</td>\n",
       "      <td>2,632,792</td>\n",
       "      <td>-</td>\n",
       "      <td>13.94%</td>\n",
       "      <td>399.921</td>\n",
       "    </tr>\n",
       "    <tr>\n",
       "      <th>2</th>\n",
       "      <td>2</td>\n",
       "      <td>Tamil Nadu</td>\n",
       "      <td>1,630,208</td>\n",
       "      <td>1,845,853</td>\n",
       "      <td>8.63%</td>\n",
       "      <td>247.629</td>\n",
       "    </tr>\n",
       "    <tr>\n",
       "      <th>3</th>\n",
       "      <td>3</td>\n",
       "      <td>Uttar Pradesh</td>\n",
       "      <td>1,584,764</td>\n",
       "      <td>1,687,818</td>\n",
       "      <td>8.39%</td>\n",
       "      <td>240.726</td>\n",
       "    </tr>\n",
       "    <tr>\n",
       "      <th>4</th>\n",
       "      <td>4</td>\n",
       "      <td>Gujarat</td>\n",
       "      <td>1,502,899</td>\n",
       "      <td>-</td>\n",
       "      <td>7.96%</td>\n",
       "      <td>228.290</td>\n",
       "    </tr>\n",
       "    <tr>\n",
       "      <th>5</th>\n",
       "      <td>5</td>\n",
       "      <td>Karnataka</td>\n",
       "      <td>1,493,127</td>\n",
       "      <td>1,631,977</td>\n",
       "      <td>7.91%</td>\n",
       "      <td>226.806</td>\n",
       "    </tr>\n",
       "    <tr>\n",
       "      <th>6</th>\n",
       "      <td>6</td>\n",
       "      <td>West Bengal</td>\n",
       "      <td>1,089,898</td>\n",
       "      <td>1,253,832</td>\n",
       "      <td>5.77%</td>\n",
       "      <td>165.556</td>\n",
       "    </tr>\n",
       "    <tr>\n",
       "      <th>7</th>\n",
       "      <td>7</td>\n",
       "      <td>Rajasthan</td>\n",
       "      <td>942,586</td>\n",
       "      <td>1,020,989</td>\n",
       "      <td>4.99%</td>\n",
       "      <td>143.179</td>\n",
       "    </tr>\n",
       "    <tr>\n",
       "      <th>8</th>\n",
       "      <td>8</td>\n",
       "      <td>Andhra Pradesh</td>\n",
       "      <td>862,957</td>\n",
       "      <td>972,782</td>\n",
       "      <td>4.57%</td>\n",
       "      <td>131.083</td>\n",
       "    </tr>\n",
       "    <tr>\n",
       "      <th>9</th>\n",
       "      <td>9</td>\n",
       "      <td>Telangana</td>\n",
       "      <td>861,031</td>\n",
       "      <td>969,604</td>\n",
       "      <td>4.56%</td>\n",
       "      <td>130.791</td>\n",
       "    </tr>\n",
       "    <tr>\n",
       "      <th>10</th>\n",
       "      <td>10</td>\n",
       "      <td>Madhya Pradesh</td>\n",
       "      <td>809,592</td>\n",
       "      <td>906,672</td>\n",
       "      <td>4.29%</td>\n",
       "      <td>122.977</td>\n",
       "    </tr>\n",
       "    <tr>\n",
       "      <th>11</th>\n",
       "      <td>11</td>\n",
       "      <td>Kerala</td>\n",
       "      <td>781,653</td>\n",
       "      <td>-</td>\n",
       "      <td>4.14%</td>\n",
       "      <td>118.733</td>\n",
       "    </tr>\n",
       "    <tr>\n",
       "      <th>12</th>\n",
       "      <td>12</td>\n",
       "      <td>Delhi</td>\n",
       "      <td>774,870</td>\n",
       "      <td>856,112</td>\n",
       "      <td>4.10%</td>\n",
       "      <td>117.703</td>\n",
       "    </tr>\n",
       "    <tr>\n",
       "      <th>13</th>\n",
       "      <td>13</td>\n",
       "      <td>Haryana</td>\n",
       "      <td>734,163</td>\n",
       "      <td>831,610</td>\n",
       "      <td>3.89%</td>\n",
       "      <td>111.519</td>\n",
       "    </tr>\n",
       "    <tr>\n",
       "      <th>14</th>\n",
       "      <td>14</td>\n",
       "      <td>Bihar</td>\n",
       "      <td>530,363</td>\n",
       "      <td>611,804</td>\n",
       "      <td>2.81%</td>\n",
       "      <td>80.562</td>\n",
       "    </tr>\n",
       "    <tr>\n",
       "      <th>15</th>\n",
       "      <td>15</td>\n",
       "      <td>Punjab</td>\n",
       "      <td>526,376</td>\n",
       "      <td>574,760</td>\n",
       "      <td>2.79%</td>\n",
       "      <td>79.957</td>\n",
       "    </tr>\n",
       "    <tr>\n",
       "      <th>16</th>\n",
       "      <td>16</td>\n",
       "      <td>Odisha</td>\n",
       "      <td>487,805</td>\n",
       "      <td>521,275</td>\n",
       "      <td>2.58%</td>\n",
       "      <td>74.098</td>\n",
       "    </tr>\n",
       "    <tr>\n",
       "      <th>17</th>\n",
       "      <td>17</td>\n",
       "      <td>Assam</td>\n",
       "      <td>315,881</td>\n",
       "      <td>-</td>\n",
       "      <td>1.67%</td>\n",
       "      <td>47.982</td>\n",
       "    </tr>\n",
       "    <tr>\n",
       "      <th>18</th>\n",
       "      <td>18</td>\n",
       "      <td>Chhattisgarh</td>\n",
       "      <td>304,063</td>\n",
       "      <td>329,180</td>\n",
       "      <td>1.61%</td>\n",
       "      <td>46.187</td>\n",
       "    </tr>\n",
       "    <tr>\n",
       "      <th>19</th>\n",
       "      <td>19</td>\n",
       "      <td>Jharkhand</td>\n",
       "      <td>297,204</td>\n",
       "      <td>328,598</td>\n",
       "      <td>1.57%</td>\n",
       "      <td>45.145</td>\n",
       "    </tr>\n",
       "    <tr>\n",
       "      <th>20</th>\n",
       "      <td>20</td>\n",
       "      <td>Uttarakhand</td>\n",
       "      <td>245,895</td>\n",
       "      <td>-</td>\n",
       "      <td>1.30%</td>\n",
       "      <td>37.351</td>\n",
       "    </tr>\n",
       "    <tr>\n",
       "      <th>21</th>\n",
       "      <td>21</td>\n",
       "      <td>Jammu &amp; Kashmir</td>\n",
       "      <td>155,956</td>\n",
       "      <td>-</td>\n",
       "      <td>0.83%</td>\n",
       "      <td>23.690</td>\n",
       "    </tr>\n",
       "    <tr>\n",
       "      <th>22</th>\n",
       "      <td>22</td>\n",
       "      <td>Himachal Pradesh</td>\n",
       "      <td>153,845</td>\n",
       "      <td>165,472</td>\n",
       "      <td>0.81%</td>\n",
       "      <td>23.369</td>\n",
       "    </tr>\n",
       "    <tr>\n",
       "      <th>23</th>\n",
       "      <td>23</td>\n",
       "      <td>Goa</td>\n",
       "      <td>73,170</td>\n",
       "      <td>80,449</td>\n",
       "      <td>0.39%</td>\n",
       "      <td>11.115</td>\n",
       "    </tr>\n",
       "    <tr>\n",
       "      <th>24</th>\n",
       "      <td>24</td>\n",
       "      <td>Tripura</td>\n",
       "      <td>49,845</td>\n",
       "      <td>55,984</td>\n",
       "      <td>0.26%</td>\n",
       "      <td>7.571</td>\n",
       "    </tr>\n",
       "    <tr>\n",
       "      <th>25</th>\n",
       "      <td>25</td>\n",
       "      <td>Chandigarh</td>\n",
       "      <td>42,114</td>\n",
       "      <td>-</td>\n",
       "      <td>0.22%</td>\n",
       "      <td>6.397</td>\n",
       "    </tr>\n",
       "    <tr>\n",
       "      <th>26</th>\n",
       "      <td>26</td>\n",
       "      <td>Puducherry</td>\n",
       "      <td>34,433</td>\n",
       "      <td>38,253</td>\n",
       "      <td>0.18%</td>\n",
       "      <td>5.230</td>\n",
       "    </tr>\n",
       "    <tr>\n",
       "      <th>27</th>\n",
       "      <td>27</td>\n",
       "      <td>Meghalaya</td>\n",
       "      <td>33,481</td>\n",
       "      <td>36,572</td>\n",
       "      <td>0.18%</td>\n",
       "      <td>5.086</td>\n",
       "    </tr>\n",
       "    <tr>\n",
       "      <th>28</th>\n",
       "      <td>28</td>\n",
       "      <td>Sikkim</td>\n",
       "      <td>28,723</td>\n",
       "      <td>32,496</td>\n",
       "      <td>0.15%</td>\n",
       "      <td>4.363</td>\n",
       "    </tr>\n",
       "    <tr>\n",
       "      <th>29</th>\n",
       "      <td>29</td>\n",
       "      <td>Manipur</td>\n",
       "      <td>27,870</td>\n",
       "      <td>31,790</td>\n",
       "      <td>0.15%</td>\n",
       "      <td>4.233</td>\n",
       "    </tr>\n",
       "    <tr>\n",
       "      <th>30</th>\n",
       "      <td>30</td>\n",
       "      <td>Nagaland</td>\n",
       "      <td>27,283</td>\n",
       "      <td>-</td>\n",
       "      <td>0.14%</td>\n",
       "      <td>4.144</td>\n",
       "    </tr>\n",
       "    <tr>\n",
       "      <th>31</th>\n",
       "      <td>31</td>\n",
       "      <td>Arunachal Pradesh</td>\n",
       "      <td>24,603</td>\n",
       "      <td>-</td>\n",
       "      <td>0.13%</td>\n",
       "      <td>3.737</td>\n",
       "    </tr>\n",
       "    <tr>\n",
       "      <th>32</th>\n",
       "      <td>32</td>\n",
       "      <td>Mizoram</td>\n",
       "      <td>22,287</td>\n",
       "      <td>26,503</td>\n",
       "      <td>0.12%</td>\n",
       "      <td>3.385</td>\n",
       "    </tr>\n",
       "    <tr>\n",
       "      <th>33</th>\n",
       "      <td>33</td>\n",
       "      <td>Andaman &amp; Nicobar Islands</td>\n",
       "      <td>-</td>\n",
       "      <td>-</td>\n",
       "      <td>-</td>\n",
       "      <td>-</td>\n",
       "    </tr>\n",
       "  </tbody>\n",
       "</table>\n",
       "</div>"
      ],
      "text/plain": [
       "   Rank                      State  GSDP(18-19)- at current prices   \\\n",
       "1     1                Maharashtra                        2,632,792   \n",
       "2     2                 Tamil Nadu                        1,630,208   \n",
       "3     3              Uttar Pradesh                        1,584,764   \n",
       "4     4                    Gujarat                        1,502,899   \n",
       "5     5                  Karnataka                        1,493,127   \n",
       "6     6                West Bengal                        1,089,898   \n",
       "7     7                  Rajasthan                          942,586   \n",
       "8     8             Andhra Pradesh                          862,957   \n",
       "9     9                  Telangana                          861,031   \n",
       "10   10             Madhya Pradesh                          809,592   \n",
       "11   11                     Kerala                          781,653   \n",
       "12   12                      Delhi                          774,870   \n",
       "13   13                    Haryana                          734,163   \n",
       "14   14                      Bihar                          530,363   \n",
       "15   15                     Punjab                          526,376   \n",
       "16   16                     Odisha                          487,805   \n",
       "17   17                      Assam                          315,881   \n",
       "18   18               Chhattisgarh                          304,063   \n",
       "19   19                  Jharkhand                          297,204   \n",
       "20   20                Uttarakhand                          245,895   \n",
       "21   21            Jammu & Kashmir                          155,956   \n",
       "22   22           Himachal Pradesh                          153,845   \n",
       "23   23                        Goa                           73,170   \n",
       "24   24                    Tripura                           49,845   \n",
       "25   25                 Chandigarh                           42,114   \n",
       "26   26                 Puducherry                           34,433   \n",
       "27   27                  Meghalaya                           33,481   \n",
       "28   28                     Sikkim                           28,723   \n",
       "29   29                    Manipur                           27,870   \n",
       "30   30                   Nagaland                           27,283   \n",
       "31   31          Arunachal Pradesh                           24,603   \n",
       "32   32                    Mizoram                           22,287   \n",
       "33   33  Andaman & Nicobar Islands                                -   \n",
       "\n",
       "    GSDP(19-20)- at current prices  Share(18-19)  GDP($ billion)  \n",
       "1                                -        13.94%         399.921  \n",
       "2                        1,845,853         8.63%         247.629  \n",
       "3                        1,687,818         8.39%         240.726  \n",
       "4                                -         7.96%         228.290  \n",
       "5                        1,631,977         7.91%         226.806  \n",
       "6                        1,253,832         5.77%         165.556  \n",
       "7                        1,020,989         4.99%         143.179  \n",
       "8                          972,782         4.57%         131.083  \n",
       "9                          969,604         4.56%         130.791  \n",
       "10                         906,672         4.29%         122.977  \n",
       "11                               -         4.14%         118.733  \n",
       "12                         856,112         4.10%         117.703  \n",
       "13                         831,610         3.89%         111.519  \n",
       "14                         611,804         2.81%          80.562  \n",
       "15                         574,760         2.79%          79.957  \n",
       "16                         521,275         2.58%          74.098  \n",
       "17                               -         1.67%          47.982  \n",
       "18                         329,180         1.61%          46.187  \n",
       "19                         328,598         1.57%          45.145  \n",
       "20                               -         1.30%          37.351  \n",
       "21                               -         0.83%          23.690  \n",
       "22                         165,472         0.81%          23.369  \n",
       "23                          80,449         0.39%          11.115  \n",
       "24                          55,984         0.26%           7.571  \n",
       "25                               -         0.22%           6.397  \n",
       "26                          38,253         0.18%           5.230  \n",
       "27                          36,572         0.18%           5.086  \n",
       "28                          32,496         0.15%           4.363  \n",
       "29                          31,790         0.15%           4.233  \n",
       "30                               -         0.14%           4.144  \n",
       "31                               -         0.13%           3.737  \n",
       "32                          26,503         0.12%           3.385  \n",
       "33                               -             -               -  "
      ]
     },
     "execution_count": 87,
     "metadata": {},
     "output_type": "execute_result"
    }
   ],
   "source": [
    "df = pd.DataFrame({'Rank':rank,'State':state,' GSDP(18-19)- at current prices ':gs_1819,' GSDP(19-20)- at current prices':gs_1920,' Share(18-19)':share,' GDP($ billion)':gdp},index = range(1,34))\n",
    "df"
   ]
  },
  {
   "cell_type": "markdown",
   "id": "c5be5d93",
   "metadata": {},
   "source": [
    "# 4. Scrape the details of trending repositories on Github.com. \n",
    "\n",
    "Url = https://github.com/\n",
    "    \n",
    "You have to find the following details: \n",
    "    \n",
    "A) Repository title \n",
    "\n",
    "B) Repository description \n",
    "\n",
    "C) Contributors count\n",
    "\n",
    "D) Language used\n",
    "\n",
    "Note: - From the home page you have to click on the trending option from Explore menu through code"
   ]
  },
  {
   "cell_type": "code",
   "execution_count": 2,
   "id": "11dffa9c",
   "metadata": {},
   "outputs": [],
   "source": [
    "driver = webdriver.Chrome()\n",
    "driver.get('https://github.com/')"
   ]
  },
  {
   "cell_type": "code",
   "execution_count": 3,
   "id": "8b18407d",
   "metadata": {},
   "outputs": [],
   "source": [
    "designation = driver.find_element(By.XPATH,\"/html/body/div[1]/div[1]/header/div/div[2]/div/div/qbsearch-input/div[1]/div/modal-dialog/div/div/div/form/query-builder/div[1]/div[1]/div/div[2]/input\")\n",
    "designation.send_keys('Trending')"
   ]
  },
  {
   "cell_type": "code",
   "execution_count": 4,
   "id": "40b3019b",
   "metadata": {},
   "outputs": [],
   "source": [
    "search = driver.find_element(By.XPATH,\"/html/body/div[1]/div[1]/header/div/div[2]/div/div/qbsearch-input/div[1]/div/modal-dialog/div/div/div/form/query-builder/div[1]/div[2]/ul/li/ul/li/span\")\n",
    "search.click()"
   ]
  },
  {
   "cell_type": "code",
   "execution_count": 55,
   "id": "c5556263",
   "metadata": {},
   "outputs": [],
   "source": [
    "title = []\n",
    "tt = driver.find_elements(By.XPATH,'//span[@class=\"Text-sc-17v1xeu-0 qaOIC search-match\"]') \n",
    "for i in tt:\n",
    "    z = i.text\n",
    "    title.append(z)"
   ]
  },
  {
   "cell_type": "code",
   "execution_count": 56,
   "id": "12a7846d",
   "metadata": {},
   "outputs": [
    {
     "data": {
      "text/plain": [
       "['iam-abbas/Reddit-Stock-Trends',\n",
       " 'vitalets/github-trending-repos',\n",
       " 'GeneralMills/pytrends',\n",
       " 'QasimWani/LeetHub',\n",
       " 'mbadry1/Trending-Deep-Learning',\n",
       " 'datawrangling/trendingtopics',\n",
       " 'd3/d3',\n",
       " 'bonfy/github-trending',\n",
       " 'huchenme/github-trending-api',\n",
       " 'mitchelljy/Trending-YouTube-Scraper']"
      ]
     },
     "execution_count": 56,
     "metadata": {},
     "output_type": "execute_result"
    }
   ],
   "source": [
    "title"
   ]
  },
  {
   "cell_type": "code",
   "execution_count": 57,
   "id": "c2400dff",
   "metadata": {},
   "outputs": [],
   "source": [
    "rep_title = [item.split('/',1)[1] for item in title]"
   ]
  },
  {
   "cell_type": "code",
   "execution_count": 58,
   "id": "6d454a85",
   "metadata": {},
   "outputs": [
    {
     "data": {
      "text/plain": [
       "10"
      ]
     },
     "execution_count": 58,
     "metadata": {},
     "output_type": "execute_result"
    }
   ],
   "source": [
    "len(rep_title)"
   ]
  },
  {
   "cell_type": "code",
   "execution_count": 59,
   "id": "4faa07fb",
   "metadata": {},
   "outputs": [],
   "source": [
    "rep_des = []\n",
    "rd = driver.find_elements(By.XPATH,'//span[@class=\"Text-sc-17v1xeu-0 kWPXhV search-match\"]') \n",
    "for i in rd:\n",
    "    z = i.text\n",
    "    rep_des.append(z)"
   ]
  },
  {
   "cell_type": "code",
   "execution_count": 60,
   "id": "7b82d564",
   "metadata": {},
   "outputs": [
    {
     "data": {
      "text/plain": [
       "10"
      ]
     },
     "execution_count": 60,
     "metadata": {},
     "output_type": "execute_result"
    }
   ],
   "source": [
    "len(rep_des)"
   ]
  },
  {
   "cell_type": "code",
   "execution_count": 5,
   "id": "bfd80b6c",
   "metadata": {},
   "outputs": [],
   "source": [
    "url= []\n",
    "link = driver.find_elements(By.XPATH,'//a[@ class=\"Link__StyledLink-sc-14289xe-0 fIqerb\"]')\n",
    "for i in link:\n",
    "    url.append(i.get_attribute('href'))"
   ]
  },
  {
   "cell_type": "code",
   "execution_count": 6,
   "id": "5f5c2ebd",
   "metadata": {},
   "outputs": [
    {
     "data": {
      "text/plain": [
       "10"
      ]
     },
     "execution_count": 6,
     "metadata": {},
     "output_type": "execute_result"
    }
   ],
   "source": [
    "len(url)"
   ]
  },
  {
   "cell_type": "code",
   "execution_count": 21,
   "id": "14172518",
   "metadata": {},
   "outputs": [],
   "source": [
    "cont_count = []\n",
    "for x in url:\n",
    "    driver.get(x)\n",
    "    for i in range(5):\n",
    "        driver.execute_script('window.scrollBy(0,100)')\n",
    "        time.sleep(5)\n",
    "    try:\n",
    "        cc = driver.find_element(By.XPATH,'/html/body/div[1]/div[4]/div/main/turbo-frame/div/div/div/div[2]/div[2]/div/div[5]/div/h2/a/span')\n",
    "        cont_count.append(cc.text)\n",
    "    except NoSuchElementException:\n",
    "        cont_count.append('-')"
   ]
  },
  {
   "cell_type": "code",
   "execution_count": 24,
   "id": "05c65f76",
   "metadata": {},
   "outputs": [
    {
     "data": {
      "text/plain": [
       "10"
      ]
     },
     "execution_count": 24,
     "metadata": {},
     "output_type": "execute_result"
    }
   ],
   "source": [
    "len(cont_count)"
   ]
  },
  {
   "cell_type": "code",
   "execution_count": 52,
   "id": "763b7201",
   "metadata": {},
   "outputs": [],
   "source": [
    "lang = []\n",
    "try:\n",
    "    ln = driver.find_elements(By.XPATH,'//li[@ class=\"Box-sc-g0xbh4-0 gVaQzD\"]')\n",
    "    for i in ln[::3]:\n",
    "        z = i.text\n",
    "        lang.append(z)\n",
    "except NoSuchElementException:\n",
    "    lang.append('-')"
   ]
  },
  {
   "cell_type": "code",
   "execution_count": 54,
   "id": "c5628910",
   "metadata": {},
   "outputs": [
    {
     "data": {
      "text/plain": [
       "10"
      ]
     },
     "execution_count": 54,
     "metadata": {},
     "output_type": "execute_result"
    }
   ],
   "source": [
    "len(lang)"
   ]
  },
  {
   "cell_type": "code",
   "execution_count": 61,
   "id": "c8f3c30e",
   "metadata": {},
   "outputs": [
    {
     "data": {
      "text/html": [
       "<div>\n",
       "<style scoped>\n",
       "    .dataframe tbody tr th:only-of-type {\n",
       "        vertical-align: middle;\n",
       "    }\n",
       "\n",
       "    .dataframe tbody tr th {\n",
       "        vertical-align: top;\n",
       "    }\n",
       "\n",
       "    .dataframe thead th {\n",
       "        text-align: right;\n",
       "    }\n",
       "</style>\n",
       "<table border=\"1\" class=\"dataframe\">\n",
       "  <thead>\n",
       "    <tr style=\"text-align: right;\">\n",
       "      <th></th>\n",
       "      <th>Repository Title</th>\n",
       "      <th>Repository Description</th>\n",
       "      <th>Contributors Count</th>\n",
       "      <th>Language Used</th>\n",
       "    </tr>\n",
       "  </thead>\n",
       "  <tbody>\n",
       "    <tr>\n",
       "      <th>1</th>\n",
       "      <td>Reddit-Stock-Trends</td>\n",
       "      <td>Fetch currently trending stocks on Reddit</td>\n",
       "      <td>-</td>\n",
       "      <td>Python</td>\n",
       "    </tr>\n",
       "    <tr>\n",
       "      <th>2</th>\n",
       "      <td>github-trending-repos</td>\n",
       "      <td>Track GitHub trending repositories in your fav...</td>\n",
       "      <td>-</td>\n",
       "      <td>HTML</td>\n",
       "    </tr>\n",
       "    <tr>\n",
       "      <th>3</th>\n",
       "      <td>pytrends</td>\n",
       "      <td>Pseudo API for Google Trends</td>\n",
       "      <td>75</td>\n",
       "      <td>Python</td>\n",
       "    </tr>\n",
       "    <tr>\n",
       "      <th>4</th>\n",
       "      <td>LeetHub</td>\n",
       "      <td>Automatically sync your leetcode solutions to ...</td>\n",
       "      <td>-</td>\n",
       "      <td>JavaScript</td>\n",
       "    </tr>\n",
       "    <tr>\n",
       "      <th>5</th>\n",
       "      <td>Trending-Deep-Learning</td>\n",
       "      <td>Top 100 trending deep learning repositories so...</td>\n",
       "      <td>-</td>\n",
       "      <td>Python</td>\n",
       "    </tr>\n",
       "    <tr>\n",
       "      <th>6</th>\n",
       "      <td>trendingtopics</td>\n",
       "      <td>Rails app for tracking trends in server logs -...</td>\n",
       "      <td>-</td>\n",
       "      <td>Ruby</td>\n",
       "    </tr>\n",
       "    <tr>\n",
       "      <th>7</th>\n",
       "      <td>d3</td>\n",
       "      <td>Bring data to life with SVG, Canvas and HTML. ...</td>\n",
       "      <td>-</td>\n",
       "      <td>Shell</td>\n",
       "    </tr>\n",
       "    <tr>\n",
       "      <th>8</th>\n",
       "      <td>github-trending</td>\n",
       "      <td>Tracking the most popular Github repos, update...</td>\n",
       "      <td>4</td>\n",
       "      <td>Python</td>\n",
       "    </tr>\n",
       "    <tr>\n",
       "      <th>9</th>\n",
       "      <td>github-trending-api</td>\n",
       "      <td>The missing APIs for GitHub trending projects ...</td>\n",
       "      <td>67</td>\n",
       "      <td>JavaScript</td>\n",
       "    </tr>\n",
       "    <tr>\n",
       "      <th>10</th>\n",
       "      <td>Trending-YouTube-Scraper</td>\n",
       "      <td>Python script that scrapes the currently trend...</td>\n",
       "      <td>-</td>\n",
       "      <td>Python</td>\n",
       "    </tr>\n",
       "  </tbody>\n",
       "</table>\n",
       "</div>"
      ],
      "text/plain": [
       "            Repository Title  \\\n",
       "1        Reddit-Stock-Trends   \n",
       "2      github-trending-repos   \n",
       "3                   pytrends   \n",
       "4                    LeetHub   \n",
       "5     Trending-Deep-Learning   \n",
       "6             trendingtopics   \n",
       "7                         d3   \n",
       "8            github-trending   \n",
       "9        github-trending-api   \n",
       "10  Trending-YouTube-Scraper   \n",
       "\n",
       "                               Repository Description  Contributors Count   \\\n",
       "1           Fetch currently trending stocks on Reddit                    -   \n",
       "2   Track GitHub trending repositories in your fav...                    -   \n",
       "3                        Pseudo API for Google Trends                   75   \n",
       "4   Automatically sync your leetcode solutions to ...                    -   \n",
       "5   Top 100 trending deep learning repositories so...                    -   \n",
       "6   Rails app for tracking trends in server logs -...                    -   \n",
       "7   Bring data to life with SVG, Canvas and HTML. ...                    -   \n",
       "8   Tracking the most popular Github repos, update...                    4   \n",
       "9   The missing APIs for GitHub trending projects ...                   67   \n",
       "10  Python script that scrapes the currently trend...                    -   \n",
       "\n",
       "   Language Used  \n",
       "1         Python  \n",
       "2           HTML  \n",
       "3         Python  \n",
       "4     JavaScript  \n",
       "5         Python  \n",
       "6           Ruby  \n",
       "7          Shell  \n",
       "8         Python  \n",
       "9     JavaScript  \n",
       "10        Python  "
      ]
     },
     "execution_count": 61,
     "metadata": {},
     "output_type": "execute_result"
    }
   ],
   "source": [
    "df = pd.DataFrame({'Repository Title':rep_title,'Repository Description':rep_des,' Contributors Count ':cont_count,'Language Used':lang},index = range(1,11))\n",
    "df"
   ]
  },
  {
   "cell_type": "markdown",
   "id": "1a85632e",
   "metadata": {},
   "source": [
    "# 5. Scrape the details of top 100 songs on billiboard.com. Url = https:/www.billboard.com/\n",
    "\n",
    "You have to find the following details: \n",
    "    \n",
    "A) Song name \n",
    "\n",
    "B) Artist name \n",
    "\n",
    "C) Last week rank \n",
    "\n",
    "D) Peak rank \n",
    "\n",
    "E) Weeks on board \n",
    "\n",
    "Note: - From the home page you have to click on the charts option then hot 100-page link through code."
   ]
  },
  {
   "cell_type": "code",
   "execution_count": 2,
   "id": "8ad8fd7c",
   "metadata": {},
   "outputs": [],
   "source": [
    "driver = webdriver.Chrome()\n",
    "driver.get('https://www.billboard.com/')"
   ]
  },
  {
   "cell_type": "code",
   "execution_count": 6,
   "id": "9b20e3ca",
   "metadata": {},
   "outputs": [],
   "source": [
    "charts = driver.find_element(By.XPATH,\"/html/body/div[3]/footer/div[4]/div/div/div[2]/div[3]/div/nav[3]/ul/li[1]/a\")\n",
    "charts.click()\n",
    "h_100 = driver.find_element(By.XPATH,\"/html/body/div[3]/main/div[2]/div[1]/div[1]/div/div/div[1]/div/div[2]/span/a\")\n",
    "h_100.click()"
   ]
  },
  {
   "cell_type": "code",
   "execution_count": 22,
   "id": "8725a5f5",
   "metadata": {},
   "outputs": [],
   "source": [
    "title_1 = []\n",
    "time.sleep(5)\n",
    "tt_1 = driver.find_element(By.XPATH,'//h3[@class=\"c-title  a-no-trucate a-font-primary-bold-s u-letter-spacing-0021 u-font-size-23@tablet lrv-u-font-size-16 u-line-height-125 u-line-height-normal@mobile-max a-truncate-ellipsis u-max-width-245 u-max-width-230@tablet-only u-letter-spacing-0028@tablet\"]') \n",
    "title_1.append(tt_1.text)"
   ]
  },
  {
   "cell_type": "code",
   "execution_count": 23,
   "id": "ea082790",
   "metadata": {},
   "outputs": [
    {
     "data": {
      "text/plain": [
       "['Paint The Town Red']"
      ]
     },
     "execution_count": 23,
     "metadata": {},
     "output_type": "execute_result"
    }
   ],
   "source": [
    "title_1"
   ]
  },
  {
   "cell_type": "code",
   "execution_count": 36,
   "id": "95bbf2d2",
   "metadata": {},
   "outputs": [],
   "source": [
    "title_2 = []\n",
    "time.sleep(5)\n",
    "tt_2 = driver.find_elements(By.XPATH,'//h3[@class=\"c-title  a-no-trucate a-font-primary-bold-s u-letter-spacing-0021 lrv-u-font-size-18@tablet lrv-u-font-size-16 u-line-height-125 u-line-height-normal@mobile-max a-truncate-ellipsis u-max-width-330 u-max-width-230@tablet-only\"]')\n",
    "for i in tt_2:\n",
    "    z = i.text\n",
    "    title_2.append(z)"
   ]
  },
  {
   "cell_type": "code",
   "execution_count": 37,
   "id": "9a99180f",
   "metadata": {},
   "outputs": [
    {
     "data": {
      "text/plain": [
       "['I Remember Everything',\n",
       " 'Fast Car',\n",
       " 'Cruel Summer',\n",
       " 'Last Night',\n",
       " 'Dance The Night',\n",
       " 'Snooze',\n",
       " 'Fukumean',\n",
       " 'Vampire',\n",
       " 'Calm Down',\n",
       " 'Rich Men North Of Richmond',\n",
       " 'Barbie World',\n",
       " 'Flowers',\n",
       " 'All My Life',\n",
       " 'Religiously',\n",
       " 'Used To Be Young',\n",
       " 'Hey Driver',\n",
       " 'Need A Favor',\n",
       " \"Thinkin' Bout Me\",\n",
       " 'Anti-Hero',\n",
       " 'Kill Bill',\n",
       " 'What Was I Made For?',\n",
       " 'Last Time I Saw You',\n",
       " 'Karma',\n",
       " \"Creepin'\",\n",
       " 'Bad Idea Right?',\n",
       " 'Meltdown',\n",
       " 'Dial Drunk',\n",
       " 'Tourniquet',\n",
       " 'Try That In A Small Town',\n",
       " 'Qlona',\n",
       " 'Love You Anyway',\n",
       " 'Watermelon Moonshine',\n",
       " 'I Know ?',\n",
       " 'Spotless',\n",
       " 'Bury Me In Georgia',\n",
       " 'Seven',\n",
       " 'Margaritaville',\n",
       " 'Single Soon',\n",
       " 'East Side Of Sorrow',\n",
       " 'What It Is (Block Boy)',\n",
       " 'Daylight',\n",
       " 'Mi Ex Tenia Razon',\n",
       " 'LaLa',\n",
       " 'Cupid',\n",
       " 'Demons',\n",
       " 'Lady Gaga',\n",
       " \"Fear And Friday's\",\n",
       " 'El Dorado',\n",
       " 'Telekinesis',\n",
       " 'Peaches & Eggplants',\n",
       " 'Ticking',\n",
       " \"Summertime's Close\",\n",
       " 'FE!N',\n",
       " 'Overtime',\n",
       " 'Come See Me',\n",
       " 'White Horse',\n",
       " 'Good Good',\n",
       " 'Truck Bed',\n",
       " 'Deli',\n",
       " 'Que Onda',\n",
       " 'Standing Room Only',\n",
       " 'Smaller Acts',\n",
       " 'Everything I Love',\n",
       " 'In Your Love',\n",
       " 'Popular',\n",
       " 'SkeeYee',\n",
       " 'Put It On Da Floor Again',\n",
       " 'Holy Roller',\n",
       " 'Sabor Fresa',\n",
       " 'Tulum',\n",
       " 'Where She Goes',\n",
       " \"Angels Don't Always Have Wings\",\n",
       " 'K-POP',\n",
       " 'Johnny Dang',\n",
       " 'Oh U Went',\n",
       " 'Dawns',\n",
       " \"Jake's Piano - Long Island\",\n",
       " 'Save Me',\n",
       " 'Oklahoma Smoke Show',\n",
       " 'Lose Control',\n",
       " 'Tradesman',\n",
       " 'Shake Sumn',\n",
       " 'Keep Going Up!',\n",
       " 'Area Codes',\n",
       " \"Sittin' On Top Of The World\",\n",
       " 'Pretty Little Poison',\n",
       " 'Oklahoman Son',\n",
       " 'TQM',\n",
       " 'See You Again',\n",
       " 'Amargura',\n",
       " 'Girl In Mine',\n",
       " 'El Amor de Su Vida',\n",
       " 'Summer Too Hot',\n",
       " 'Rubicon',\n",
       " 'Stand By Me',\n",
       " 'Call Your Friends',\n",
       " 'Your Heart Or Mine',\n",
       " 'Primera Cita',\n",
       " 'S91']"
      ]
     },
     "execution_count": 37,
     "metadata": {},
     "output_type": "execute_result"
    }
   ],
   "source": [
    "title_2"
   ]
  },
  {
   "cell_type": "code",
   "execution_count": 38,
   "id": "7b267d74",
   "metadata": {},
   "outputs": [],
   "source": [
    "song_name = title_2.copy()"
   ]
  },
  {
   "cell_type": "code",
   "execution_count": 40,
   "id": "aa1ffad2",
   "metadata": {},
   "outputs": [],
   "source": [
    "song_name.insert(0, title_1[0])"
   ]
  },
  {
   "cell_type": "code",
   "execution_count": 42,
   "id": "629fa324",
   "metadata": {},
   "outputs": [
    {
     "data": {
      "text/plain": [
       "100"
      ]
     },
     "execution_count": 42,
     "metadata": {},
     "output_type": "execute_result"
    }
   ],
   "source": [
    "len(song_name)"
   ]
  },
  {
   "cell_type": "code",
   "execution_count": 44,
   "id": "e18e9910",
   "metadata": {},
   "outputs": [],
   "source": [
    "art_1 = []\n",
    "time.sleep(5)\n",
    "at_1 = driver.find_element(By.XPATH,'//span[@class=\"c-label  a-no-trucate a-font-primary-s lrv-u-font-size-14@mobile-max u-line-height-normal@mobile-max u-letter-spacing-0021 lrv-u-display-block a-truncate-ellipsis-2line u-max-width-330 u-max-width-230@tablet-only u-font-size-20@tablet\"]') \n",
    "art_1.append(at_1.text)"
   ]
  },
  {
   "cell_type": "code",
   "execution_count": 45,
   "id": "6a96aa04",
   "metadata": {},
   "outputs": [
    {
     "data": {
      "text/plain": [
       "['Doja Cat']"
      ]
     },
     "execution_count": 45,
     "metadata": {},
     "output_type": "execute_result"
    }
   ],
   "source": [
    "art_1"
   ]
  },
  {
   "cell_type": "code",
   "execution_count": 46,
   "id": "3a64ac95",
   "metadata": {},
   "outputs": [],
   "source": [
    "art_2 = []\n",
    "time.sleep(5)\n",
    "at_2 = driver.find_elements(By.XPATH,'//span[@class=\"c-label  a-no-trucate a-font-primary-s lrv-u-font-size-14@mobile-max u-line-height-normal@mobile-max u-letter-spacing-0021 lrv-u-display-block a-truncate-ellipsis-2line u-max-width-330 u-max-width-230@tablet-only\"]')\n",
    "for i in at_2:\n",
    "    z = i.text\n",
    "    art_2.append(z)"
   ]
  },
  {
   "cell_type": "code",
   "execution_count": 48,
   "id": "d1ee6e2b",
   "metadata": {},
   "outputs": [
    {
     "data": {
      "text/plain": [
       "99"
      ]
     },
     "execution_count": 48,
     "metadata": {},
     "output_type": "execute_result"
    }
   ],
   "source": [
    "len(art_2)"
   ]
  },
  {
   "cell_type": "code",
   "execution_count": 49,
   "id": "c1a1bd87",
   "metadata": {},
   "outputs": [
    {
     "data": {
      "text/plain": [
       "['Doja Cat',\n",
       " 'Zach Bryan Featuring Kacey Musgraves',\n",
       " 'Luke Combs',\n",
       " 'Taylor Swift',\n",
       " 'Morgan Wallen',\n",
       " 'Dua Lipa',\n",
       " 'SZA',\n",
       " 'Gunna',\n",
       " 'Olivia Rodrigo',\n",
       " 'Rema & Selena Gomez',\n",
       " 'Oliver Anthony Music',\n",
       " 'Nicki Minaj & Ice Spice With Aqua',\n",
       " 'Miley Cyrus',\n",
       " 'Lil Durk Featuring J. Cole',\n",
       " 'Bailey Zimmerman',\n",
       " 'Miley Cyrus',\n",
       " 'Zach Bryan Featuring The War And Treaty',\n",
       " 'Jelly Roll',\n",
       " 'Morgan Wallen',\n",
       " 'Taylor Swift',\n",
       " 'SZA',\n",
       " 'Billie Eilish',\n",
       " 'Nicki Minaj',\n",
       " 'Taylor Swift Featuring Ice Spice',\n",
       " 'Metro Boomin, The Weeknd & 21 Savage',\n",
       " 'Olivia Rodrigo',\n",
       " 'Travis Scott Featuring Drake',\n",
       " 'Noah Kahan With Post Malone',\n",
       " 'Zach Bryan',\n",
       " 'Jason Aldean',\n",
       " 'Karol G & Peso Pluma',\n",
       " 'Luke Combs',\n",
       " 'Lainey Wilson',\n",
       " 'Travis Scott',\n",
       " 'Zach Bryan Featuring The Lumineers',\n",
       " 'Kane Brown',\n",
       " 'Jung Kook Featuring Latto',\n",
       " 'Jimmy Buffett',\n",
       " 'Selena Gomez',\n",
       " 'Zach Bryan',\n",
       " 'Doechii Featuring Kodak Black',\n",
       " 'David Kushner',\n",
       " 'Karol G',\n",
       " 'Myke Towers',\n",
       " 'Fifty Fifty',\n",
       " 'Doja Cat',\n",
       " 'Peso Pluma, Gabito Ballesteros & Junior H',\n",
       " 'Zach Bryan',\n",
       " 'Zach Bryan',\n",
       " 'Travis Scott Featuring SZA & Future',\n",
       " 'Young Nudy Featuring 21 Savage',\n",
       " 'Zach Bryan',\n",
       " 'Zach Bryan',\n",
       " 'Travis Scott Featuring Playboi Carti',\n",
       " 'Zach Bryan',\n",
       " 'Rod Wave',\n",
       " 'Chris Stapleton',\n",
       " 'Usher, Summer Walker & 21 Savage',\n",
       " 'HARDY',\n",
       " 'Ice Spice',\n",
       " 'Calle 24 x Chino Pacas x Fuerza Regida',\n",
       " 'Tim McGraw',\n",
       " 'Zach Bryan',\n",
       " 'Morgan Wallen',\n",
       " 'Tyler Childers',\n",
       " 'The Weeknd, Playboi Carti & Madonna',\n",
       " 'Sexyy Red',\n",
       " 'Latto Featuring Cardi B',\n",
       " 'Zach Bryan Featuring Sierra Ferrell',\n",
       " 'Fuerza Regida',\n",
       " 'Peso Pluma & Grupo Frontera',\n",
       " 'Bad Bunny',\n",
       " 'Thomas Rhett',\n",
       " 'Travis Scott, Bad Bunny & The Weeknd',\n",
       " 'That Mexican OT, Paul Wall & DRODi',\n",
       " 'Young Thug Featuring Drake',\n",
       " 'Zach Bryan Featuring Maggie Rogers',\n",
       " 'Zach Bryan',\n",
       " 'Jelly Roll With Lainey Wilson',\n",
       " 'Zach Bryan',\n",
       " 'Teddy Swims',\n",
       " 'Zach Bryan',\n",
       " 'DaBaby',\n",
       " 'Timbaland, Nelly Furtado & Justin Timberlake',\n",
       " 'Kaliii',\n",
       " 'Burna Boy',\n",
       " 'Warren Zeiders',\n",
       " 'Zach Bryan',\n",
       " 'Fuerza Regida',\n",
       " 'Tyler, The Creator Featuring Kali Uchis',\n",
       " 'Karol G',\n",
       " 'Parmalee',\n",
       " 'Grupo Frontera & Grupo Firme',\n",
       " 'Chris Brown',\n",
       " 'Peso Pluma',\n",
       " 'Lil Durk Featuring Morgan Wallen',\n",
       " 'Rod Wave',\n",
       " 'Jon Pardi',\n",
       " 'Carin Leon',\n",
       " 'Karol G']"
      ]
     },
     "execution_count": 49,
     "metadata": {},
     "output_type": "execute_result"
    }
   ],
   "source": [
    "artist_name = art_2.copy()\n",
    "artist_name.insert(0, art_1[0])\n",
    "artist_name"
   ]
  },
  {
   "cell_type": "code",
   "execution_count": 50,
   "id": "fa5181bb",
   "metadata": {},
   "outputs": [
    {
     "data": {
      "text/plain": [
       "100"
      ]
     },
     "execution_count": 50,
     "metadata": {},
     "output_type": "execute_result"
    }
   ],
   "source": [
    "len(artist_name)"
   ]
  },
  {
   "cell_type": "code",
   "execution_count": 51,
   "id": "f920550c",
   "metadata": {},
   "outputs": [],
   "source": [
    "lwr_1 = []\n",
    "time.sleep(5)\n",
    "lw_1 = driver.find_elements(By.XPATH,'//*[@id=\"post-1479786\"]/div[3]/div/div/div/div[2]/div[2]/ul/li[4]/ul/li[4]/span')\n",
    "for i in lw_1:\n",
    "    z = i.text\n",
    "    lwr_1.append(z)"
   ]
  },
  {
   "cell_type": "code",
   "execution_count": 52,
   "id": "53d3b093",
   "metadata": {},
   "outputs": [
    {
     "data": {
      "text/plain": [
       "['3']"
      ]
     },
     "execution_count": 52,
     "metadata": {},
     "output_type": "execute_result"
    }
   ],
   "source": [
    "lwr_1"
   ]
  },
  {
   "cell_type": "code",
   "execution_count": 69,
   "id": "4390b761",
   "metadata": {},
   "outputs": [],
   "source": [
    "lwr_2 = []\n",
    "time.sleep(5)\n",
    "lw_2 = driver.find_elements(By.XPATH,'//span[@class=\"c-label  a-font-primary-m lrv-u-padding-tb-050@mobile-max\"]')\n",
    "for i in lw_2[::6]:\n",
    "    z = i.text\n",
    "    lwr_2.append(z)"
   ]
  },
  {
   "cell_type": "code",
   "execution_count": 71,
   "id": "3695dbe7",
   "metadata": {},
   "outputs": [
    {
     "data": {
      "text/plain": [
       "99"
      ]
     },
     "execution_count": 71,
     "metadata": {},
     "output_type": "execute_result"
    }
   ],
   "source": [
    "len(lwr_2)"
   ]
  },
  {
   "cell_type": "code",
   "execution_count": 72,
   "id": "8697205f",
   "metadata": {},
   "outputs": [
    {
     "data": {
      "text/plain": [
       "['3',\n",
       " '1',\n",
       " '2',\n",
       " '5',\n",
       " '4',\n",
       " '9',\n",
       " '7',\n",
       " '10',\n",
       " '12',\n",
       " '11',\n",
       " '6',\n",
       " '13',\n",
       " '15',\n",
       " '16',\n",
       " '21',\n",
       " '8',\n",
       " '14',\n",
       " '26',\n",
       " '34',\n",
       " '32',\n",
       " '27',\n",
       " '30',\n",
       " '-',\n",
       " '25',\n",
       " '33',\n",
       " '35',\n",
       " '36',\n",
       " '42',\n",
       " '20',\n",
       " '45',\n",
       " '43',\n",
       " '40',\n",
       " '46',\n",
       " '49',\n",
       " '17',\n",
       " '51',\n",
       " '28',\n",
       " '-',\n",
       " '19',\n",
       " '18',\n",
       " '53',\n",
       " '52',\n",
       " '50',\n",
       " '54',\n",
       " '48',\n",
       " '-',\n",
       " '56',\n",
       " '24',\n",
       " '31',\n",
       " '55',\n",
       " '59',\n",
       " '29',\n",
       " '23',\n",
       " '58',\n",
       " '22',\n",
       " '-',\n",
       " '63',\n",
       " '65',\n",
       " '68',\n",
       " '64',\n",
       " '-',\n",
       " '62',\n",
       " '38',\n",
       " '73',\n",
       " '83',\n",
       " '71',\n",
       " '-',\n",
       " '60',\n",
       " '37',\n",
       " '74',\n",
       " '70',\n",
       " '66',\n",
       " '77',\n",
       " '67',\n",
       " '75',\n",
       " '81',\n",
       " '76',\n",
       " '41',\n",
       " '84',\n",
       " '88',\n",
       " '82',\n",
       " '44',\n",
       " '78',\n",
       " '-',\n",
       " '79',\n",
       " '80',\n",
       " '92',\n",
       " '47',\n",
       " '91',\n",
       " '87',\n",
       " '90',\n",
       " '99',\n",
       " '-',\n",
       " '96',\n",
       " '100',\n",
       " '93',\n",
       " '85',\n",
       " '72',\n",
       " '97',\n",
       " '86']"
      ]
     },
     "execution_count": 72,
     "metadata": {},
     "output_type": "execute_result"
    }
   ],
   "source": [
    "last_week_rank = lwr_2.copy()\n",
    "last_week_rank.insert(0, lwr_1[0])\n",
    "last_week_rank "
   ]
  },
  {
   "cell_type": "code",
   "execution_count": 73,
   "id": "5717e961",
   "metadata": {},
   "outputs": [
    {
     "data": {
      "text/plain": [
       "100"
      ]
     },
     "execution_count": 73,
     "metadata": {},
     "output_type": "execute_result"
    }
   ],
   "source": [
    "len(last_week_rank)"
   ]
  },
  {
   "cell_type": "code",
   "execution_count": 74,
   "id": "f5298149",
   "metadata": {},
   "outputs": [],
   "source": [
    "pr_1 = []\n",
    "time.sleep(5)\n",
    "p_1 = driver.find_elements(By.XPATH,'//*[@id=\"post-1479786\"]/div[3]/div/div/div/div[2]/div[2]/ul/li[4]/ul/li[5]/span')\n",
    "for i in p_1:\n",
    "    z = i.text\n",
    "    pr_1.append(z)"
   ]
  },
  {
   "cell_type": "code",
   "execution_count": 75,
   "id": "7cd1edb1",
   "metadata": {},
   "outputs": [
    {
     "data": {
      "text/plain": [
       "['1']"
      ]
     },
     "execution_count": 75,
     "metadata": {},
     "output_type": "execute_result"
    }
   ],
   "source": [
    "pr_1 "
   ]
  },
  {
   "cell_type": "code",
   "execution_count": 86,
   "id": "9d94132d",
   "metadata": {},
   "outputs": [],
   "source": [
    "pr_2 = []\n",
    "time.sleep(5)\n",
    "p_2 = driver.find_elements(By.XPATH,'//span[@class=\"c-label  a-font-primary-m lrv-u-padding-tb-050@mobile-max\"]')\n",
    "for i in p_2[1::6]:\n",
    "    z = i.text\n",
    "    pr_2.append(z)"
   ]
  },
  {
   "cell_type": "code",
   "execution_count": 88,
   "id": "de4aa6e6",
   "metadata": {},
   "outputs": [
    {
     "data": {
      "text/plain": [
       "99"
      ]
     },
     "execution_count": 88,
     "metadata": {},
     "output_type": "execute_result"
    }
   ],
   "source": [
    "len(pr_2)"
   ]
  },
  {
   "cell_type": "code",
   "execution_count": 89,
   "id": "487aa233",
   "metadata": {},
   "outputs": [
    {
     "data": {
      "text/plain": [
       "100"
      ]
     },
     "execution_count": 89,
     "metadata": {},
     "output_type": "execute_result"
    }
   ],
   "source": [
    "peak_rank = pr_2.copy()\n",
    "peak_rank.insert(0, pr_1[0])\n",
    "len(peak_rank) "
   ]
  },
  {
   "cell_type": "code",
   "execution_count": 90,
   "id": "7f614f85",
   "metadata": {},
   "outputs": [
    {
     "data": {
      "text/plain": [
       "['5']"
      ]
     },
     "execution_count": 90,
     "metadata": {},
     "output_type": "execute_result"
    }
   ],
   "source": [
    "wob_1 = []\n",
    "time.sleep(5)\n",
    "w_1 = driver.find_elements(By.XPATH,'//*[@id=\"post-1479786\"]/div[3]/div/div/div/div[2]/div[2]/ul/li[4]/ul/li[6]/span')\n",
    "for i in w_1:\n",
    "    z = i.text\n",
    "    wob_1.append(z)\n",
    "wob_1"
   ]
  },
  {
   "cell_type": "code",
   "execution_count": 92,
   "id": "344c9344",
   "metadata": {},
   "outputs": [
    {
     "data": {
      "text/plain": [
       "['2',\n",
       " '24',\n",
       " '18',\n",
       " '32',\n",
       " '15',\n",
       " '39',\n",
       " '12',\n",
       " '10',\n",
       " '53',\n",
       " '4',\n",
       " '11',\n",
       " '34',\n",
       " '17',\n",
       " '18',\n",
       " '2',\n",
       " '2',\n",
       " '23',\n",
       " '27',\n",
       " '46',\n",
       " '39',\n",
       " '8',\n",
       " '1',\n",
       " '26',\n",
       " '40',\n",
       " '4',\n",
       " '6',\n",
       " '12',\n",
       " '2',\n",
       " '8',\n",
       " '4',\n",
       " '30',\n",
       " '11',\n",
       " '6',\n",
       " '2',\n",
       " '17',\n",
       " '8',\n",
       " '23',\n",
       " '2',\n",
       " '2',\n",
       " '18',\n",
       " '21',\n",
       " '4',\n",
       " '9',\n",
       " '25',\n",
       " '1',\n",
       " '11',\n",
       " '2',\n",
       " '2',\n",
       " '6',\n",
       " '14',\n",
       " '2',\n",
       " '2',\n",
       " '6',\n",
       " '2',\n",
       " '1',\n",
       " '7',\n",
       " '4',\n",
       " '12',\n",
       " '7',\n",
       " '1',\n",
       " '3',\n",
       " '2',\n",
       " '28',\n",
       " '6',\n",
       " '14',\n",
       " '1',\n",
       " '14',\n",
       " '2',\n",
       " '11',\n",
       " '10',\n",
       " '16',\n",
       " '7',\n",
       " '7',\n",
       " '8',\n",
       " '11',\n",
       " '19',\n",
       " '2',\n",
       " '12',\n",
       " '7',\n",
       " '4',\n",
       " '2',\n",
       " '16',\n",
       " '1',\n",
       " '18',\n",
       " '2',\n",
       " '4',\n",
       " '2',\n",
       " '16',\n",
       " '20',\n",
       " '4',\n",
       " '6',\n",
       " '3',\n",
       " '3',\n",
       " '10',\n",
       " '15',\n",
       " '3',\n",
       " '17',\n",
       " '2',\n",
       " '6']"
      ]
     },
     "execution_count": 92,
     "metadata": {},
     "output_type": "execute_result"
    }
   ],
   "source": [
    "wob_2 = []\n",
    "time.sleep(5)\n",
    "w_2 = driver.find_elements(By.XPATH,'//span[@class=\"c-label  a-font-primary-m lrv-u-padding-tb-050@mobile-max\"]')\n",
    "for i in w_2[2::6]:\n",
    "    z = i.text\n",
    "    wob_2.append(z)\n",
    "wob_2"
   ]
  },
  {
   "cell_type": "code",
   "execution_count": 93,
   "id": "a3dc9829",
   "metadata": {},
   "outputs": [
    {
     "data": {
      "text/plain": [
       "100"
      ]
     },
     "execution_count": 93,
     "metadata": {},
     "output_type": "execute_result"
    }
   ],
   "source": [
    "weeks_on_board = wob_2.copy()\n",
    "weeks_on_board.insert(0, wob_1[0])\n",
    "len(weeks_on_board) "
   ]
  },
  {
   "cell_type": "code",
   "execution_count": 94,
   "id": "08c0b59d",
   "metadata": {},
   "outputs": [
    {
     "data": {
      "text/html": [
       "<div>\n",
       "<style scoped>\n",
       "    .dataframe tbody tr th:only-of-type {\n",
       "        vertical-align: middle;\n",
       "    }\n",
       "\n",
       "    .dataframe tbody tr th {\n",
       "        vertical-align: top;\n",
       "    }\n",
       "\n",
       "    .dataframe thead th {\n",
       "        text-align: right;\n",
       "    }\n",
       "</style>\n",
       "<table border=\"1\" class=\"dataframe\">\n",
       "  <thead>\n",
       "    <tr style=\"text-align: right;\">\n",
       "      <th></th>\n",
       "      <th>Song Name</th>\n",
       "      <th>Artist Name</th>\n",
       "      <th>Last Week Rank</th>\n",
       "      <th>Peak Rank</th>\n",
       "      <th>Weeks on Board</th>\n",
       "    </tr>\n",
       "  </thead>\n",
       "  <tbody>\n",
       "    <tr>\n",
       "      <th>1</th>\n",
       "      <td>Paint The Town Red</td>\n",
       "      <td>Doja Cat</td>\n",
       "      <td>3</td>\n",
       "      <td>1</td>\n",
       "      <td>5</td>\n",
       "    </tr>\n",
       "    <tr>\n",
       "      <th>2</th>\n",
       "      <td>I Remember Everything</td>\n",
       "      <td>Zach Bryan Featuring Kacey Musgraves</td>\n",
       "      <td>1</td>\n",
       "      <td>1</td>\n",
       "      <td>2</td>\n",
       "    </tr>\n",
       "    <tr>\n",
       "      <th>3</th>\n",
       "      <td>Fast Car</td>\n",
       "      <td>Luke Combs</td>\n",
       "      <td>2</td>\n",
       "      <td>2</td>\n",
       "      <td>24</td>\n",
       "    </tr>\n",
       "    <tr>\n",
       "      <th>4</th>\n",
       "      <td>Cruel Summer</td>\n",
       "      <td>Taylor Swift</td>\n",
       "      <td>5</td>\n",
       "      <td>3</td>\n",
       "      <td>18</td>\n",
       "    </tr>\n",
       "    <tr>\n",
       "      <th>5</th>\n",
       "      <td>Last Night</td>\n",
       "      <td>Morgan Wallen</td>\n",
       "      <td>4</td>\n",
       "      <td>1</td>\n",
       "      <td>32</td>\n",
       "    </tr>\n",
       "    <tr>\n",
       "      <th>...</th>\n",
       "      <td>...</td>\n",
       "      <td>...</td>\n",
       "      <td>...</td>\n",
       "      <td>...</td>\n",
       "      <td>...</td>\n",
       "    </tr>\n",
       "    <tr>\n",
       "      <th>96</th>\n",
       "      <td>Stand By Me</td>\n",
       "      <td>Lil Durk Featuring Morgan Wallen</td>\n",
       "      <td>93</td>\n",
       "      <td>22</td>\n",
       "      <td>15</td>\n",
       "    </tr>\n",
       "    <tr>\n",
       "      <th>97</th>\n",
       "      <td>Call Your Friends</td>\n",
       "      <td>Rod Wave</td>\n",
       "      <td>85</td>\n",
       "      <td>26</td>\n",
       "      <td>3</td>\n",
       "    </tr>\n",
       "    <tr>\n",
       "      <th>98</th>\n",
       "      <td>Your Heart Or Mine</td>\n",
       "      <td>Jon Pardi</td>\n",
       "      <td>72</td>\n",
       "      <td>47</td>\n",
       "      <td>17</td>\n",
       "    </tr>\n",
       "    <tr>\n",
       "      <th>99</th>\n",
       "      <td>Primera Cita</td>\n",
       "      <td>Carin Leon</td>\n",
       "      <td>97</td>\n",
       "      <td>97</td>\n",
       "      <td>2</td>\n",
       "    </tr>\n",
       "    <tr>\n",
       "      <th>100</th>\n",
       "      <td>S91</td>\n",
       "      <td>Karol G</td>\n",
       "      <td>86</td>\n",
       "      <td>45</td>\n",
       "      <td>6</td>\n",
       "    </tr>\n",
       "  </tbody>\n",
       "</table>\n",
       "<p>100 rows × 5 columns</p>\n",
       "</div>"
      ],
      "text/plain": [
       "                 Song Name                           Artist Name  \\\n",
       "1       Paint The Town Red                              Doja Cat   \n",
       "2    I Remember Everything  Zach Bryan Featuring Kacey Musgraves   \n",
       "3                 Fast Car                            Luke Combs   \n",
       "4             Cruel Summer                          Taylor Swift   \n",
       "5               Last Night                         Morgan Wallen   \n",
       "..                     ...                                   ...   \n",
       "96             Stand By Me      Lil Durk Featuring Morgan Wallen   \n",
       "97       Call Your Friends                              Rod Wave   \n",
       "98      Your Heart Or Mine                             Jon Pardi   \n",
       "99            Primera Cita                            Carin Leon   \n",
       "100                    S91                               Karol G   \n",
       "\n",
       "    Last Week Rank Peak Rank Weeks on Board  \n",
       "1                3         1              5  \n",
       "2                1         1              2  \n",
       "3                2         2             24  \n",
       "4                5         3             18  \n",
       "5                4         1             32  \n",
       "..             ...       ...            ...  \n",
       "96              93        22             15  \n",
       "97              85        26              3  \n",
       "98              72        47             17  \n",
       "99              97        97              2  \n",
       "100             86        45              6  \n",
       "\n",
       "[100 rows x 5 columns]"
      ]
     },
     "execution_count": 94,
     "metadata": {},
     "output_type": "execute_result"
    }
   ],
   "source": [
    "df = pd.DataFrame({'Song Name':song_name,'Artist Name':artist_name,'Last Week Rank':last_week_rank,'Peak Rank':peak_rank,'Weeks on Board':weeks_on_board},index = range(1,101))\n",
    "df"
   ]
  },
  {
   "cell_type": "markdown",
   "id": "aada22aa",
   "metadata": {},
   "source": [
    "# 6. URl = https://www.theguardian.com/news/datablog/2012/aug/09/best-selling-books-all-time-fifty-shades-grey-compare \n",
    "\n",
    "\u0002You have to find the following details\n",
    "Scrape the details of Highest selling novels. \n",
    "compare \n",
    "\n",
    "A) Book name \n",
    "\n",
    "B) Author name\n",
    "\n",
    "C) Volumes sold\n",
    "\n",
    "D) Publisher\n",
    "\n",
    "E) Genre\n"
   ]
  },
  {
   "cell_type": "code",
   "execution_count": 2,
   "id": "4cf39f54",
   "metadata": {},
   "outputs": [],
   "source": [
    "driver = webdriver.Chrome()\n",
    "driver.get('https://www.theguardian.com/news/datablog/2012/aug/09/best-selling-books-all-time-fifty-shades-grey-compare')"
   ]
  },
  {
   "cell_type": "code",
   "execution_count": 3,
   "id": "b3935278",
   "metadata": {},
   "outputs": [],
   "source": [
    "book_name = []\n",
    "bn = driver.find_elements(By.XPATH,'//table[@class=\"in-article sortable\"]/tbody/tr/td[2]')\n",
    "for i in bn:\n",
    "    z = i.text\n",
    "    book_name.append(z)"
   ]
  },
  {
   "cell_type": "code",
   "execution_count": 5,
   "id": "a3d06079",
   "metadata": {},
   "outputs": [
    {
     "data": {
      "text/plain": [
       "100"
      ]
     },
     "execution_count": 5,
     "metadata": {},
     "output_type": "execute_result"
    }
   ],
   "source": [
    "len(book_name)"
   ]
  },
  {
   "cell_type": "code",
   "execution_count": 6,
   "id": "f01d327a",
   "metadata": {},
   "outputs": [],
   "source": [
    "author_name = []\n",
    "an = driver.find_elements(By.XPATH,'//table[@class=\"in-article sortable\"]/tbody/tr/td[3]')\n",
    "for i in an:\n",
    "    z = i.text\n",
    "    author_name.append(z)"
   ]
  },
  {
   "cell_type": "code",
   "execution_count": 8,
   "id": "f5780d55",
   "metadata": {},
   "outputs": [
    {
     "data": {
      "text/plain": [
       "100"
      ]
     },
     "execution_count": 8,
     "metadata": {},
     "output_type": "execute_result"
    }
   ],
   "source": [
    "len(author_name)"
   ]
  },
  {
   "cell_type": "code",
   "execution_count": 9,
   "id": "93a73533",
   "metadata": {},
   "outputs": [],
   "source": [
    "volumes_sold = []\n",
    "vs = driver.find_elements(By.XPATH,'//table[@class=\"in-article sortable\"]/tbody/tr/td[4]')\n",
    "for i in vs:\n",
    "    z = i.text\n",
    "    volumes_sold.append(z)"
   ]
  },
  {
   "cell_type": "code",
   "execution_count": 11,
   "id": "406ebde2",
   "metadata": {},
   "outputs": [
    {
     "data": {
      "text/plain": [
       "100"
      ]
     },
     "execution_count": 11,
     "metadata": {},
     "output_type": "execute_result"
    }
   ],
   "source": [
    "len(volumes_sold) "
   ]
  },
  {
   "cell_type": "code",
   "execution_count": 12,
   "id": "1b1cada0",
   "metadata": {},
   "outputs": [],
   "source": [
    "publisher = []\n",
    "ps = driver.find_elements(By.XPATH,'//table[@class=\"in-article sortable\"]/tbody/tr/td[5]')\n",
    "for i in ps:\n",
    "    z = i.text\n",
    "    publisher.append(z)"
   ]
  },
  {
   "cell_type": "code",
   "execution_count": 14,
   "id": "283ca5e2",
   "metadata": {},
   "outputs": [
    {
     "data": {
      "text/plain": [
       "100"
      ]
     },
     "execution_count": 14,
     "metadata": {},
     "output_type": "execute_result"
    }
   ],
   "source": [
    "len(publisher)"
   ]
  },
  {
   "cell_type": "code",
   "execution_count": 15,
   "id": "02c7aa1d",
   "metadata": {},
   "outputs": [],
   "source": [
    "genre = []\n",
    "gn = driver.find_elements(By.XPATH,'//table[@class=\"in-article sortable\"]/tbody/tr/td[6]')\n",
    "for i in gn:\n",
    "    z = i.text\n",
    "    genre.append(z)"
   ]
  },
  {
   "cell_type": "code",
   "execution_count": 17,
   "id": "b1c8fd88",
   "metadata": {},
   "outputs": [
    {
     "data": {
      "text/plain": [
       "100"
      ]
     },
     "execution_count": 17,
     "metadata": {},
     "output_type": "execute_result"
    }
   ],
   "source": [
    "len(genre)"
   ]
  },
  {
   "cell_type": "code",
   "execution_count": 18,
   "id": "af762417",
   "metadata": {},
   "outputs": [
    {
     "data": {
      "text/html": [
       "<div>\n",
       "<style scoped>\n",
       "    .dataframe tbody tr th:only-of-type {\n",
       "        vertical-align: middle;\n",
       "    }\n",
       "\n",
       "    .dataframe tbody tr th {\n",
       "        vertical-align: top;\n",
       "    }\n",
       "\n",
       "    .dataframe thead th {\n",
       "        text-align: right;\n",
       "    }\n",
       "</style>\n",
       "<table border=\"1\" class=\"dataframe\">\n",
       "  <thead>\n",
       "    <tr style=\"text-align: right;\">\n",
       "      <th></th>\n",
       "      <th>Book Name</th>\n",
       "      <th>Author Name</th>\n",
       "      <th>Volumes Sold</th>\n",
       "      <th>Publisher</th>\n",
       "      <th>Genre</th>\n",
       "    </tr>\n",
       "  </thead>\n",
       "  <tbody>\n",
       "    <tr>\n",
       "      <th>1</th>\n",
       "      <td>Da Vinci Code,The</td>\n",
       "      <td>Brown, Dan</td>\n",
       "      <td>5,094,805</td>\n",
       "      <td>Transworld</td>\n",
       "      <td>Crime, Thriller &amp; Adventure</td>\n",
       "    </tr>\n",
       "    <tr>\n",
       "      <th>2</th>\n",
       "      <td>Harry Potter and the Deathly Hallows</td>\n",
       "      <td>Rowling, J.K.</td>\n",
       "      <td>4,475,152</td>\n",
       "      <td>Bloomsbury</td>\n",
       "      <td>Children's Fiction</td>\n",
       "    </tr>\n",
       "    <tr>\n",
       "      <th>3</th>\n",
       "      <td>Harry Potter and the Philosopher's Stone</td>\n",
       "      <td>Rowling, J.K.</td>\n",
       "      <td>4,200,654</td>\n",
       "      <td>Bloomsbury</td>\n",
       "      <td>Children's Fiction</td>\n",
       "    </tr>\n",
       "    <tr>\n",
       "      <th>4</th>\n",
       "      <td>Harry Potter and the Order of the Phoenix</td>\n",
       "      <td>Rowling, J.K.</td>\n",
       "      <td>4,179,479</td>\n",
       "      <td>Bloomsbury</td>\n",
       "      <td>Children's Fiction</td>\n",
       "    </tr>\n",
       "    <tr>\n",
       "      <th>5</th>\n",
       "      <td>Fifty Shades of Grey</td>\n",
       "      <td>James, E. L.</td>\n",
       "      <td>3,758,936</td>\n",
       "      <td>Random House</td>\n",
       "      <td>Romance &amp; Sagas</td>\n",
       "    </tr>\n",
       "    <tr>\n",
       "      <th>...</th>\n",
       "      <td>...</td>\n",
       "      <td>...</td>\n",
       "      <td>...</td>\n",
       "      <td>...</td>\n",
       "      <td>...</td>\n",
       "    </tr>\n",
       "    <tr>\n",
       "      <th>96</th>\n",
       "      <td>Ghost,The</td>\n",
       "      <td>Harris, Robert</td>\n",
       "      <td>807,311</td>\n",
       "      <td>Random House</td>\n",
       "      <td>General &amp; Literary Fiction</td>\n",
       "    </tr>\n",
       "    <tr>\n",
       "      <th>97</th>\n",
       "      <td>Happy Days with the Naked Chef</td>\n",
       "      <td>Oliver, Jamie</td>\n",
       "      <td>794,201</td>\n",
       "      <td>Penguin</td>\n",
       "      <td>Food &amp; Drink: General</td>\n",
       "    </tr>\n",
       "    <tr>\n",
       "      <th>98</th>\n",
       "      <td>Hunger Games,The:Hunger Games Trilogy</td>\n",
       "      <td>Collins, Suzanne</td>\n",
       "      <td>792,187</td>\n",
       "      <td>Scholastic Ltd.</td>\n",
       "      <td>Young Adult Fiction</td>\n",
       "    </tr>\n",
       "    <tr>\n",
       "      <th>99</th>\n",
       "      <td>Lost Boy,The:A Foster Child's Search for the L...</td>\n",
       "      <td>Pelzer, Dave</td>\n",
       "      <td>791,507</td>\n",
       "      <td>Orion</td>\n",
       "      <td>Biography: General</td>\n",
       "    </tr>\n",
       "    <tr>\n",
       "      <th>100</th>\n",
       "      <td>Jamie's Ministry of Food:Anyone Can Learn to C...</td>\n",
       "      <td>Oliver, Jamie</td>\n",
       "      <td>791,095</td>\n",
       "      <td>Penguin</td>\n",
       "      <td>Food &amp; Drink: General</td>\n",
       "    </tr>\n",
       "  </tbody>\n",
       "</table>\n",
       "<p>100 rows × 5 columns</p>\n",
       "</div>"
      ],
      "text/plain": [
       "                                             Book Name       Author Name  \\\n",
       "1                                    Da Vinci Code,The        Brown, Dan   \n",
       "2                 Harry Potter and the Deathly Hallows     Rowling, J.K.   \n",
       "3             Harry Potter and the Philosopher's Stone     Rowling, J.K.   \n",
       "4            Harry Potter and the Order of the Phoenix     Rowling, J.K.   \n",
       "5                                 Fifty Shades of Grey      James, E. L.   \n",
       "..                                                 ...               ...   \n",
       "96                                           Ghost,The    Harris, Robert   \n",
       "97                      Happy Days with the Naked Chef     Oliver, Jamie   \n",
       "98               Hunger Games,The:Hunger Games Trilogy  Collins, Suzanne   \n",
       "99   Lost Boy,The:A Foster Child's Search for the L...      Pelzer, Dave   \n",
       "100  Jamie's Ministry of Food:Anyone Can Learn to C...     Oliver, Jamie   \n",
       "\n",
       "    Volumes Sold        Publisher                        Genre  \n",
       "1      5,094,805       Transworld  Crime, Thriller & Adventure  \n",
       "2      4,475,152       Bloomsbury           Children's Fiction  \n",
       "3      4,200,654       Bloomsbury           Children's Fiction  \n",
       "4      4,179,479       Bloomsbury           Children's Fiction  \n",
       "5      3,758,936     Random House              Romance & Sagas  \n",
       "..           ...              ...                          ...  \n",
       "96       807,311     Random House   General & Literary Fiction  \n",
       "97       794,201          Penguin        Food & Drink: General  \n",
       "98       792,187  Scholastic Ltd.          Young Adult Fiction  \n",
       "99       791,507            Orion           Biography: General  \n",
       "100      791,095          Penguin        Food & Drink: General  \n",
       "\n",
       "[100 rows x 5 columns]"
      ]
     },
     "execution_count": 18,
     "metadata": {},
     "output_type": "execute_result"
    }
   ],
   "source": [
    "df = pd.DataFrame({'Book Name':book_name,'Author Name':author_name,'Volumes Sold':volumes_sold,'Publisher':publisher,'Genre':genre},index = range(1,101))\n",
    "df"
   ]
  },
  {
   "cell_type": "markdown",
   "id": "ec0a4795",
   "metadata": {},
   "source": [
    "# 7. Scrape the details most watched tv series of all time from imdb.com.\n",
    "\n",
    "Url = https://www.imdb.com/list/ls095964455/ You \n",
    "have to find the following details:\n",
    "    \n",
    "A) Name\n",
    "\n",
    "B) Year span\n",
    "\n",
    "C) Genre\n",
    "\n",
    "D) Run time\n",
    "\n",
    "E) Ratings \n",
    "\n",
    "F) Votes "
   ]
  },
  {
   "cell_type": "code",
   "execution_count": 19,
   "id": "3e4e6c06",
   "metadata": {},
   "outputs": [],
   "source": [
    "driver = webdriver.Chrome()\n",
    "driver.get('https://www.imdb.com/list/ls095964455/')"
   ]
  },
  {
   "cell_type": "code",
   "execution_count": 24,
   "id": "98e3f6cd",
   "metadata": {},
   "outputs": [],
   "source": [
    "name = []\n",
    "nm = driver.find_elements(By.XPATH,'//h3[@class=\"lister-item-header\"]/a')\n",
    "for i in nm:\n",
    "    z = i.text\n",
    "    name.append(z)"
   ]
  },
  {
   "cell_type": "code",
   "execution_count": 26,
   "id": "f80bbc67",
   "metadata": {},
   "outputs": [
    {
     "data": {
      "text/plain": [
       "100"
      ]
     },
     "execution_count": 26,
     "metadata": {},
     "output_type": "execute_result"
    }
   ],
   "source": [
    "len(name)"
   ]
  },
  {
   "cell_type": "code",
   "execution_count": 27,
   "id": "451ba8a9",
   "metadata": {},
   "outputs": [],
   "source": [
    "year_span = []\n",
    "ys = driver.find_elements(By.XPATH,'//h3[@class=\"lister-item-header\"]/span[2]')\n",
    "for i in ys:\n",
    "    z = i.text\n",
    "    year_span.append(z)"
   ]
  },
  {
   "cell_type": "code",
   "execution_count": 29,
   "id": "47c1b88c",
   "metadata": {},
   "outputs": [
    {
     "data": {
      "text/plain": [
       "100"
      ]
     },
     "execution_count": 29,
     "metadata": {},
     "output_type": "execute_result"
    }
   ],
   "source": [
    "len(year_span)"
   ]
  },
  {
   "cell_type": "code",
   "execution_count": 30,
   "id": "89b6f837",
   "metadata": {},
   "outputs": [],
   "source": [
    "genre = []\n",
    "gr = driver.find_elements(By.XPATH,'//span[@class=\"genre\"]')\n",
    "for i in gr:\n",
    "    z = i.text\n",
    "    genre.append(z)"
   ]
  },
  {
   "cell_type": "code",
   "execution_count": 33,
   "id": "88e770fd",
   "metadata": {},
   "outputs": [
    {
     "data": {
      "text/plain": [
       "100"
      ]
     },
     "execution_count": 33,
     "metadata": {},
     "output_type": "execute_result"
    }
   ],
   "source": [
    "len(genre)"
   ]
  },
  {
   "cell_type": "code",
   "execution_count": 34,
   "id": "115eb99d",
   "metadata": {},
   "outputs": [],
   "source": [
    "run_time = []\n",
    "rt = driver.find_elements(By.XPATH,'//span[@class=\"runtime\"]')\n",
    "for i in rt:\n",
    "    z = i.text\n",
    "    run_time.append(z)"
   ]
  },
  {
   "cell_type": "code",
   "execution_count": 36,
   "id": "e6bb482e",
   "metadata": {},
   "outputs": [
    {
     "data": {
      "text/plain": [
       "100"
      ]
     },
     "execution_count": 36,
     "metadata": {},
     "output_type": "execute_result"
    }
   ],
   "source": [
    "len(run_time)"
   ]
  },
  {
   "cell_type": "code",
   "execution_count": 37,
   "id": "dc1cc064",
   "metadata": {},
   "outputs": [],
   "source": [
    "ratings = []\n",
    "rs = driver.find_elements(By.XPATH,'//div[@class=\"ipl-rating-widget\"]')\n",
    "for i in rs:\n",
    "    z = i.text\n",
    "    ratings.append(z)"
   ]
  },
  {
   "cell_type": "code",
   "execution_count": 39,
   "id": "a62ef0a7",
   "metadata": {},
   "outputs": [],
   "source": [
    "ratings = [s.replace('\\nRate','') for s in ratings]"
   ]
  },
  {
   "cell_type": "code",
   "execution_count": 41,
   "id": "dc2a0872",
   "metadata": {},
   "outputs": [
    {
     "data": {
      "text/plain": [
       "100"
      ]
     },
     "execution_count": 41,
     "metadata": {},
     "output_type": "execute_result"
    }
   ],
   "source": [
    "len(ratings)"
   ]
  },
  {
   "cell_type": "code",
   "execution_count": 42,
   "id": "34091a14",
   "metadata": {},
   "outputs": [],
   "source": [
    "votes = []\n",
    "vs = driver.find_elements(By.XPATH,'//p[@class=\"text-muted text-small\"][3]/span[2]')\n",
    "for i in vs:\n",
    "    z = i.text\n",
    "    votes.append(z)"
   ]
  },
  {
   "cell_type": "code",
   "execution_count": 44,
   "id": "f32d727d",
   "metadata": {},
   "outputs": [
    {
     "data": {
      "text/plain": [
       "100"
      ]
     },
     "execution_count": 44,
     "metadata": {},
     "output_type": "execute_result"
    }
   ],
   "source": [
    "len(votes)"
   ]
  },
  {
   "cell_type": "code",
   "execution_count": 45,
   "id": "ded38dd3",
   "metadata": {},
   "outputs": [
    {
     "data": {
      "text/html": [
       "<div>\n",
       "<style scoped>\n",
       "    .dataframe tbody tr th:only-of-type {\n",
       "        vertical-align: middle;\n",
       "    }\n",
       "\n",
       "    .dataframe tbody tr th {\n",
       "        vertical-align: top;\n",
       "    }\n",
       "\n",
       "    .dataframe thead th {\n",
       "        text-align: right;\n",
       "    }\n",
       "</style>\n",
       "<table border=\"1\" class=\"dataframe\">\n",
       "  <thead>\n",
       "    <tr style=\"text-align: right;\">\n",
       "      <th></th>\n",
       "      <th>Name</th>\n",
       "      <th>Year Span</th>\n",
       "      <th>Genre</th>\n",
       "      <th>Run Time</th>\n",
       "      <th>Ratings</th>\n",
       "      <th>Votes</th>\n",
       "    </tr>\n",
       "  </thead>\n",
       "  <tbody>\n",
       "    <tr>\n",
       "      <th>1</th>\n",
       "      <td>Game of Thrones</td>\n",
       "      <td>(2011–2019)</td>\n",
       "      <td>Action, Adventure, Drama</td>\n",
       "      <td>57 min</td>\n",
       "      <td>9.2</td>\n",
       "      <td>2,203,066</td>\n",
       "    </tr>\n",
       "    <tr>\n",
       "      <th>2</th>\n",
       "      <td>Stranger Things</td>\n",
       "      <td>(2016–2025)</td>\n",
       "      <td>Drama, Fantasy, Horror</td>\n",
       "      <td>51 min</td>\n",
       "      <td>8.7</td>\n",
       "      <td>1,274,880</td>\n",
       "    </tr>\n",
       "    <tr>\n",
       "      <th>3</th>\n",
       "      <td>The Walking Dead</td>\n",
       "      <td>(2010–2022)</td>\n",
       "      <td>Drama, Horror, Thriller</td>\n",
       "      <td>44 min</td>\n",
       "      <td>8.1</td>\n",
       "      <td>1,045,361</td>\n",
       "    </tr>\n",
       "    <tr>\n",
       "      <th>4</th>\n",
       "      <td>13 Reasons Why</td>\n",
       "      <td>(2017–2020)</td>\n",
       "      <td>Drama, Mystery, Thriller</td>\n",
       "      <td>60 min</td>\n",
       "      <td>7.5</td>\n",
       "      <td>307,229</td>\n",
       "    </tr>\n",
       "    <tr>\n",
       "      <th>5</th>\n",
       "      <td>The 100</td>\n",
       "      <td>(2014–2020)</td>\n",
       "      <td>Drama, Mystery, Sci-Fi</td>\n",
       "      <td>43 min</td>\n",
       "      <td>7.6</td>\n",
       "      <td>266,338</td>\n",
       "    </tr>\n",
       "    <tr>\n",
       "      <th>...</th>\n",
       "      <td>...</td>\n",
       "      <td>...</td>\n",
       "      <td>...</td>\n",
       "      <td>...</td>\n",
       "      <td>...</td>\n",
       "      <td>...</td>\n",
       "    </tr>\n",
       "    <tr>\n",
       "      <th>96</th>\n",
       "      <td>Reign</td>\n",
       "      <td>(2013–2017)</td>\n",
       "      <td>Drama</td>\n",
       "      <td>42 min</td>\n",
       "      <td>7.5</td>\n",
       "      <td>52,701</td>\n",
       "    </tr>\n",
       "    <tr>\n",
       "      <th>97</th>\n",
       "      <td>A Series of Unfortunate Events</td>\n",
       "      <td>(2017–2019)</td>\n",
       "      <td>Adventure, Comedy, Drama</td>\n",
       "      <td>50 min</td>\n",
       "      <td>7.8</td>\n",
       "      <td>64,751</td>\n",
       "    </tr>\n",
       "    <tr>\n",
       "      <th>98</th>\n",
       "      <td>Criminal Minds</td>\n",
       "      <td>(2005– )</td>\n",
       "      <td>Crime, Drama, Mystery</td>\n",
       "      <td>42 min</td>\n",
       "      <td>8.1</td>\n",
       "      <td>210,950</td>\n",
       "    </tr>\n",
       "    <tr>\n",
       "      <th>99</th>\n",
       "      <td>Scream: The TV Series</td>\n",
       "      <td>(2015–2019)</td>\n",
       "      <td>Comedy, Crime, Drama</td>\n",
       "      <td>45 min</td>\n",
       "      <td>7</td>\n",
       "      <td>43,879</td>\n",
       "    </tr>\n",
       "    <tr>\n",
       "      <th>100</th>\n",
       "      <td>The Haunting of Hill House</td>\n",
       "      <td>(2018)</td>\n",
       "      <td>Drama, Horror, Mystery</td>\n",
       "      <td>572 min</td>\n",
       "      <td>8.6</td>\n",
       "      <td>265,714</td>\n",
       "    </tr>\n",
       "  </tbody>\n",
       "</table>\n",
       "<p>100 rows × 6 columns</p>\n",
       "</div>"
      ],
      "text/plain": [
       "                               Name    Year Span                     Genre  \\\n",
       "1                   Game of Thrones  (2011–2019)  Action, Adventure, Drama   \n",
       "2                   Stranger Things  (2016–2025)    Drama, Fantasy, Horror   \n",
       "3                  The Walking Dead  (2010–2022)   Drama, Horror, Thriller   \n",
       "4                    13 Reasons Why  (2017–2020)  Drama, Mystery, Thriller   \n",
       "5                           The 100  (2014–2020)    Drama, Mystery, Sci-Fi   \n",
       "..                              ...          ...                       ...   \n",
       "96                            Reign  (2013–2017)                     Drama   \n",
       "97   A Series of Unfortunate Events  (2017–2019)  Adventure, Comedy, Drama   \n",
       "98                   Criminal Minds     (2005– )     Crime, Drama, Mystery   \n",
       "99            Scream: The TV Series  (2015–2019)      Comedy, Crime, Drama   \n",
       "100      The Haunting of Hill House       (2018)    Drama, Horror, Mystery   \n",
       "\n",
       "    Run Time Ratings      Votes  \n",
       "1     57 min     9.2  2,203,066  \n",
       "2     51 min     8.7  1,274,880  \n",
       "3     44 min     8.1  1,045,361  \n",
       "4     60 min     7.5    307,229  \n",
       "5     43 min     7.6    266,338  \n",
       "..       ...     ...        ...  \n",
       "96    42 min     7.5     52,701  \n",
       "97    50 min     7.8     64,751  \n",
       "98    42 min     8.1    210,950  \n",
       "99    45 min       7     43,879  \n",
       "100  572 min     8.6    265,714  \n",
       "\n",
       "[100 rows x 6 columns]"
      ]
     },
     "execution_count": 45,
     "metadata": {},
     "output_type": "execute_result"
    }
   ],
   "source": [
    "df = pd.DataFrame({'Name':name,'Year Span':year_span,'Genre':genre,'Run Time':run_time,'Ratings':ratings,'Votes':votes},index = range(1,101))\n",
    "df"
   ]
  },
  {
   "cell_type": "markdown",
   "id": "1c23a759",
   "metadata": {},
   "source": [
    "# 8. Details of Datasets from UCI machine learning repositories.\n",
    "\n",
    "Url = https://archive.ics.uci.edu/\n",
    "    \n",
    "You have to find the following details:\n",
    "    \n",
    "A) Dataset name \n",
    "\n",
    "B) Data type \n",
    "\n",
    "C) Task \n",
    "\n",
    "D) Attribute type \n",
    "\n",
    "E) No of instances \n",
    "\n",
    "F) No of attribute\n",
    "\n",
    "G) Year \n",
    "\n",
    "Note: - from the home page you have to go to the Show All Dataset page through code. "
   ]
  },
  {
   "cell_type": "code",
   "execution_count": 46,
   "id": "71fd30fb",
   "metadata": {},
   "outputs": [],
   "source": [
    "driver = webdriver.Chrome()\n",
    "driver.get('https://archive.ics.uci.edu/')"
   ]
  },
  {
   "cell_type": "code",
   "execution_count": 47,
   "id": "555e765a",
   "metadata": {},
   "outputs": [],
   "source": [
    "charts = driver.find_element(By.XPATH,\"/html/body/div/div[1]/div[1]/main/div/div[1]/div/div/div/a[1]\")\n",
    "charts.click()"
   ]
  },
  {
   "cell_type": "code",
   "execution_count": 48,
   "id": "3b6c6f2f",
   "metadata": {},
   "outputs": [],
   "source": [
    "dataset_name = []\n",
    "dn = driver.find_elements(By.XPATH,'//h2[@class=\"truncate text-primary\"]')\n",
    "for i in dn:\n",
    "    z = i.text\n",
    "    dataset_name.append(z)"
   ]
  },
  {
   "cell_type": "code",
   "execution_count": 50,
   "id": "36578790",
   "metadata": {},
   "outputs": [
    {
     "data": {
      "text/plain": [
       "25"
      ]
     },
     "execution_count": 50,
     "metadata": {},
     "output_type": "execute_result"
    }
   ],
   "source": [
    "len(dataset_name)"
   ]
  },
  {
   "cell_type": "code",
   "execution_count": 57,
   "id": "97f40914",
   "metadata": {},
   "outputs": [],
   "source": [
    "datatype = []\n",
    "dt = driver.find_elements(By.XPATH,'//div[@class=\"my-2 hidden gap-4 md:grid grid-cols-12\"]/div[2]')\n",
    "for i in dt:\n",
    "    z = i.text\n",
    "    datatype.append(z)"
   ]
  },
  {
   "cell_type": "code",
   "execution_count": 59,
   "id": "f57c7fc0",
   "metadata": {},
   "outputs": [
    {
     "data": {
      "text/plain": [
       "25"
      ]
     },
     "execution_count": 59,
     "metadata": {},
     "output_type": "execute_result"
    }
   ],
   "source": [
    "len(datatype)"
   ]
  },
  {
   "cell_type": "code",
   "execution_count": 60,
   "id": "677600af",
   "metadata": {},
   "outputs": [],
   "source": [
    "task = []\n",
    "ts = driver.find_elements(By.XPATH,'//div[@class=\"my-2 hidden gap-4 md:grid grid-cols-12\"]/div[1]')\n",
    "for i in ts:\n",
    "    z = i.text\n",
    "    task.append(z)"
   ]
  },
  {
   "cell_type": "code",
   "execution_count": 62,
   "id": "af0007fe",
   "metadata": {},
   "outputs": [
    {
     "data": {
      "text/plain": [
       "25"
      ]
     },
     "execution_count": 62,
     "metadata": {},
     "output_type": "execute_result"
    }
   ],
   "source": [
    "len(task)"
   ]
  },
  {
   "cell_type": "code",
   "execution_count": 63,
   "id": "b2f9fa42",
   "metadata": {},
   "outputs": [],
   "source": [
    "no_of_inst = []\n",
    "ni = driver.find_elements(By.XPATH,'//div[@class=\"my-2 hidden gap-4 md:grid grid-cols-12\"]/div[3]')\n",
    "for i in ni:\n",
    "    z = i.text\n",
    "    no_of_inst.append(z)"
   ]
  },
  {
   "cell_type": "code",
   "execution_count": 65,
   "id": "4425f839",
   "metadata": {},
   "outputs": [
    {
     "data": {
      "text/plain": [
       "25"
      ]
     },
     "execution_count": 65,
     "metadata": {},
     "output_type": "execute_result"
    }
   ],
   "source": [
    "len(no_of_inst)"
   ]
  },
  {
   "cell_type": "code",
   "execution_count": 66,
   "id": "165fa33a",
   "metadata": {},
   "outputs": [],
   "source": [
    "no_of_attri = []\n",
    "na = driver.find_elements(By.XPATH,'//div[@class=\"my-2 hidden gap-4 md:grid grid-cols-12\"]/div[4]')\n",
    "for i in na:\n",
    "    z = i.text\n",
    "    no_of_attri.append(z)"
   ]
  },
  {
   "cell_type": "code",
   "execution_count": 68,
   "id": "eba9283e",
   "metadata": {},
   "outputs": [
    {
     "data": {
      "text/plain": [
       "25"
      ]
     },
     "execution_count": 68,
     "metadata": {},
     "output_type": "execute_result"
    }
   ],
   "source": [
    "len(no_of_attri)"
   ]
  },
  {
   "cell_type": "code",
   "execution_count": 69,
   "id": "17462db2",
   "metadata": {},
   "outputs": [],
   "source": [
    "url = []\n",
    "link = driver.find_elements(By.XPATH,'//a[@class=\"link-hover link text-xl font-semibold\"]')\n",
    "for i in link:\n",
    "    url.append(i.get_attribute('href'))"
   ]
  },
  {
   "cell_type": "code",
   "execution_count": 71,
   "id": "800930cb",
   "metadata": {},
   "outputs": [
    {
     "data": {
      "text/plain": [
       "25"
      ]
     },
     "execution_count": 71,
     "metadata": {},
     "output_type": "execute_result"
    }
   ],
   "source": [
    "len(url) "
   ]
  },
  {
   "cell_type": "code",
   "execution_count": 78,
   "id": "7ed84a6a",
   "metadata": {},
   "outputs": [],
   "source": [
    "attribute_type = []\n",
    "for x in url:\n",
    "    driver.get(x)\n",
    "    time.sleep(2)\n",
    "    try:\n",
    "        att = driver.find_element(By.XPATH,'/html/body/div/div[1]/div[1]/main/div/div[1]/div[1]/div[2]/div[2]/div[4]/p')\n",
    "        attribute_type.append(att.text) \n",
    "    except NoSuchElementException:\n",
    "        attribute_type.append('-')       "
   ]
  },
  {
   "cell_type": "code",
   "execution_count": 80,
   "id": "c25e5715",
   "metadata": {},
   "outputs": [
    {
     "data": {
      "text/plain": [
       "25"
      ]
     },
     "execution_count": 80,
     "metadata": {},
     "output_type": "execute_result"
    }
   ],
   "source": [
    "len(attribute_type)"
   ]
  },
  {
   "cell_type": "code",
   "execution_count": 83,
   "id": "92e5702b",
   "metadata": {},
   "outputs": [],
   "source": [
    "year = []\n",
    "for x in url:\n",
    "    driver.get(x)\n",
    "    time.sleep(2)\n",
    "    try:\n",
    "        yr = driver.find_element(By.XPATH,'/html/body/div/div[1]/div[1]/main/div/div[1]/div[1]/div[1]/div[2]/h2')\n",
    "        year.append(yr.text)\n",
    "    except NoSuchElementException:\n",
    "        year.append('-')"
   ]
  },
  {
   "cell_type": "code",
   "execution_count": 85,
   "id": "7a415668",
   "metadata": {},
   "outputs": [
    {
     "data": {
      "text/plain": [
       "25"
      ]
     },
     "execution_count": 85,
     "metadata": {},
     "output_type": "execute_result"
    }
   ],
   "source": [
    "len(year)"
   ]
  },
  {
   "cell_type": "code",
   "execution_count": 86,
   "id": "26f1e029",
   "metadata": {},
   "outputs": [
    {
     "data": {
      "text/html": [
       "<div>\n",
       "<style scoped>\n",
       "    .dataframe tbody tr th:only-of-type {\n",
       "        vertical-align: middle;\n",
       "    }\n",
       "\n",
       "    .dataframe tbody tr th {\n",
       "        vertical-align: top;\n",
       "    }\n",
       "\n",
       "    .dataframe thead th {\n",
       "        text-align: right;\n",
       "    }\n",
       "</style>\n",
       "<table border=\"1\" class=\"dataframe\">\n",
       "  <thead>\n",
       "    <tr style=\"text-align: right;\">\n",
       "      <th></th>\n",
       "      <th>Dataset Name</th>\n",
       "      <th>Data Type</th>\n",
       "      <th>Task</th>\n",
       "      <th>Attribute Type</th>\n",
       "      <th>No. of Instances</th>\n",
       "      <th>No.of Attribute</th>\n",
       "      <th>Year</th>\n",
       "    </tr>\n",
       "  </thead>\n",
       "  <tbody>\n",
       "    <tr>\n",
       "      <th>1</th>\n",
       "      <td>Iris</td>\n",
       "      <td>Tabular</td>\n",
       "      <td>Classification</td>\n",
       "      <td>Real</td>\n",
       "      <td>150 Instances</td>\n",
       "      <td>4 Features</td>\n",
       "      <td>Donated on 6/30/1988</td>\n",
       "    </tr>\n",
       "    <tr>\n",
       "      <th>2</th>\n",
       "      <td>Heart Disease</td>\n",
       "      <td>Multivariate</td>\n",
       "      <td>Classification</td>\n",
       "      <td>Categorical, Integer, Real</td>\n",
       "      <td>303 Instances</td>\n",
       "      <td>13 Features</td>\n",
       "      <td>Donated on 6/30/1988</td>\n",
       "    </tr>\n",
       "    <tr>\n",
       "      <th>3</th>\n",
       "      <td>Adult</td>\n",
       "      <td>Multivariate</td>\n",
       "      <td>Classification</td>\n",
       "      <td>Categorical, Integer</td>\n",
       "      <td>48.84K Instances</td>\n",
       "      <td>14 Features</td>\n",
       "      <td>Donated on 4/30/1996</td>\n",
       "    </tr>\n",
       "    <tr>\n",
       "      <th>4</th>\n",
       "      <td>Dry Bean Dataset</td>\n",
       "      <td>Multivariate</td>\n",
       "      <td>Classification</td>\n",
       "      <td>Integer, Real</td>\n",
       "      <td>13.61K Instances</td>\n",
       "      <td>16 Features</td>\n",
       "      <td>Donated on 9/13/2020</td>\n",
       "    </tr>\n",
       "    <tr>\n",
       "      <th>5</th>\n",
       "      <td>Diabetes</td>\n",
       "      <td></td>\n",
       "      <td></td>\n",
       "      <td>Categorical, Integer</td>\n",
       "      <td></td>\n",
       "      <td>20 Features</td>\n",
       "      <td>-</td>\n",
       "    </tr>\n",
       "    <tr>\n",
       "      <th>6</th>\n",
       "      <td>Wine</td>\n",
       "      <td>Tabular</td>\n",
       "      <td>Classification</td>\n",
       "      <td>Integer, Real</td>\n",
       "      <td>178 Instances</td>\n",
       "      <td>13 Features</td>\n",
       "      <td>Donated on 6/30/1991</td>\n",
       "    </tr>\n",
       "    <tr>\n",
       "      <th>7</th>\n",
       "      <td>Breast Cancer Wisconsin (Diagnostic)</td>\n",
       "      <td>Multivariate</td>\n",
       "      <td>Classification</td>\n",
       "      <td>Real</td>\n",
       "      <td>569 Instances</td>\n",
       "      <td>30 Features</td>\n",
       "      <td>Donated on 10/31/1995</td>\n",
       "    </tr>\n",
       "    <tr>\n",
       "      <th>8</th>\n",
       "      <td>Car Evaluation</td>\n",
       "      <td>Multivariate</td>\n",
       "      <td>Classification</td>\n",
       "      <td>Categorical</td>\n",
       "      <td>1.73K Instances</td>\n",
       "      <td>6 Features</td>\n",
       "      <td>Donated on 5/31/1997</td>\n",
       "    </tr>\n",
       "    <tr>\n",
       "      <th>9</th>\n",
       "      <td>Rice (Cammeo and Osmancik)</td>\n",
       "      <td>Multivariate</td>\n",
       "      <td>Classification</td>\n",
       "      <td>Real</td>\n",
       "      <td>3.81K Instances</td>\n",
       "      <td>8 Features</td>\n",
       "      <td>Donated on 10/5/2019</td>\n",
       "    </tr>\n",
       "    <tr>\n",
       "      <th>10</th>\n",
       "      <td>Mushroom</td>\n",
       "      <td>Multivariate</td>\n",
       "      <td>Classification</td>\n",
       "      <td>Categorical</td>\n",
       "      <td>8.12K Instances</td>\n",
       "      <td>22 Features</td>\n",
       "      <td>Donated on 4/26/1987</td>\n",
       "    </tr>\n",
       "    <tr>\n",
       "      <th>11</th>\n",
       "      <td>Abalone</td>\n",
       "      <td>Tabular</td>\n",
       "      <td>Classification, Regression</td>\n",
       "      <td>Categorical, Integer, Real</td>\n",
       "      <td>4.18K Instances</td>\n",
       "      <td>8 Features</td>\n",
       "      <td>Donated on 11/30/1995</td>\n",
       "    </tr>\n",
       "    <tr>\n",
       "      <th>12</th>\n",
       "      <td>Wine Quality</td>\n",
       "      <td>Multivariate</td>\n",
       "      <td>Classification, Regression</td>\n",
       "      <td>Real</td>\n",
       "      <td>4.9K Instances</td>\n",
       "      <td>12 Features</td>\n",
       "      <td>Donated on 10/6/2009</td>\n",
       "    </tr>\n",
       "    <tr>\n",
       "      <th>13</th>\n",
       "      <td>Breast Cancer</td>\n",
       "      <td>Multivariate</td>\n",
       "      <td>Classification</td>\n",
       "      <td>Categorical</td>\n",
       "      <td>286 Instances</td>\n",
       "      <td>9 Features</td>\n",
       "      <td>Donated on 7/10/1988</td>\n",
       "    </tr>\n",
       "    <tr>\n",
       "      <th>14</th>\n",
       "      <td>Statlog (German Credit Data)</td>\n",
       "      <td>Multivariate</td>\n",
       "      <td>Classification</td>\n",
       "      <td>Categorical, Integer</td>\n",
       "      <td>1K Instances</td>\n",
       "      <td>20 Features</td>\n",
       "      <td>Donated on 11/16/1994</td>\n",
       "    </tr>\n",
       "    <tr>\n",
       "      <th>15</th>\n",
       "      <td>Bank Marketing</td>\n",
       "      <td>Multivariate</td>\n",
       "      <td>Classification</td>\n",
       "      <td>Categorical, Integer</td>\n",
       "      <td>45.21K Instances</td>\n",
       "      <td>17 Features</td>\n",
       "      <td>Donated on 2/13/2012</td>\n",
       "    </tr>\n",
       "    <tr>\n",
       "      <th>16</th>\n",
       "      <td>Census Income</td>\n",
       "      <td>Multivariate</td>\n",
       "      <td>Classification</td>\n",
       "      <td>Categorical, Integer</td>\n",
       "      <td>48.84K Instances</td>\n",
       "      <td>14 Features</td>\n",
       "      <td>Donated on 4/30/1996</td>\n",
       "    </tr>\n",
       "    <tr>\n",
       "      <th>17</th>\n",
       "      <td>Glass Identification</td>\n",
       "      <td>Multivariate</td>\n",
       "      <td>Classification</td>\n",
       "      <td>Real</td>\n",
       "      <td>214 Instances</td>\n",
       "      <td>9 Features</td>\n",
       "      <td>Donated on 8/31/1987</td>\n",
       "    </tr>\n",
       "    <tr>\n",
       "      <th>18</th>\n",
       "      <td>Breast Cancer Wisconsin (Original)</td>\n",
       "      <td>Multivariate</td>\n",
       "      <td>Classification</td>\n",
       "      <td>Integer</td>\n",
       "      <td>699 Instances</td>\n",
       "      <td>9 Features</td>\n",
       "      <td>Donated on 7/14/1992</td>\n",
       "    </tr>\n",
       "    <tr>\n",
       "      <th>19</th>\n",
       "      <td>Automobile</td>\n",
       "      <td>Multivariate</td>\n",
       "      <td>Regression</td>\n",
       "      <td>Categorical, Integer, Real</td>\n",
       "      <td>205 Instances</td>\n",
       "      <td>25 Features</td>\n",
       "      <td>Donated on 5/18/1987</td>\n",
       "    </tr>\n",
       "    <tr>\n",
       "      <th>20</th>\n",
       "      <td>Auto MPG</td>\n",
       "      <td>Multivariate</td>\n",
       "      <td>Regression</td>\n",
       "      <td>Real, Categorical, Integer</td>\n",
       "      <td>398 Instances</td>\n",
       "      <td>7 Features</td>\n",
       "      <td>Donated on 7/6/1993</td>\n",
       "    </tr>\n",
       "    <tr>\n",
       "      <th>21</th>\n",
       "      <td>Thyroid Disease</td>\n",
       "      <td>Multivariate, Domain-Theory</td>\n",
       "      <td>Classification</td>\n",
       "      <td>Categorical, Real</td>\n",
       "      <td>7.2K Instances</td>\n",
       "      <td>5 Features</td>\n",
       "      <td>Donated on 12/31/1986</td>\n",
       "    </tr>\n",
       "    <tr>\n",
       "      <th>22</th>\n",
       "      <td>Spambase</td>\n",
       "      <td>Multivariate</td>\n",
       "      <td>Classification</td>\n",
       "      <td>Integer, Real</td>\n",
       "      <td>4.6K Instances</td>\n",
       "      <td>57 Features</td>\n",
       "      <td>Donated on 6/30/1999</td>\n",
       "    </tr>\n",
       "    <tr>\n",
       "      <th>23</th>\n",
       "      <td>Predict students' dropout and academic success</td>\n",
       "      <td>Tabular</td>\n",
       "      <td>Classification</td>\n",
       "      <td>-</td>\n",
       "      <td>4.42K Instances</td>\n",
       "      <td>36 Features</td>\n",
       "      <td>Donated on 12/12/2021</td>\n",
       "    </tr>\n",
       "    <tr>\n",
       "      <th>24</th>\n",
       "      <td>Student Performance</td>\n",
       "      <td>Multivariate</td>\n",
       "      <td>Classification, Regression</td>\n",
       "      <td>Integer</td>\n",
       "      <td>649 Instances</td>\n",
       "      <td>33 Features</td>\n",
       "      <td>Donated on 11/26/2014</td>\n",
       "    </tr>\n",
       "    <tr>\n",
       "      <th>25</th>\n",
       "      <td>Credit Approval</td>\n",
       "      <td>Multivariate</td>\n",
       "      <td>Classification</td>\n",
       "      <td>Categorical, Integer, Real</td>\n",
       "      <td>690 Instances</td>\n",
       "      <td>15 Features</td>\n",
       "      <td>-</td>\n",
       "    </tr>\n",
       "  </tbody>\n",
       "</table>\n",
       "</div>"
      ],
      "text/plain": [
       "                                      Dataset Name  \\\n",
       "1                                             Iris   \n",
       "2                                    Heart Disease   \n",
       "3                                            Adult   \n",
       "4                                 Dry Bean Dataset   \n",
       "5                                         Diabetes   \n",
       "6                                             Wine   \n",
       "7             Breast Cancer Wisconsin (Diagnostic)   \n",
       "8                                   Car Evaluation   \n",
       "9                       Rice (Cammeo and Osmancik)   \n",
       "10                                        Mushroom   \n",
       "11                                         Abalone   \n",
       "12                                    Wine Quality   \n",
       "13                                   Breast Cancer   \n",
       "14                    Statlog (German Credit Data)   \n",
       "15                                  Bank Marketing   \n",
       "16                                   Census Income   \n",
       "17                            Glass Identification   \n",
       "18              Breast Cancer Wisconsin (Original)   \n",
       "19                                      Automobile   \n",
       "20                                        Auto MPG   \n",
       "21                                 Thyroid Disease   \n",
       "22                                        Spambase   \n",
       "23  Predict students' dropout and academic success   \n",
       "24                             Student Performance   \n",
       "25                                 Credit Approval   \n",
       "\n",
       "                      Data Type                        Task  \\\n",
       "1                       Tabular              Classification   \n",
       "2                  Multivariate              Classification   \n",
       "3                  Multivariate              Classification   \n",
       "4                  Multivariate              Classification   \n",
       "5                                                             \n",
       "6                       Tabular              Classification   \n",
       "7                  Multivariate              Classification   \n",
       "8                  Multivariate              Classification   \n",
       "9                  Multivariate              Classification   \n",
       "10                 Multivariate              Classification   \n",
       "11                      Tabular  Classification, Regression   \n",
       "12                 Multivariate  Classification, Regression   \n",
       "13                 Multivariate              Classification   \n",
       "14                 Multivariate              Classification   \n",
       "15                 Multivariate              Classification   \n",
       "16                 Multivariate              Classification   \n",
       "17                 Multivariate              Classification   \n",
       "18                 Multivariate              Classification   \n",
       "19                 Multivariate                  Regression   \n",
       "20                 Multivariate                  Regression   \n",
       "21  Multivariate, Domain-Theory              Classification   \n",
       "22                 Multivariate              Classification   \n",
       "23                      Tabular              Classification   \n",
       "24                 Multivariate  Classification, Regression   \n",
       "25                 Multivariate              Classification   \n",
       "\n",
       "                Attribute Type  No. of Instances No.of Attribute  \\\n",
       "1                         Real     150 Instances      4 Features   \n",
       "2   Categorical, Integer, Real     303 Instances     13 Features   \n",
       "3         Categorical, Integer  48.84K Instances     14 Features   \n",
       "4                Integer, Real  13.61K Instances     16 Features   \n",
       "5         Categorical, Integer                       20 Features   \n",
       "6                Integer, Real     178 Instances     13 Features   \n",
       "7                         Real     569 Instances     30 Features   \n",
       "8                  Categorical   1.73K Instances      6 Features   \n",
       "9                         Real   3.81K Instances      8 Features   \n",
       "10                 Categorical   8.12K Instances     22 Features   \n",
       "11  Categorical, Integer, Real   4.18K Instances      8 Features   \n",
       "12                        Real    4.9K Instances     12 Features   \n",
       "13                 Categorical     286 Instances      9 Features   \n",
       "14        Categorical, Integer      1K Instances     20 Features   \n",
       "15        Categorical, Integer  45.21K Instances     17 Features   \n",
       "16        Categorical, Integer  48.84K Instances     14 Features   \n",
       "17                        Real     214 Instances      9 Features   \n",
       "18                     Integer     699 Instances      9 Features   \n",
       "19  Categorical, Integer, Real     205 Instances     25 Features   \n",
       "20  Real, Categorical, Integer     398 Instances      7 Features   \n",
       "21           Categorical, Real    7.2K Instances      5 Features   \n",
       "22               Integer, Real    4.6K Instances     57 Features   \n",
       "23                           -   4.42K Instances     36 Features   \n",
       "24                     Integer     649 Instances     33 Features   \n",
       "25  Categorical, Integer, Real     690 Instances     15 Features   \n",
       "\n",
       "                     Year  \n",
       "1    Donated on 6/30/1988  \n",
       "2    Donated on 6/30/1988  \n",
       "3    Donated on 4/30/1996  \n",
       "4    Donated on 9/13/2020  \n",
       "5                       -  \n",
       "6    Donated on 6/30/1991  \n",
       "7   Donated on 10/31/1995  \n",
       "8    Donated on 5/31/1997  \n",
       "9    Donated on 10/5/2019  \n",
       "10   Donated on 4/26/1987  \n",
       "11  Donated on 11/30/1995  \n",
       "12   Donated on 10/6/2009  \n",
       "13   Donated on 7/10/1988  \n",
       "14  Donated on 11/16/1994  \n",
       "15   Donated on 2/13/2012  \n",
       "16   Donated on 4/30/1996  \n",
       "17   Donated on 8/31/1987  \n",
       "18   Donated on 7/14/1992  \n",
       "19   Donated on 5/18/1987  \n",
       "20    Donated on 7/6/1993  \n",
       "21  Donated on 12/31/1986  \n",
       "22   Donated on 6/30/1999  \n",
       "23  Donated on 12/12/2021  \n",
       "24  Donated on 11/26/2014  \n",
       "25                      -  "
      ]
     },
     "execution_count": 86,
     "metadata": {},
     "output_type": "execute_result"
    }
   ],
   "source": [
    "df = pd.DataFrame({'Dataset Name':dataset_name,'Data Type':datatype,'Task':task,'Attribute Type':attribute_type,'No. of Instances':no_of_inst,'No.of Attribute':no_of_attri,'Year':year},index = range(1,26))\n",
    "df"
   ]
  },
  {
   "cell_type": "code",
   "execution_count": null,
   "id": "ecc0edfd",
   "metadata": {},
   "outputs": [],
   "source": []
  }
 ],
 "metadata": {
  "kernelspec": {
   "display_name": "Python 3 (ipykernel)",
   "language": "python",
   "name": "python3"
  },
  "language_info": {
   "codemirror_mode": {
    "name": "ipython",
    "version": 3
   },
   "file_extension": ".py",
   "mimetype": "text/x-python",
   "name": "python",
   "nbconvert_exporter": "python",
   "pygments_lexer": "ipython3",
   "version": "3.9.13"
  }
 },
 "nbformat": 4,
 "nbformat_minor": 5
}
